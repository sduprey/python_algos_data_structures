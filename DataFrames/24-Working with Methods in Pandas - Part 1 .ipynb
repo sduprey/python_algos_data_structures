{
 "cells": [
  {
   "cell_type": "markdown",
   "metadata": {},
   "source": [
    "# Working with Methods in Pandas - Part 1 "
   ]
  },
  {
   "cell_type": "code",
   "execution_count": 4,
   "metadata": {},
   "outputs": [],
   "source": [
    "import pandas as pd ; import numpy as np"
   ]
  },
  {
   "cell_type": "code",
   "execution_count": 5,
   "metadata": {},
   "outputs": [],
   "source": [
    "date=pd.date_range(\n",
    "    start=\"2018\",end=\"2019\", freq=\"BM\")"
   ]
  },
  {
   "cell_type": "code",
   "execution_count": 6,
   "metadata": {},
   "outputs": [
    {
     "data": {
      "text/plain": [
       "2018-01-31    1.685786\n",
       "2018-02-28    2.113793\n",
       "2018-03-30   -0.851731\n",
       "2018-04-30   -0.149779\n",
       "2018-05-31    2.072918\n",
       "2018-06-29    0.348972\n",
       "2018-07-31   -0.413509\n",
       "2018-08-31    0.595509\n",
       "2018-09-28    0.317852\n",
       "2018-10-31    0.093565\n",
       "2018-11-30    0.706336\n",
       "2018-12-31   -0.620341\n",
       "Freq: BM, dtype: float64"
      ]
     },
     "execution_count": 6,
     "metadata": {},
     "output_type": "execute_result"
    }
   ],
   "source": [
    "ts=pd.Series(\n",
    "    np.random.randn(len(date)),index=date)\n",
    "ts"
   ]
  },
  {
   "cell_type": "code",
   "execution_count": 7,
   "metadata": {},
   "outputs": [
    {
     "data": {
      "text/plain": [
       "DatetimeIndex(['2018-01-31', '2018-02-28', '2018-03-30', '2018-04-30',\n",
       "               '2018-05-31', '2018-06-29', '2018-07-31', '2018-08-31',\n",
       "               '2018-09-28', '2018-10-31', '2018-11-30', '2018-12-31'],\n",
       "              dtype='datetime64[ns]', freq='BM')"
      ]
     },
     "execution_count": 7,
     "metadata": {},
     "output_type": "execute_result"
    }
   ],
   "source": [
    "ts.index"
   ]
  },
  {
   "cell_type": "code",
   "execution_count": 8,
   "metadata": {},
   "outputs": [
    {
     "data": {
      "text/plain": [
       "DatetimeIndex(['2018-01-31', '2018-02-28', '2018-03-30', '2018-04-30',\n",
       "               '2018-05-31'],\n",
       "              dtype='datetime64[ns]', freq='BM')"
      ]
     },
     "execution_count": 8,
     "metadata": {},
     "output_type": "execute_result"
    }
   ],
   "source": [
    "ts[:5].index"
   ]
  },
  {
   "cell_type": "markdown",
   "metadata": {},
   "source": [
    "## Reading a Time Series Data Set"
   ]
  },
  {
   "cell_type": "code",
   "execution_count": 10,
   "metadata": {},
   "outputs": [],
   "source": [
    "fb=pd.read_csv(\"DataSets/FB.csv\")"
   ]
  },
  {
   "cell_type": "code",
   "execution_count": 11,
   "metadata": {},
   "outputs": [
    {
     "data": {
      "text/html": [
       "<div>\n",
       "<style scoped>\n",
       "    .dataframe tbody tr th:only-of-type {\n",
       "        vertical-align: middle;\n",
       "    }\n",
       "\n",
       "    .dataframe tbody tr th {\n",
       "        vertical-align: top;\n",
       "    }\n",
       "\n",
       "    .dataframe thead th {\n",
       "        text-align: right;\n",
       "    }\n",
       "</style>\n",
       "<table border=\"1\" class=\"dataframe\">\n",
       "  <thead>\n",
       "    <tr style=\"text-align: right;\">\n",
       "      <th></th>\n",
       "      <th>Date</th>\n",
       "      <th>Open</th>\n",
       "      <th>High</th>\n",
       "      <th>Low</th>\n",
       "      <th>Close</th>\n",
       "      <th>Adj Close</th>\n",
       "      <th>Volume</th>\n",
       "    </tr>\n",
       "  </thead>\n",
       "  <tbody>\n",
       "    <tr>\n",
       "      <th>0</th>\n",
       "      <td>2018-07-30</td>\n",
       "      <td>175.300003</td>\n",
       "      <td>175.300003</td>\n",
       "      <td>166.559998</td>\n",
       "      <td>171.059998</td>\n",
       "      <td>171.059998</td>\n",
       "      <td>65280800</td>\n",
       "    </tr>\n",
       "    <tr>\n",
       "      <th>1</th>\n",
       "      <td>2018-07-31</td>\n",
       "      <td>170.669998</td>\n",
       "      <td>174.240005</td>\n",
       "      <td>170.000000</td>\n",
       "      <td>172.580002</td>\n",
       "      <td>172.580002</td>\n",
       "      <td>40356500</td>\n",
       "    </tr>\n",
       "    <tr>\n",
       "      <th>2</th>\n",
       "      <td>2018-08-01</td>\n",
       "      <td>173.929993</td>\n",
       "      <td>175.080002</td>\n",
       "      <td>170.899994</td>\n",
       "      <td>171.649994</td>\n",
       "      <td>171.649994</td>\n",
       "      <td>34042100</td>\n",
       "    </tr>\n",
       "    <tr>\n",
       "      <th>3</th>\n",
       "      <td>2018-08-02</td>\n",
       "      <td>170.679993</td>\n",
       "      <td>176.789993</td>\n",
       "      <td>170.270004</td>\n",
       "      <td>176.369995</td>\n",
       "      <td>176.369995</td>\n",
       "      <td>32400000</td>\n",
       "    </tr>\n",
       "    <tr>\n",
       "      <th>4</th>\n",
       "      <td>2018-08-03</td>\n",
       "      <td>177.690002</td>\n",
       "      <td>178.850006</td>\n",
       "      <td>176.149994</td>\n",
       "      <td>177.779999</td>\n",
       "      <td>177.779999</td>\n",
       "      <td>24763400</td>\n",
       "    </tr>\n",
       "  </tbody>\n",
       "</table>\n",
       "</div>"
      ],
      "text/plain": [
       "         Date        Open        High         Low       Close   Adj Close  \\\n",
       "0  2018-07-30  175.300003  175.300003  166.559998  171.059998  171.059998   \n",
       "1  2018-07-31  170.669998  174.240005  170.000000  172.580002  172.580002   \n",
       "2  2018-08-01  173.929993  175.080002  170.899994  171.649994  171.649994   \n",
       "3  2018-08-02  170.679993  176.789993  170.270004  176.369995  176.369995   \n",
       "4  2018-08-03  177.690002  178.850006  176.149994  177.779999  177.779999   \n",
       "\n",
       "     Volume  \n",
       "0  65280800  \n",
       "1  40356500  \n",
       "2  34042100  \n",
       "3  32400000  \n",
       "4  24763400  "
      ]
     },
     "execution_count": 11,
     "metadata": {},
     "output_type": "execute_result"
    }
   ],
   "source": [
    "fb.head()"
   ]
  },
  {
   "cell_type": "markdown",
   "metadata": {},
   "source": [
    "## Converting date to index"
   ]
  },
  {
   "cell_type": "code",
   "execution_count": 12,
   "metadata": {},
   "outputs": [
    {
     "data": {
      "text/plain": [
       "Date          object\n",
       "Open         float64\n",
       "High         float64\n",
       "Low          float64\n",
       "Close        float64\n",
       "Adj Close    float64\n",
       "Volume         int64\n",
       "dtype: object"
      ]
     },
     "execution_count": 12,
     "metadata": {},
     "output_type": "execute_result"
    }
   ],
   "source": [
    "fb.dtypes"
   ]
  },
  {
   "cell_type": "code",
   "execution_count": 13,
   "metadata": {},
   "outputs": [],
   "source": [
    "fb=pd.read_csv(\n",
    "    \"DataSets/FB.csv\", parse_dates=[\"Date\"])"
   ]
  },
  {
   "cell_type": "code",
   "execution_count": 14,
   "metadata": {},
   "outputs": [],
   "source": [
    "fb=pd.read_csv(\n",
    "    \"DataSets/FB.csv\", \n",
    "    parse_dates=[\"Date\"], \n",
    "    index_col=\"Date\")"
   ]
  },
  {
   "cell_type": "code",
   "execution_count": 15,
   "metadata": {},
   "outputs": [
    {
     "data": {
      "text/plain": [
       "DatetimeIndex(['2018-07-30', '2018-07-31', '2018-08-01', '2018-08-02',\n",
       "               '2018-08-03', '2018-08-06', '2018-08-07', '2018-08-08',\n",
       "               '2018-08-09', '2018-08-10',\n",
       "               ...\n",
       "               '2019-07-16', '2019-07-17', '2019-07-18', '2019-07-19',\n",
       "               '2019-07-22', '2019-07-23', '2019-07-24', '2019-07-25',\n",
       "               '2019-07-26', '2019-07-29'],\n",
       "              dtype='datetime64[ns]', name='Date', length=251, freq=None)"
      ]
     },
     "execution_count": 15,
     "metadata": {},
     "output_type": "execute_result"
    }
   ],
   "source": [
    "fb.index"
   ]
  },
  {
   "cell_type": "code",
   "execution_count": 16,
   "metadata": {},
   "outputs": [
    {
     "data": {
      "text/html": [
       "<div>\n",
       "<style scoped>\n",
       "    .dataframe tbody tr th:only-of-type {\n",
       "        vertical-align: middle;\n",
       "    }\n",
       "\n",
       "    .dataframe tbody tr th {\n",
       "        vertical-align: top;\n",
       "    }\n",
       "\n",
       "    .dataframe thead th {\n",
       "        text-align: right;\n",
       "    }\n",
       "</style>\n",
       "<table border=\"1\" class=\"dataframe\">\n",
       "  <thead>\n",
       "    <tr style=\"text-align: right;\">\n",
       "      <th></th>\n",
       "      <th>Open</th>\n",
       "      <th>High</th>\n",
       "      <th>Low</th>\n",
       "      <th>Close</th>\n",
       "      <th>Adj Close</th>\n",
       "      <th>Volume</th>\n",
       "    </tr>\n",
       "    <tr>\n",
       "      <th>Date</th>\n",
       "      <th></th>\n",
       "      <th></th>\n",
       "      <th></th>\n",
       "      <th></th>\n",
       "      <th></th>\n",
       "      <th></th>\n",
       "    </tr>\n",
       "  </thead>\n",
       "  <tbody>\n",
       "    <tr>\n",
       "      <th>2018-07-30</th>\n",
       "      <td>175.300003</td>\n",
       "      <td>175.300003</td>\n",
       "      <td>166.559998</td>\n",
       "      <td>171.059998</td>\n",
       "      <td>171.059998</td>\n",
       "      <td>65280800</td>\n",
       "    </tr>\n",
       "    <tr>\n",
       "      <th>2018-07-31</th>\n",
       "      <td>170.669998</td>\n",
       "      <td>174.240005</td>\n",
       "      <td>170.000000</td>\n",
       "      <td>172.580002</td>\n",
       "      <td>172.580002</td>\n",
       "      <td>40356500</td>\n",
       "    </tr>\n",
       "    <tr>\n",
       "      <th>2018-08-01</th>\n",
       "      <td>173.929993</td>\n",
       "      <td>175.080002</td>\n",
       "      <td>170.899994</td>\n",
       "      <td>171.649994</td>\n",
       "      <td>171.649994</td>\n",
       "      <td>34042100</td>\n",
       "    </tr>\n",
       "    <tr>\n",
       "      <th>2018-08-02</th>\n",
       "      <td>170.679993</td>\n",
       "      <td>176.789993</td>\n",
       "      <td>170.270004</td>\n",
       "      <td>176.369995</td>\n",
       "      <td>176.369995</td>\n",
       "      <td>32400000</td>\n",
       "    </tr>\n",
       "    <tr>\n",
       "      <th>2018-08-03</th>\n",
       "      <td>177.690002</td>\n",
       "      <td>178.850006</td>\n",
       "      <td>176.149994</td>\n",
       "      <td>177.779999</td>\n",
       "      <td>177.779999</td>\n",
       "      <td>24763400</td>\n",
       "    </tr>\n",
       "  </tbody>\n",
       "</table>\n",
       "</div>"
      ],
      "text/plain": [
       "                  Open        High         Low       Close   Adj Close  \\\n",
       "Date                                                                     \n",
       "2018-07-30  175.300003  175.300003  166.559998  171.059998  171.059998   \n",
       "2018-07-31  170.669998  174.240005  170.000000  172.580002  172.580002   \n",
       "2018-08-01  173.929993  175.080002  170.899994  171.649994  171.649994   \n",
       "2018-08-02  170.679993  176.789993  170.270004  176.369995  176.369995   \n",
       "2018-08-03  177.690002  178.850006  176.149994  177.779999  177.779999   \n",
       "\n",
       "              Volume  \n",
       "Date                  \n",
       "2018-07-30  65280800  \n",
       "2018-07-31  40356500  \n",
       "2018-08-01  34042100  \n",
       "2018-08-02  32400000  \n",
       "2018-08-03  24763400  "
      ]
     },
     "execution_count": 16,
     "metadata": {},
     "output_type": "execute_result"
    }
   ],
   "source": [
    "fb.head()"
   ]
  },
  {
   "cell_type": "markdown",
   "metadata": {},
   "source": [
    "## Working with Indexes"
   ]
  },
  {
   "cell_type": "code",
   "execution_count": 22,
   "metadata": {},
   "outputs": [
    {
     "data": {
      "text/plain": [
       "171.059998"
      ]
     },
     "execution_count": 22,
     "metadata": {},
     "output_type": "execute_result"
    }
   ],
   "source": [
    "fb.loc['2018-07-30'].Close.mean()"
   ]
  },
  {
   "cell_type": "code",
   "execution_count": 23,
   "metadata": {},
   "outputs": [
    {
     "data": {
      "text/html": [
       "<div>\n",
       "<style scoped>\n",
       "    .dataframe tbody tr th:only-of-type {\n",
       "        vertical-align: middle;\n",
       "    }\n",
       "\n",
       "    .dataframe tbody tr th {\n",
       "        vertical-align: top;\n",
       "    }\n",
       "\n",
       "    .dataframe thead th {\n",
       "        text-align: right;\n",
       "    }\n",
       "</style>\n",
       "<table border=\"1\" class=\"dataframe\">\n",
       "  <thead>\n",
       "    <tr style=\"text-align: right;\">\n",
       "      <th></th>\n",
       "      <th>Open</th>\n",
       "      <th>High</th>\n",
       "      <th>Low</th>\n",
       "      <th>Close</th>\n",
       "      <th>Adj Close</th>\n",
       "      <th>Volume</th>\n",
       "    </tr>\n",
       "    <tr>\n",
       "      <th>Date</th>\n",
       "      <th></th>\n",
       "      <th></th>\n",
       "      <th></th>\n",
       "      <th></th>\n",
       "      <th></th>\n",
       "      <th></th>\n",
       "    </tr>\n",
       "  </thead>\n",
       "  <tbody>\n",
       "    <tr>\n",
       "      <th>2019-07-05</th>\n",
       "      <td>196.179993</td>\n",
       "      <td>197.070007</td>\n",
       "      <td>194.169998</td>\n",
       "      <td>196.399994</td>\n",
       "      <td>196.399994</td>\n",
       "      <td>11164100</td>\n",
       "    </tr>\n",
       "    <tr>\n",
       "      <th>2019-07-08</th>\n",
       "      <td>195.190002</td>\n",
       "      <td>196.679993</td>\n",
       "      <td>193.639999</td>\n",
       "      <td>195.759995</td>\n",
       "      <td>195.759995</td>\n",
       "      <td>9723900</td>\n",
       "    </tr>\n",
       "    <tr>\n",
       "      <th>2019-07-09</th>\n",
       "      <td>194.970001</td>\n",
       "      <td>199.460007</td>\n",
       "      <td>194.889999</td>\n",
       "      <td>199.210007</td>\n",
       "      <td>199.210007</td>\n",
       "      <td>14698600</td>\n",
       "    </tr>\n",
       "    <tr>\n",
       "      <th>2019-07-10</th>\n",
       "      <td>200.000000</td>\n",
       "      <td>202.960007</td>\n",
       "      <td>199.669998</td>\n",
       "      <td>202.729996</td>\n",
       "      <td>202.729996</td>\n",
       "      <td>20571700</td>\n",
       "    </tr>\n",
       "  </tbody>\n",
       "</table>\n",
       "</div>"
      ],
      "text/plain": [
       "                  Open        High         Low       Close   Adj Close  \\\n",
       "Date                                                                     \n",
       "2019-07-05  196.179993  197.070007  194.169998  196.399994  196.399994   \n",
       "2019-07-08  195.190002  196.679993  193.639999  195.759995  195.759995   \n",
       "2019-07-09  194.970001  199.460007  194.889999  199.210007  199.210007   \n",
       "2019-07-10  200.000000  202.960007  199.669998  202.729996  202.729996   \n",
       "\n",
       "              Volume  \n",
       "Date                  \n",
       "2019-07-05  11164100  \n",
       "2019-07-08   9723900  \n",
       "2019-07-09  14698600  \n",
       "2019-07-10  20571700  "
      ]
     },
     "execution_count": 23,
     "metadata": {},
     "output_type": "execute_result"
    }
   ],
   "source": [
    "fb.loc[\"2019-07-05\":\"2019-07-10\"]"
   ]
  },
  {
   "cell_type": "code",
   "execution_count": 24,
   "metadata": {},
   "outputs": [
    {
     "data": {
      "text/plain": [
       "Timestamp('2019-07-22 00:00:00')"
      ]
     },
     "execution_count": 24,
     "metadata": {},
     "output_type": "execute_result"
    }
   ],
   "source": [
    "t=pd.to_datetime(\"7/22/2019\")\n",
    "t"
   ]
  },
  {
   "cell_type": "code",
   "execution_count": 25,
   "metadata": {},
   "outputs": [
    {
     "data": {
      "text/html": [
       "<div>\n",
       "<style scoped>\n",
       "    .dataframe tbody tr th:only-of-type {\n",
       "        vertical-align: middle;\n",
       "    }\n",
       "\n",
       "    .dataframe tbody tr th {\n",
       "        vertical-align: top;\n",
       "    }\n",
       "\n",
       "    .dataframe thead th {\n",
       "        text-align: right;\n",
       "    }\n",
       "</style>\n",
       "<table border=\"1\" class=\"dataframe\">\n",
       "  <thead>\n",
       "    <tr style=\"text-align: right;\">\n",
       "      <th></th>\n",
       "      <th>Open</th>\n",
       "      <th>High</th>\n",
       "      <th>Low</th>\n",
       "      <th>Close</th>\n",
       "      <th>Adj Close</th>\n",
       "      <th>Volume</th>\n",
       "    </tr>\n",
       "    <tr>\n",
       "      <th>Date</th>\n",
       "      <th></th>\n",
       "      <th></th>\n",
       "      <th></th>\n",
       "      <th></th>\n",
       "      <th></th>\n",
       "      <th></th>\n",
       "    </tr>\n",
       "  </thead>\n",
       "  <tbody>\n",
       "    <tr>\n",
       "      <th>2019-07-22</th>\n",
       "      <td>199.910004</td>\n",
       "      <td>202.570007</td>\n",
       "      <td>198.809998</td>\n",
       "      <td>202.320007</td>\n",
       "      <td>202.320007</td>\n",
       "      <td>13589000</td>\n",
       "    </tr>\n",
       "    <tr>\n",
       "      <th>2019-07-23</th>\n",
       "      <td>202.839996</td>\n",
       "      <td>204.240005</td>\n",
       "      <td>200.960007</td>\n",
       "      <td>202.360001</td>\n",
       "      <td>202.360001</td>\n",
       "      <td>14583700</td>\n",
       "    </tr>\n",
       "    <tr>\n",
       "      <th>2019-07-24</th>\n",
       "      <td>197.630005</td>\n",
       "      <td>204.809998</td>\n",
       "      <td>197.220001</td>\n",
       "      <td>204.660004</td>\n",
       "      <td>204.660004</td>\n",
       "      <td>32532500</td>\n",
       "    </tr>\n",
       "    <tr>\n",
       "      <th>2019-07-25</th>\n",
       "      <td>206.699997</td>\n",
       "      <td>208.660004</td>\n",
       "      <td>198.259995</td>\n",
       "      <td>200.710007</td>\n",
       "      <td>200.710007</td>\n",
       "      <td>39889900</td>\n",
       "    </tr>\n",
       "    <tr>\n",
       "      <th>2019-07-26</th>\n",
       "      <td>200.190002</td>\n",
       "      <td>202.880005</td>\n",
       "      <td>196.250000</td>\n",
       "      <td>199.750000</td>\n",
       "      <td>199.750000</td>\n",
       "      <td>24426700</td>\n",
       "    </tr>\n",
       "    <tr>\n",
       "      <th>2019-07-29</th>\n",
       "      <td>199.000000</td>\n",
       "      <td>199.590302</td>\n",
       "      <td>197.880005</td>\n",
       "      <td>198.059998</td>\n",
       "      <td>198.059998</td>\n",
       "      <td>754198</td>\n",
       "    </tr>\n",
       "  </tbody>\n",
       "</table>\n",
       "</div>"
      ],
      "text/plain": [
       "                  Open        High         Low       Close   Adj Close  \\\n",
       "Date                                                                     \n",
       "2019-07-22  199.910004  202.570007  198.809998  202.320007  202.320007   \n",
       "2019-07-23  202.839996  204.240005  200.960007  202.360001  202.360001   \n",
       "2019-07-24  197.630005  204.809998  197.220001  204.660004  204.660004   \n",
       "2019-07-25  206.699997  208.660004  198.259995  200.710007  200.710007   \n",
       "2019-07-26  200.190002  202.880005  196.250000  199.750000  199.750000   \n",
       "2019-07-29  199.000000  199.590302  197.880005  198.059998  198.059998   \n",
       "\n",
       "              Volume  \n",
       "Date                  \n",
       "2019-07-22  13589000  \n",
       "2019-07-23  14583700  \n",
       "2019-07-24  32532500  \n",
       "2019-07-25  39889900  \n",
       "2019-07-26  24426700  \n",
       "2019-07-29    754198  "
      ]
     },
     "execution_count": 25,
     "metadata": {},
     "output_type": "execute_result"
    }
   ],
   "source": [
    "fb.loc[fb.index>=t,:]"
   ]
  },
  {
   "cell_type": "markdown",
   "metadata": {},
   "source": [
    "## Dating the Data Set"
   ]
  },
  {
   "cell_type": "code",
   "execution_count": 26,
   "metadata": {},
   "outputs": [],
   "source": [
    "fb1=pd.read_csv(\"DataSets/FB-no-date.csv\",sep=\";\")"
   ]
  },
  {
   "cell_type": "code",
   "execution_count": 27,
   "metadata": {},
   "outputs": [
    {
     "data": {
      "text/html": [
       "<div>\n",
       "<style scoped>\n",
       "    .dataframe tbody tr th:only-of-type {\n",
       "        vertical-align: middle;\n",
       "    }\n",
       "\n",
       "    .dataframe tbody tr th {\n",
       "        vertical-align: top;\n",
       "    }\n",
       "\n",
       "    .dataframe thead th {\n",
       "        text-align: right;\n",
       "    }\n",
       "</style>\n",
       "<table border=\"1\" class=\"dataframe\">\n",
       "  <thead>\n",
       "    <tr style=\"text-align: right;\">\n",
       "      <th></th>\n",
       "      <th>Open</th>\n",
       "      <th>High</th>\n",
       "      <th>Low</th>\n",
       "      <th>Close</th>\n",
       "      <th>Adj Close</th>\n",
       "      <th>Volume</th>\n",
       "    </tr>\n",
       "  </thead>\n",
       "  <tbody>\n",
       "    <tr>\n",
       "      <th>0</th>\n",
       "      <td>162600006</td>\n",
       "      <td>163130005</td>\n",
       "      <td>161690002</td>\n",
       "      <td>162279999</td>\n",
       "      <td>162279999</td>\n",
       "      <td>11097800</td>\n",
       "    </tr>\n",
       "    <tr>\n",
       "      <th>1</th>\n",
       "      <td>163899994</td>\n",
       "      <td>167500000</td>\n",
       "      <td>163830002</td>\n",
       "      <td>167369995</td>\n",
       "      <td>167369995</td>\n",
       "      <td>18894700</td>\n",
       "    </tr>\n",
       "    <tr>\n",
       "      <th>2</th>\n",
       "      <td>167369995</td>\n",
       "      <td>171880005</td>\n",
       "      <td>166550003</td>\n",
       "      <td>171259995</td>\n",
       "      <td>171259995</td>\n",
       "      <td>28187900</td>\n",
       "    </tr>\n",
       "    <tr>\n",
       "      <th>3</th>\n",
       "      <td>172899994</td>\n",
       "      <td>173570007</td>\n",
       "      <td>171270004</td>\n",
       "      <td>172509995</td>\n",
       "      <td>172509995</td>\n",
       "      <td>21531700</td>\n",
       "    </tr>\n",
       "    <tr>\n",
       "      <th>4</th>\n",
       "      <td>171500000</td>\n",
       "      <td>171740005</td>\n",
       "      <td>167610001</td>\n",
       "      <td>169130005</td>\n",
       "      <td>169130005</td>\n",
       "      <td>18306500</td>\n",
       "    </tr>\n",
       "  </tbody>\n",
       "</table>\n",
       "</div>"
      ],
      "text/plain": [
       "        Open       High        Low      Close  Adj Close    Volume\n",
       "0  162600006  163130005  161690002  162279999  162279999  11097800\n",
       "1  163899994  167500000  163830002  167369995  167369995  18894700\n",
       "2  167369995  171880005  166550003  171259995  171259995  28187900\n",
       "3  172899994  173570007  171270004  172509995  172509995  21531700\n",
       "4  171500000  171740005  167610001  169130005  169130005  18306500"
      ]
     },
     "execution_count": 27,
     "metadata": {},
     "output_type": "execute_result"
    }
   ],
   "source": [
    "fb1.head()"
   ]
  },
  {
   "cell_type": "code",
   "execution_count": 28,
   "metadata": {},
   "outputs": [
    {
     "data": {
      "text/plain": [
       "DatetimeIndex(['2019-03-01', '2019-03-04', '2019-03-05', '2019-03-06',\n",
       "               '2019-03-07', '2019-03-08', '2019-03-11', '2019-03-12',\n",
       "               '2019-03-13', '2019-03-14', '2019-03-15', '2019-03-18',\n",
       "               '2019-03-19', '2019-03-20', '2019-03-21', '2019-03-22',\n",
       "               '2019-03-25', '2019-03-26', '2019-03-27', '2019-03-28',\n",
       "               '2019-03-29'],\n",
       "              dtype='datetime64[ns]', freq='B')"
      ]
     },
     "execution_count": 28,
     "metadata": {},
     "output_type": "execute_result"
    }
   ],
   "source": [
    "dates=pd.date_range(start=\"03/01/2019\", \n",
    "                    end=\"03/29/2019\", \n",
    "                    freq=\"B\") \n",
    "dates"
   ]
  },
  {
   "cell_type": "code",
   "execution_count": 29,
   "metadata": {},
   "outputs": [],
   "source": [
    "fb1.set_index(dates,inplace=True)"
   ]
  },
  {
   "cell_type": "code",
   "execution_count": 30,
   "metadata": {
    "scrolled": true
   },
   "outputs": [
    {
     "data": {
      "text/html": [
       "<div>\n",
       "<style scoped>\n",
       "    .dataframe tbody tr th:only-of-type {\n",
       "        vertical-align: middle;\n",
       "    }\n",
       "\n",
       "    .dataframe tbody tr th {\n",
       "        vertical-align: top;\n",
       "    }\n",
       "\n",
       "    .dataframe thead th {\n",
       "        text-align: right;\n",
       "    }\n",
       "</style>\n",
       "<table border=\"1\" class=\"dataframe\">\n",
       "  <thead>\n",
       "    <tr style=\"text-align: right;\">\n",
       "      <th></th>\n",
       "      <th>Open</th>\n",
       "      <th>High</th>\n",
       "      <th>Low</th>\n",
       "      <th>Close</th>\n",
       "      <th>Adj Close</th>\n",
       "      <th>Volume</th>\n",
       "    </tr>\n",
       "  </thead>\n",
       "  <tbody>\n",
       "    <tr>\n",
       "      <th>2019-03-01</th>\n",
       "      <td>162600006</td>\n",
       "      <td>163130005</td>\n",
       "      <td>161690002</td>\n",
       "      <td>162279999</td>\n",
       "      <td>162279999</td>\n",
       "      <td>11097800</td>\n",
       "    </tr>\n",
       "    <tr>\n",
       "      <th>2019-03-04</th>\n",
       "      <td>163899994</td>\n",
       "      <td>167500000</td>\n",
       "      <td>163830002</td>\n",
       "      <td>167369995</td>\n",
       "      <td>167369995</td>\n",
       "      <td>18894700</td>\n",
       "    </tr>\n",
       "    <tr>\n",
       "      <th>2019-03-05</th>\n",
       "      <td>167369995</td>\n",
       "      <td>171880005</td>\n",
       "      <td>166550003</td>\n",
       "      <td>171259995</td>\n",
       "      <td>171259995</td>\n",
       "      <td>28187900</td>\n",
       "    </tr>\n",
       "    <tr>\n",
       "      <th>2019-03-06</th>\n",
       "      <td>172899994</td>\n",
       "      <td>173570007</td>\n",
       "      <td>171270004</td>\n",
       "      <td>172509995</td>\n",
       "      <td>172509995</td>\n",
       "      <td>21531700</td>\n",
       "    </tr>\n",
       "    <tr>\n",
       "      <th>2019-03-07</th>\n",
       "      <td>171500000</td>\n",
       "      <td>171740005</td>\n",
       "      <td>167610001</td>\n",
       "      <td>169130005</td>\n",
       "      <td>169130005</td>\n",
       "      <td>18306500</td>\n",
       "    </tr>\n",
       "  </tbody>\n",
       "</table>\n",
       "</div>"
      ],
      "text/plain": [
       "                 Open       High        Low      Close  Adj Close    Volume\n",
       "2019-03-01  162600006  163130005  161690002  162279999  162279999  11097800\n",
       "2019-03-04  163899994  167500000  163830002  167369995  167369995  18894700\n",
       "2019-03-05  167369995  171880005  166550003  171259995  171259995  28187900\n",
       "2019-03-06  172899994  173570007  171270004  172509995  172509995  21531700\n",
       "2019-03-07  171500000  171740005  167610001  169130005  169130005  18306500"
      ]
     },
     "execution_count": 30,
     "metadata": {},
     "output_type": "execute_result"
    }
   ],
   "source": [
    "fb1.head()"
   ]
  },
  {
   "cell_type": "code",
   "execution_count": 31,
   "metadata": {},
   "outputs": [
    {
     "data": {
      "text/plain": [
       "DatetimeIndex(['2019-03-01', '2019-03-04', '2019-03-05', '2019-03-06',\n",
       "               '2019-03-07', '2019-03-08', '2019-03-11', '2019-03-12',\n",
       "               '2019-03-13', '2019-03-14', '2019-03-15', '2019-03-18',\n",
       "               '2019-03-19', '2019-03-20', '2019-03-21', '2019-03-22',\n",
       "               '2019-03-25', '2019-03-26', '2019-03-27', '2019-03-28',\n",
       "               '2019-03-29'],\n",
       "              dtype='datetime64[ns]', freq='B')"
      ]
     },
     "execution_count": 31,
     "metadata": {},
     "output_type": "execute_result"
    }
   ],
   "source": [
    "fb1.index"
   ]
  },
  {
   "cell_type": "markdown",
   "metadata": {},
   "source": [
    "## Visualizing Time Series Data"
   ]
  },
  {
   "cell_type": "code",
   "execution_count": 32,
   "metadata": {},
   "outputs": [],
   "source": [
    "%matplotlib inline"
   ]
  },
  {
   "cell_type": "code",
   "execution_count": 33,
   "metadata": {},
   "outputs": [
    {
     "data": {
      "text/plain": [
       "<Axes: >"
      ]
     },
     "execution_count": 33,
     "metadata": {},
     "output_type": "execute_result"
    },
    {
     "data": {
      "image/png": "[encoded data removed]",
      "text/plain": [
       "<Figure size 640x480 with 1 Axes>"
      ]
     },
     "metadata": {},
     "output_type": "display_data"
    }
   ],
   "source": [
    "fb1.Close.plot()"
   ]
  },
  {
   "cell_type": "code",
   "execution_count": 34,
   "metadata": {},
   "outputs": [
    {
     "data": {
      "text/html": [
       "<div>\n",
       "<style scoped>\n",
       "    .dataframe tbody tr th:only-of-type {\n",
       "        vertical-align: middle;\n",
       "    }\n",
       "\n",
       "    .dataframe tbody tr th {\n",
       "        vertical-align: top;\n",
       "    }\n",
       "\n",
       "    .dataframe thead th {\n",
       "        text-align: right;\n",
       "    }\n",
       "</style>\n",
       "<table border=\"1\" class=\"dataframe\">\n",
       "  <thead>\n",
       "    <tr style=\"text-align: right;\">\n",
       "      <th></th>\n",
       "      <th>Open</th>\n",
       "      <th>High</th>\n",
       "      <th>Low</th>\n",
       "      <th>Close</th>\n",
       "      <th>Adj Close</th>\n",
       "      <th>Volume</th>\n",
       "    </tr>\n",
       "  </thead>\n",
       "  <tbody>\n",
       "    <tr>\n",
       "      <th>2019-03-01 00:00:00</th>\n",
       "      <td>162600006</td>\n",
       "      <td>163130005</td>\n",
       "      <td>161690002</td>\n",
       "      <td>162279999</td>\n",
       "      <td>162279999</td>\n",
       "      <td>11097800</td>\n",
       "    </tr>\n",
       "    <tr>\n",
       "      <th>2019-03-01 01:00:00</th>\n",
       "      <td>162600006</td>\n",
       "      <td>163130005</td>\n",
       "      <td>161690002</td>\n",
       "      <td>162279999</td>\n",
       "      <td>162279999</td>\n",
       "      <td>11097800</td>\n",
       "    </tr>\n",
       "    <tr>\n",
       "      <th>2019-03-01 02:00:00</th>\n",
       "      <td>162600006</td>\n",
       "      <td>163130005</td>\n",
       "      <td>161690002</td>\n",
       "      <td>162279999</td>\n",
       "      <td>162279999</td>\n",
       "      <td>11097800</td>\n",
       "    </tr>\n",
       "    <tr>\n",
       "      <th>2019-03-01 03:00:00</th>\n",
       "      <td>162600006</td>\n",
       "      <td>163130005</td>\n",
       "      <td>161690002</td>\n",
       "      <td>162279999</td>\n",
       "      <td>162279999</td>\n",
       "      <td>11097800</td>\n",
       "    </tr>\n",
       "    <tr>\n",
       "      <th>2019-03-01 04:00:00</th>\n",
       "      <td>162600006</td>\n",
       "      <td>163130005</td>\n",
       "      <td>161690002</td>\n",
       "      <td>162279999</td>\n",
       "      <td>162279999</td>\n",
       "      <td>11097800</td>\n",
       "    </tr>\n",
       "  </tbody>\n",
       "</table>\n",
       "</div>"
      ],
      "text/plain": [
       "                          Open       High        Low      Close  Adj Close  \\\n",
       "2019-03-01 00:00:00  162600006  163130005  161690002  162279999  162279999   \n",
       "2019-03-01 01:00:00  162600006  163130005  161690002  162279999  162279999   \n",
       "2019-03-01 02:00:00  162600006  163130005  161690002  162279999  162279999   \n",
       "2019-03-01 03:00:00  162600006  163130005  161690002  162279999  162279999   \n",
       "2019-03-01 04:00:00  162600006  163130005  161690002  162279999  162279999   \n",
       "\n",
       "                       Volume  \n",
       "2019-03-01 00:00:00  11097800  \n",
       "2019-03-01 01:00:00  11097800  \n",
       "2019-03-01 02:00:00  11097800  \n",
       "2019-03-01 03:00:00  11097800  \n",
       "2019-03-01 04:00:00  11097800  "
      ]
     },
     "execution_count": 34,
     "metadata": {},
     "output_type": "execute_result"
    }
   ],
   "source": [
    "fb1.asfreq(\"H\",method=\"pad\").head()"
   ]
  },
  {
   "cell_type": "code",
   "execution_count": 35,
   "metadata": {},
   "outputs": [
    {
     "data": {
      "text/html": [
       "<div>\n",
       "<style scoped>\n",
       "    .dataframe tbody tr th:only-of-type {\n",
       "        vertical-align: middle;\n",
       "    }\n",
       "\n",
       "    .dataframe tbody tr th {\n",
       "        vertical-align: top;\n",
       "    }\n",
       "\n",
       "    .dataframe thead th {\n",
       "        text-align: right;\n",
       "    }\n",
       "</style>\n",
       "<table border=\"1\" class=\"dataframe\">\n",
       "  <thead>\n",
       "    <tr style=\"text-align: right;\">\n",
       "      <th></th>\n",
       "      <th>Open</th>\n",
       "      <th>High</th>\n",
       "      <th>Low</th>\n",
       "      <th>Close</th>\n",
       "      <th>Adj Close</th>\n",
       "      <th>Volume</th>\n",
       "    </tr>\n",
       "  </thead>\n",
       "  <tbody>\n",
       "    <tr>\n",
       "      <th>2019-03-03</th>\n",
       "      <td>162600006</td>\n",
       "      <td>163130005</td>\n",
       "      <td>161690002</td>\n",
       "      <td>162279999</td>\n",
       "      <td>162279999</td>\n",
       "      <td>11097800</td>\n",
       "    </tr>\n",
       "    <tr>\n",
       "      <th>2019-03-10</th>\n",
       "      <td>166199997</td>\n",
       "      <td>169619995</td>\n",
       "      <td>165970001</td>\n",
       "      <td>169600006</td>\n",
       "      <td>169600006</td>\n",
       "      <td>13184800</td>\n",
       "    </tr>\n",
       "    <tr>\n",
       "      <th>2019-03-17</th>\n",
       "      <td>167160004</td>\n",
       "      <td>167580002</td>\n",
       "      <td>162509995</td>\n",
       "      <td>165979996</td>\n",
       "      <td>165979996</td>\n",
       "      <td>37135400</td>\n",
       "    </tr>\n",
       "    <tr>\n",
       "      <th>2019-03-24</th>\n",
       "      <td>165649994</td>\n",
       "      <td>167419998</td>\n",
       "      <td>164089996</td>\n",
       "      <td>164339996</td>\n",
       "      <td>164339996</td>\n",
       "      <td>16389200</td>\n",
       "    </tr>\n",
       "  </tbody>\n",
       "</table>\n",
       "</div>"
      ],
      "text/plain": [
       "                 Open       High        Low      Close  Adj Close    Volume\n",
       "2019-03-03  162600006  163130005  161690002  162279999  162279999  11097800\n",
       "2019-03-10  166199997  169619995  165970001  169600006  169600006  13184800\n",
       "2019-03-17  167160004  167580002  162509995  165979996  165979996  37135400\n",
       "2019-03-24  165649994  167419998  164089996  164339996  164339996  16389200"
      ]
     },
     "execution_count": 35,
     "metadata": {},
     "output_type": "execute_result"
    }
   ],
   "source": [
    "fb1.asfreq(\"W\", method=\"pad\")"
   ]
  },
  {
   "cell_type": "code",
   "execution_count": 36,
   "metadata": {},
   "outputs": [
    {
     "data": {
      "text/html": [
       "<div>\n",
       "<style scoped>\n",
       "    .dataframe tbody tr th:only-of-type {\n",
       "        vertical-align: middle;\n",
       "    }\n",
       "\n",
       "    .dataframe tbody tr th {\n",
       "        vertical-align: top;\n",
       "    }\n",
       "\n",
       "    .dataframe thead th {\n",
       "        text-align: right;\n",
       "    }\n",
       "</style>\n",
       "<table border=\"1\" class=\"dataframe\">\n",
       "  <thead>\n",
       "    <tr style=\"text-align: right;\">\n",
       "      <th></th>\n",
       "      <th>Open</th>\n",
       "      <th>High</th>\n",
       "      <th>Low</th>\n",
       "      <th>Close</th>\n",
       "      <th>Adj Close</th>\n",
       "      <th>Volume</th>\n",
       "    </tr>\n",
       "  </thead>\n",
       "  <tbody>\n",
       "    <tr>\n",
       "      <th>2019-03-01 00:00:00</th>\n",
       "      <td>162600006</td>\n",
       "      <td>163130005</td>\n",
       "      <td>161690002</td>\n",
       "      <td>162279999</td>\n",
       "      <td>162279999</td>\n",
       "      <td>11097800</td>\n",
       "    </tr>\n",
       "    <tr>\n",
       "      <th>2019-03-01 01:00:00</th>\n",
       "      <td>162600006</td>\n",
       "      <td>163130005</td>\n",
       "      <td>161690002</td>\n",
       "      <td>162279999</td>\n",
       "      <td>162279999</td>\n",
       "      <td>11097800</td>\n",
       "    </tr>\n",
       "    <tr>\n",
       "      <th>2019-03-01 02:00:00</th>\n",
       "      <td>162600006</td>\n",
       "      <td>163130005</td>\n",
       "      <td>161690002</td>\n",
       "      <td>162279999</td>\n",
       "      <td>162279999</td>\n",
       "      <td>11097800</td>\n",
       "    </tr>\n",
       "    <tr>\n",
       "      <th>2019-03-01 03:00:00</th>\n",
       "      <td>162600006</td>\n",
       "      <td>163130005</td>\n",
       "      <td>161690002</td>\n",
       "      <td>162279999</td>\n",
       "      <td>162279999</td>\n",
       "      <td>11097800</td>\n",
       "    </tr>\n",
       "    <tr>\n",
       "      <th>2019-03-01 04:00:00</th>\n",
       "      <td>162600006</td>\n",
       "      <td>163130005</td>\n",
       "      <td>161690002</td>\n",
       "      <td>162279999</td>\n",
       "      <td>162279999</td>\n",
       "      <td>11097800</td>\n",
       "    </tr>\n",
       "    <tr>\n",
       "      <th>...</th>\n",
       "      <td>...</td>\n",
       "      <td>...</td>\n",
       "      <td>...</td>\n",
       "      <td>...</td>\n",
       "      <td>...</td>\n",
       "      <td>...</td>\n",
       "    </tr>\n",
       "    <tr>\n",
       "      <th>2019-03-28 20:00:00</th>\n",
       "      <td>164570007</td>\n",
       "      <td>166720001</td>\n",
       "      <td>163330002</td>\n",
       "      <td>165550003</td>\n",
       "      <td>165550003</td>\n",
       "      <td>10443000</td>\n",
       "    </tr>\n",
       "    <tr>\n",
       "      <th>2019-03-28 21:00:00</th>\n",
       "      <td>164570007</td>\n",
       "      <td>166720001</td>\n",
       "      <td>163330002</td>\n",
       "      <td>165550003</td>\n",
       "      <td>165550003</td>\n",
       "      <td>10443000</td>\n",
       "    </tr>\n",
       "    <tr>\n",
       "      <th>2019-03-28 22:00:00</th>\n",
       "      <td>164570007</td>\n",
       "      <td>166720001</td>\n",
       "      <td>163330002</td>\n",
       "      <td>165550003</td>\n",
       "      <td>165550003</td>\n",
       "      <td>10443000</td>\n",
       "    </tr>\n",
       "    <tr>\n",
       "      <th>2019-03-28 23:00:00</th>\n",
       "      <td>164570007</td>\n",
       "      <td>166720001</td>\n",
       "      <td>163330002</td>\n",
       "      <td>165550003</td>\n",
       "      <td>165550003</td>\n",
       "      <td>10443000</td>\n",
       "    </tr>\n",
       "    <tr>\n",
       "      <th>2019-03-29 00:00:00</th>\n",
       "      <td>166389999</td>\n",
       "      <td>167190002</td>\n",
       "      <td>164809998</td>\n",
       "      <td>166690002</td>\n",
       "      <td>166690002</td>\n",
       "      <td>13455500</td>\n",
       "    </tr>\n",
       "  </tbody>\n",
       "</table>\n",
       "<p>673 rows × 6 columns</p>\n",
       "</div>"
      ],
      "text/plain": [
       "                          Open       High        Low      Close  Adj Close  \\\n",
       "2019-03-01 00:00:00  162600006  163130005  161690002  162279999  162279999   \n",
       "2019-03-01 01:00:00  162600006  163130005  161690002  162279999  162279999   \n",
       "2019-03-01 02:00:00  162600006  163130005  161690002  162279999  162279999   \n",
       "2019-03-01 03:00:00  162600006  163130005  161690002  162279999  162279999   \n",
       "2019-03-01 04:00:00  162600006  163130005  161690002  162279999  162279999   \n",
       "...                        ...        ...        ...        ...        ...   \n",
       "2019-03-28 20:00:00  164570007  166720001  163330002  165550003  165550003   \n",
       "2019-03-28 21:00:00  164570007  166720001  163330002  165550003  165550003   \n",
       "2019-03-28 22:00:00  164570007  166720001  163330002  165550003  165550003   \n",
       "2019-03-28 23:00:00  164570007  166720001  163330002  165550003  165550003   \n",
       "2019-03-29 00:00:00  166389999  167190002  164809998  166690002  166690002   \n",
       "\n",
       "                       Volume  \n",
       "2019-03-01 00:00:00  11097800  \n",
       "2019-03-01 01:00:00  11097800  \n",
       "2019-03-01 02:00:00  11097800  \n",
       "2019-03-01 03:00:00  11097800  \n",
       "2019-03-01 04:00:00  11097800  \n",
       "...                       ...  \n",
       "2019-03-28 20:00:00  10443000  \n",
       "2019-03-28 21:00:00  10443000  \n",
       "2019-03-28 22:00:00  10443000  \n",
       "2019-03-28 23:00:00  10443000  \n",
       "2019-03-29 00:00:00  13455500  \n",
       "\n",
       "[673 rows x 6 columns]"
      ]
     },
     "execution_count": 36,
     "metadata": {},
     "output_type": "execute_result"
    }
   ],
   "source": [
    "fb1.asfreq(\"H\", method=\"pad\")"
   ]
  },
  {
   "cell_type": "code",
   "execution_count": 37,
   "metadata": {},
   "outputs": [
    {
     "data": {
      "text/plain": [
       "DatetimeIndex(['2019-03-01', '2019-03-04', '2019-03-05', '2019-03-06',\n",
       "               '2019-03-07', '2019-03-08', '2019-03-11', '2019-03-12',\n",
       "               '2019-03-13', '2019-03-14', '2019-03-15', '2019-03-18',\n",
       "               '2019-03-19', '2019-03-20', '2019-03-21', '2019-03-22',\n",
       "               '2019-03-25', '2019-03-26', '2019-03-27', '2019-03-28',\n",
       "               '2019-03-29', '2019-04-01', '2019-04-02', '2019-04-03',\n",
       "               '2019-04-04', '2019-04-05', '2019-04-08', '2019-04-09',\n",
       "               '2019-04-10', '2019-04-11', '2019-04-12', '2019-04-15',\n",
       "               '2019-04-16', '2019-04-17', '2019-04-18', '2019-04-19',\n",
       "               '2019-04-22', '2019-04-23', '2019-04-24', '2019-04-25',\n",
       "               '2019-04-26', '2019-04-29', '2019-04-30', '2019-05-01',\n",
       "               '2019-05-02', '2019-05-03', '2019-05-06', '2019-05-07',\n",
       "               '2019-05-08', '2019-05-09', '2019-05-10', '2019-05-13',\n",
       "               '2019-05-14', '2019-05-15', '2019-05-16', '2019-05-17',\n",
       "               '2019-05-20', '2019-05-21', '2019-05-22', '2019-05-23'],\n",
       "              dtype='datetime64[ns]', freq='B')"
      ]
     },
     "execution_count": 37,
     "metadata": {},
     "output_type": "execute_result"
    }
   ],
   "source": [
    "z=pd.date_range(start=\"3/1/2019\", \n",
    "                periods=60 , freq=\"B\")\n",
    "z"
   ]
  },
  {
   "cell_type": "code",
   "execution_count": 38,
   "metadata": {},
   "outputs": [
    {
     "data": {
      "text/plain": [
       "DatetimeIndex(['2019-03-01 00:00:00', '2019-03-01 01:00:00',\n",
       "               '2019-03-01 02:00:00', '2019-03-01 03:00:00',\n",
       "               '2019-03-01 04:00:00', '2019-03-01 05:00:00',\n",
       "               '2019-03-01 06:00:00', '2019-03-01 07:00:00',\n",
       "               '2019-03-01 08:00:00', '2019-03-01 09:00:00',\n",
       "               '2019-03-01 10:00:00', '2019-03-01 11:00:00',\n",
       "               '2019-03-01 12:00:00', '2019-03-01 13:00:00',\n",
       "               '2019-03-01 14:00:00', '2019-03-01 15:00:00',\n",
       "               '2019-03-01 16:00:00', '2019-03-01 17:00:00',\n",
       "               '2019-03-01 18:00:00', '2019-03-01 19:00:00',\n",
       "               '2019-03-01 20:00:00', '2019-03-01 21:00:00',\n",
       "               '2019-03-01 22:00:00', '2019-03-01 23:00:00',\n",
       "               '2019-03-02 00:00:00', '2019-03-02 01:00:00',\n",
       "               '2019-03-02 02:00:00', '2019-03-02 03:00:00',\n",
       "               '2019-03-02 04:00:00', '2019-03-02 05:00:00'],\n",
       "              dtype='datetime64[ns]', freq='H')"
      ]
     },
     "execution_count": 38,
     "metadata": {},
     "output_type": "execute_result"
    }
   ],
   "source": [
    "z=pd.date_range(\n",
    "    start=\"3/1/2019\", periods=30, freq=\"H\")\n",
    "z"
   ]
  },
  {
   "cell_type": "code",
   "execution_count": 39,
   "metadata": {},
   "outputs": [
    {
     "data": {
      "text/plain": [
       "2019-03-01 00:00:00    1\n",
       "2019-03-01 01:00:00    4\n",
       "2019-03-01 02:00:00    5\n",
       "2019-03-01 03:00:00    9\n",
       "2019-03-01 04:00:00    8\n",
       "Freq: H, dtype: int64"
      ]
     },
     "execution_count": 39,
     "metadata": {},
     "output_type": "execute_result"
    }
   ],
   "source": [
    "ts=pd.Series(\n",
    "    np.random.randint(1,10,len(z)),index=z)\n",
    "ts.head()"
   ]
  }
 ],
 "metadata": {
  "kernelspec": {
   "display_name": "Python 3 (ipykernel)",
   "language": "python",
   "name": "python3"
  },
  "language_info": {
   "codemirror_mode": {
    "name": "ipython",
    "version": 3
   },
   "file_extension": ".py",
   "mimetype": "text/x-python",
   "name": "python",
   "nbconvert_exporter": "python",
   "pygments_lexer": "ipython3",
   "version": "3.11.5"
  }
 },
 "nbformat": 4,
 "nbformat_minor": 2
}
