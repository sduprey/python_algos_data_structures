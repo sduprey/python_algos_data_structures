{
 "cells": [
  {
   "cell_type": "markdown",
   "metadata": {},
   "source": [
    "# Practical Data Analysis with Pandas"
   ]
  },
  {
   "cell_type": "code",
   "execution_count": 3,
   "metadata": {},
   "outputs": [],
   "source": [
    "import pandas as pd"
   ]
  },
  {
   "cell_type": "markdown",
   "metadata": {},
   "source": [
    "If you want, you can download the data set from https://openpolicing.stanford.edu/data/. You can also get information about the data set from this site. Let's import the data set."
   ]
  },
  {
   "cell_type": "code",
   "execution_count": 4,
   "metadata": {},
   "outputs": [],
   "source": [
    "df=pd.read_csv(\n",
    "    \"DataSets/ca_san_diego_2019_02_25.csv\")"
   ]
  },
  {
   "cell_type": "code",
   "execution_count": 5,
   "metadata": {},
   "outputs": [
    {
     "data": {
      "text/html": [
       "<div>\n",
       "<style scoped>\n",
       "    .dataframe tbody tr th:only-of-type {\n",
       "        vertical-align: middle;\n",
       "    }\n",
       "\n",
       "    .dataframe tbody tr th {\n",
       "        vertical-align: top;\n",
       "    }\n",
       "\n",
       "    .dataframe thead th {\n",
       "        text-align: right;\n",
       "    }\n",
       "</style>\n",
       "<table border=\"1\" class=\"dataframe\">\n",
       "  <thead>\n",
       "    <tr style=\"text-align: right;\">\n",
       "      <th></th>\n",
       "      <th>raw_row_number</th>\n",
       "      <th>date</th>\n",
       "      <th>time</th>\n",
       "      <th>service_area</th>\n",
       "      <th>subject_age</th>\n",
       "      <th>subject_race</th>\n",
       "      <th>subject_sex</th>\n",
       "      <th>type</th>\n",
       "      <th>arrest_made</th>\n",
       "      <th>citation_issued</th>\n",
       "      <th>warning_issued</th>\n",
       "      <th>outcome</th>\n",
       "      <th>contraband_found</th>\n",
       "      <th>search_conducted</th>\n",
       "      <th>search_person</th>\n",
       "      <th>search_vehicle</th>\n",
       "      <th>search_basis</th>\n",
       "      <th>reason_for_search</th>\n",
       "      <th>reason_for_stop</th>\n",
       "    </tr>\n",
       "  </thead>\n",
       "  <tbody>\n",
       "    <tr>\n",
       "      <th>0</th>\n",
       "      <td>1</td>\n",
       "      <td>2014-01-01</td>\n",
       "      <td>01:25:00</td>\n",
       "      <td>110</td>\n",
       "      <td>24.0</td>\n",
       "      <td>white</td>\n",
       "      <td>male</td>\n",
       "      <td>vehicular</td>\n",
       "      <td>False</td>\n",
       "      <td>True</td>\n",
       "      <td>False</td>\n",
       "      <td>citation</td>\n",
       "      <td>NaN</td>\n",
       "      <td>False</td>\n",
       "      <td>NaN</td>\n",
       "      <td>NaN</td>\n",
       "      <td>NaN</td>\n",
       "      <td>NaN</td>\n",
       "      <td>Moving Violation</td>\n",
       "    </tr>\n",
       "    <tr>\n",
       "      <th>1</th>\n",
       "      <td>2</td>\n",
       "      <td>2014-01-01</td>\n",
       "      <td>05:47:00</td>\n",
       "      <td>320</td>\n",
       "      <td>42.0</td>\n",
       "      <td>white</td>\n",
       "      <td>male</td>\n",
       "      <td>vehicular</td>\n",
       "      <td>False</td>\n",
       "      <td>False</td>\n",
       "      <td>True</td>\n",
       "      <td>warning</td>\n",
       "      <td>NaN</td>\n",
       "      <td>False</td>\n",
       "      <td>NaN</td>\n",
       "      <td>NaN</td>\n",
       "      <td>NaN</td>\n",
       "      <td>NaN</td>\n",
       "      <td>Moving Violation</td>\n",
       "    </tr>\n",
       "    <tr>\n",
       "      <th>2</th>\n",
       "      <td>3</td>\n",
       "      <td>2014-01-01</td>\n",
       "      <td>07:46:00</td>\n",
       "      <td>320</td>\n",
       "      <td>29.0</td>\n",
       "      <td>asian/pacific islander</td>\n",
       "      <td>male</td>\n",
       "      <td>vehicular</td>\n",
       "      <td>False</td>\n",
       "      <td>False</td>\n",
       "      <td>True</td>\n",
       "      <td>warning</td>\n",
       "      <td>NaN</td>\n",
       "      <td>False</td>\n",
       "      <td>NaN</td>\n",
       "      <td>NaN</td>\n",
       "      <td>NaN</td>\n",
       "      <td>NaN</td>\n",
       "      <td>Moving Violation</td>\n",
       "    </tr>\n",
       "    <tr>\n",
       "      <th>3</th>\n",
       "      <td>4</td>\n",
       "      <td>2014-01-01</td>\n",
       "      <td>08:10:00</td>\n",
       "      <td>610</td>\n",
       "      <td>23.0</td>\n",
       "      <td>white</td>\n",
       "      <td>male</td>\n",
       "      <td>vehicular</td>\n",
       "      <td>False</td>\n",
       "      <td>True</td>\n",
       "      <td>False</td>\n",
       "      <td>citation</td>\n",
       "      <td>NaN</td>\n",
       "      <td>False</td>\n",
       "      <td>NaN</td>\n",
       "      <td>NaN</td>\n",
       "      <td>NaN</td>\n",
       "      <td>NaN</td>\n",
       "      <td>Moving Violation</td>\n",
       "    </tr>\n",
       "    <tr>\n",
       "      <th>4</th>\n",
       "      <td>5</td>\n",
       "      <td>2014-01-01</td>\n",
       "      <td>08:35:00</td>\n",
       "      <td>930</td>\n",
       "      <td>35.0</td>\n",
       "      <td>hispanic</td>\n",
       "      <td>male</td>\n",
       "      <td>vehicular</td>\n",
       "      <td>False</td>\n",
       "      <td>True</td>\n",
       "      <td>False</td>\n",
       "      <td>citation</td>\n",
       "      <td>NaN</td>\n",
       "      <td>False</td>\n",
       "      <td>NaN</td>\n",
       "      <td>NaN</td>\n",
       "      <td>NaN</td>\n",
       "      <td>NaN</td>\n",
       "      <td>Equipment Violation</td>\n",
       "    </tr>\n",
       "  </tbody>\n",
       "</table>\n",
       "</div>"
      ],
      "text/plain": [
       "   raw_row_number        date      time service_area  subject_age  \\\n",
       "0               1  2014-01-01  01:25:00          110         24.0   \n",
       "1               2  2014-01-01  05:47:00          320         42.0   \n",
       "2               3  2014-01-01  07:46:00          320         29.0   \n",
       "3               4  2014-01-01  08:10:00          610         23.0   \n",
       "4               5  2014-01-01  08:35:00          930         35.0   \n",
       "\n",
       "             subject_race subject_sex       type arrest_made citation_issued  \\\n",
       "0                   white        male  vehicular       False            True   \n",
       "1                   white        male  vehicular       False           False   \n",
       "2  asian/pacific islander        male  vehicular       False           False   \n",
       "3                   white        male  vehicular       False            True   \n",
       "4                hispanic        male  vehicular       False            True   \n",
       "\n",
       "  warning_issued   outcome contraband_found search_conducted search_person  \\\n",
       "0          False  citation              NaN            False           NaN   \n",
       "1           True   warning              NaN            False           NaN   \n",
       "2           True   warning              NaN            False           NaN   \n",
       "3          False  citation              NaN            False           NaN   \n",
       "4          False  citation              NaN            False           NaN   \n",
       "\n",
       "  search_vehicle search_basis reason_for_search      reason_for_stop  \n",
       "0            NaN          NaN               NaN     Moving Violation  \n",
       "1            NaN          NaN               NaN     Moving Violation  \n",
       "2            NaN          NaN               NaN     Moving Violation  \n",
       "3            NaN          NaN               NaN     Moving Violation  \n",
       "4            NaN          NaN               NaN  Equipment Violation  "
      ]
     },
     "execution_count": 5,
     "metadata": {},
     "output_type": "execute_result"
    }
   ],
   "source": [
    "df.head()"
   ]
  },
  {
   "cell_type": "code",
   "execution_count": 6,
   "metadata": {},
   "outputs": [
    {
     "data": {
      "text/html": [
       "<div>\n",
       "<style scoped>\n",
       "    .dataframe tbody tr th:only-of-type {\n",
       "        vertical-align: middle;\n",
       "    }\n",
       "\n",
       "    .dataframe tbody tr th {\n",
       "        vertical-align: top;\n",
       "    }\n",
       "\n",
       "    .dataframe thead th {\n",
       "        text-align: right;\n",
       "    }\n",
       "</style>\n",
       "<table border=\"1\" class=\"dataframe\">\n",
       "  <thead>\n",
       "    <tr style=\"text-align: right;\">\n",
       "      <th></th>\n",
       "      <th>raw_row_number</th>\n",
       "      <th>date</th>\n",
       "      <th>time</th>\n",
       "      <th>service_area</th>\n",
       "      <th>subject_age</th>\n",
       "      <th>subject_race</th>\n",
       "      <th>subject_sex</th>\n",
       "      <th>type</th>\n",
       "      <th>arrest_made</th>\n",
       "      <th>citation_issued</th>\n",
       "      <th>warning_issued</th>\n",
       "      <th>outcome</th>\n",
       "      <th>contraband_found</th>\n",
       "      <th>search_conducted</th>\n",
       "      <th>search_person</th>\n",
       "      <th>search_vehicle</th>\n",
       "      <th>search_basis</th>\n",
       "      <th>reason_for_search</th>\n",
       "      <th>reason_for_stop</th>\n",
       "    </tr>\n",
       "  </thead>\n",
       "  <tbody>\n",
       "    <tr>\n",
       "      <th>390996</th>\n",
       "      <td>390997</td>\n",
       "      <td>2017-03-31</td>\n",
       "      <td>23:49:00</td>\n",
       "      <td>620</td>\n",
       "      <td>23.0</td>\n",
       "      <td>hispanic</td>\n",
       "      <td>male</td>\n",
       "      <td>vehicular</td>\n",
       "      <td>False</td>\n",
       "      <td>False</td>\n",
       "      <td>False</td>\n",
       "      <td>NaN</td>\n",
       "      <td>NaN</td>\n",
       "      <td>False</td>\n",
       "      <td>NaN</td>\n",
       "      <td>NaN</td>\n",
       "      <td>NaN</td>\n",
       "      <td>NaN</td>\n",
       "      <td>Radio Call/Citizen Contact</td>\n",
       "    </tr>\n",
       "    <tr>\n",
       "      <th>390997</th>\n",
       "      <td>390998</td>\n",
       "      <td>2017-03-31</td>\n",
       "      <td>23:55:00</td>\n",
       "      <td>710</td>\n",
       "      <td>NaN</td>\n",
       "      <td>hispanic</td>\n",
       "      <td>male</td>\n",
       "      <td>vehicular</td>\n",
       "      <td>NaN</td>\n",
       "      <td>True</td>\n",
       "      <td>False</td>\n",
       "      <td>citation</td>\n",
       "      <td>NaN</td>\n",
       "      <td>NaN</td>\n",
       "      <td>NaN</td>\n",
       "      <td>NaN</td>\n",
       "      <td>NaN</td>\n",
       "      <td>NaN</td>\n",
       "      <td>Moving Violation</td>\n",
       "    </tr>\n",
       "    <tr>\n",
       "      <th>390998</th>\n",
       "      <td>390999</td>\n",
       "      <td>2017-03-31</td>\n",
       "      <td>23:58:00</td>\n",
       "      <td>310</td>\n",
       "      <td>26.0</td>\n",
       "      <td>white</td>\n",
       "      <td>female</td>\n",
       "      <td>vehicular</td>\n",
       "      <td>NaN</td>\n",
       "      <td>False</td>\n",
       "      <td>True</td>\n",
       "      <td>warning</td>\n",
       "      <td>NaN</td>\n",
       "      <td>NaN</td>\n",
       "      <td>NaN</td>\n",
       "      <td>NaN</td>\n",
       "      <td>NaN</td>\n",
       "      <td>NaN</td>\n",
       "      <td>Equipment Violation</td>\n",
       "    </tr>\n",
       "  </tbody>\n",
       "</table>\n",
       "</div>"
      ],
      "text/plain": [
       "        raw_row_number        date      time service_area  subject_age  \\\n",
       "390996          390997  2017-03-31  23:49:00          620         23.0   \n",
       "390997          390998  2017-03-31  23:55:00          710          NaN   \n",
       "390998          390999  2017-03-31  23:58:00          310         26.0   \n",
       "\n",
       "       subject_race subject_sex       type arrest_made citation_issued  \\\n",
       "390996     hispanic        male  vehicular       False           False   \n",
       "390997     hispanic        male  vehicular         NaN            True   \n",
       "390998        white      female  vehicular         NaN           False   \n",
       "\n",
       "       warning_issued   outcome contraband_found search_conducted  \\\n",
       "390996          False       NaN              NaN            False   \n",
       "390997          False  citation              NaN              NaN   \n",
       "390998           True   warning              NaN              NaN   \n",
       "\n",
       "       search_person search_vehicle search_basis reason_for_search  \\\n",
       "390996           NaN            NaN          NaN               NaN   \n",
       "390997           NaN            NaN          NaN               NaN   \n",
       "390998           NaN            NaN          NaN               NaN   \n",
       "\n",
       "                   reason_for_stop  \n",
       "390996  Radio Call/Citizen Contact  \n",
       "390997            Moving Violation  \n",
       "390998         Equipment Violation  "
      ]
     },
     "execution_count": 6,
     "metadata": {},
     "output_type": "execute_result"
    }
   ],
   "source": [
    "df.tail(3)"
   ]
  },
  {
   "cell_type": "code",
   "execution_count": 7,
   "metadata": {},
   "outputs": [
    {
     "data": {
      "text/plain": [
       "(390999, 19)"
      ]
     },
     "execution_count": 7,
     "metadata": {},
     "output_type": "execute_result"
    }
   ],
   "source": [
    "df.shape"
   ]
  },
  {
   "cell_type": "code",
   "execution_count": 8,
   "metadata": {},
   "outputs": [
    {
     "data": {
      "text/plain": [
       "raw_row_number         int64\n",
       "date                  object\n",
       "time                  object\n",
       "service_area          object\n",
       "subject_age          float64\n",
       "subject_race          object\n",
       "subject_sex           object\n",
       "type                  object\n",
       "arrest_made           object\n",
       "citation_issued       object\n",
       "warning_issued        object\n",
       "outcome               object\n",
       "contraband_found      object\n",
       "search_conducted      object\n",
       "search_person         object\n",
       "search_vehicle        object\n",
       "search_basis          object\n",
       "reason_for_search     object\n",
       "reason_for_stop       object\n",
       "dtype: object"
      ]
     },
     "execution_count": 8,
     "metadata": {},
     "output_type": "execute_result"
    }
   ],
   "source": [
    "df.dtypes"
   ]
  },
  {
   "cell_type": "code",
   "execution_count": 9,
   "metadata": {},
   "outputs": [
    {
     "data": {
      "text/plain": [
       "raw_row_number            0\n",
       "date                    132\n",
       "time                   1256\n",
       "service_area              0\n",
       "subject_age           12644\n",
       "subject_race           1398\n",
       "subject_sex             806\n",
       "type                      0\n",
       "arrest_made           35022\n",
       "citation_issued       32712\n",
       "warning_issued        32712\n",
       "outcome               40047\n",
       "contraband_found     379835\n",
       "search_conducted      37096\n",
       "search_person        376459\n",
       "search_vehicle       376459\n",
       "search_basis         374173\n",
       "reason_for_search    376343\n",
       "reason_for_stop         266\n",
       "dtype: int64"
      ]
     },
     "execution_count": 9,
     "metadata": {},
     "output_type": "execute_result"
    }
   ],
   "source": [
    "df.isnull().sum()"
   ]
  },
  {
   "cell_type": "code",
   "execution_count": 10,
   "metadata": {},
   "outputs": [
    {
     "data": {
      "text/plain": [
       "0    2014-01-01\n",
       "1    2014-01-01\n",
       "2    2014-01-01\n",
       "3    2014-01-01\n",
       "4    2014-01-01\n",
       "Name: date, dtype: object"
      ]
     },
     "execution_count": 10,
     "metadata": {},
     "output_type": "execute_result"
    }
   ],
   "source": [
    "df.date.head()"
   ]
  },
  {
   "cell_type": "code",
   "execution_count": 11,
   "metadata": {},
   "outputs": [
    {
     "data": {
      "text/plain": [
       "Index(['raw_row_number', 'date', 'time', 'service_area', 'subject_age',\n",
       "       'subject_race', 'subject_sex', 'type', 'arrest_made', 'citation_issued',\n",
       "       'warning_issued', 'outcome', 'contraband_found', 'search_conducted',\n",
       "       'search_person', 'search_vehicle', 'search_basis', 'reason_for_search',\n",
       "       'reason_for_stop'],\n",
       "      dtype='object')"
      ]
     },
     "execution_count": 11,
     "metadata": {},
     "output_type": "execute_result"
    }
   ],
   "source": [
    "df.columns"
   ]
  },
  {
   "cell_type": "code",
   "execution_count": 12,
   "metadata": {},
   "outputs": [
    {
     "data": {
      "text/plain": [
       "0    01:25:00\n",
       "1    05:47:00\n",
       "2    07:46:00\n",
       "3    08:10:00\n",
       "4    08:35:00\n",
       "Name: time, dtype: object"
      ]
     },
     "execution_count": 12,
     "metadata": {},
     "output_type": "execute_result"
    }
   ],
   "source": [
    "df[\"time\"].head()"
   ]
  },
  {
   "cell_type": "code",
   "execution_count": 13,
   "metadata": {},
   "outputs": [
    {
     "data": {
      "text/html": [
       "<div>\n",
       "<style scoped>\n",
       "    .dataframe tbody tr th:only-of-type {\n",
       "        vertical-align: middle;\n",
       "    }\n",
       "\n",
       "    .dataframe tbody tr th {\n",
       "        vertical-align: top;\n",
       "    }\n",
       "\n",
       "    .dataframe thead th {\n",
       "        text-align: right;\n",
       "    }\n",
       "</style>\n",
       "<table border=\"1\" class=\"dataframe\">\n",
       "  <thead>\n",
       "    <tr style=\"text-align: right;\">\n",
       "      <th></th>\n",
       "      <th>date</th>\n",
       "      <th>time</th>\n",
       "    </tr>\n",
       "  </thead>\n",
       "  <tbody>\n",
       "    <tr>\n",
       "      <th>0</th>\n",
       "      <td>2014-01-01</td>\n",
       "      <td>01:25:00</td>\n",
       "    </tr>\n",
       "    <tr>\n",
       "      <th>1</th>\n",
       "      <td>2014-01-01</td>\n",
       "      <td>05:47:00</td>\n",
       "    </tr>\n",
       "    <tr>\n",
       "      <th>2</th>\n",
       "      <td>2014-01-01</td>\n",
       "      <td>07:46:00</td>\n",
       "    </tr>\n",
       "    <tr>\n",
       "      <th>3</th>\n",
       "      <td>2014-01-01</td>\n",
       "      <td>08:10:00</td>\n",
       "    </tr>\n",
       "    <tr>\n",
       "      <th>4</th>\n",
       "      <td>2014-01-01</td>\n",
       "      <td>08:35:00</td>\n",
       "    </tr>\n",
       "  </tbody>\n",
       "</table>\n",
       "</div>"
      ],
      "text/plain": [
       "         date      time\n",
       "0  2014-01-01  01:25:00\n",
       "1  2014-01-01  05:47:00\n",
       "2  2014-01-01  07:46:00\n",
       "3  2014-01-01  08:10:00\n",
       "4  2014-01-01  08:35:00"
      ]
     },
     "execution_count": 13,
     "metadata": {},
     "output_type": "execute_result"
    }
   ],
   "source": [
    "df[[\"date\",\"time\"]].head()"
   ]
  },
  {
   "cell_type": "code",
   "execution_count": 14,
   "metadata": {},
   "outputs": [
    {
     "data": {
      "text/html": [
       "<div>\n",
       "<style scoped>\n",
       "    .dataframe tbody tr th:only-of-type {\n",
       "        vertical-align: middle;\n",
       "    }\n",
       "\n",
       "    .dataframe tbody tr th {\n",
       "        vertical-align: top;\n",
       "    }\n",
       "\n",
       "    .dataframe thead th {\n",
       "        text-align: right;\n",
       "    }\n",
       "</style>\n",
       "<table border=\"1\" class=\"dataframe\">\n",
       "  <thead>\n",
       "    <tr style=\"text-align: right;\">\n",
       "      <th></th>\n",
       "      <th>raw_row_number</th>\n",
       "      <th>DATE</th>\n",
       "      <th>TIME</th>\n",
       "      <th>service_area</th>\n",
       "      <th>subject_age</th>\n",
       "      <th>subject_race</th>\n",
       "      <th>subject_sex</th>\n",
       "      <th>type</th>\n",
       "      <th>arrest_made</th>\n",
       "      <th>citation_issued</th>\n",
       "      <th>warning_issued</th>\n",
       "      <th>outcome</th>\n",
       "      <th>contraband_found</th>\n",
       "      <th>search_conducted</th>\n",
       "      <th>search_person</th>\n",
       "      <th>search_vehicle</th>\n",
       "      <th>search_basis</th>\n",
       "      <th>reason_for_search</th>\n",
       "      <th>reason_for_stop</th>\n",
       "    </tr>\n",
       "  </thead>\n",
       "  <tbody>\n",
       "    <tr>\n",
       "      <th>0</th>\n",
       "      <td>1</td>\n",
       "      <td>2014-01-01</td>\n",
       "      <td>01:25:00</td>\n",
       "      <td>110</td>\n",
       "      <td>24.0</td>\n",
       "      <td>white</td>\n",
       "      <td>male</td>\n",
       "      <td>vehicular</td>\n",
       "      <td>False</td>\n",
       "      <td>True</td>\n",
       "      <td>False</td>\n",
       "      <td>citation</td>\n",
       "      <td>NaN</td>\n",
       "      <td>False</td>\n",
       "      <td>NaN</td>\n",
       "      <td>NaN</td>\n",
       "      <td>NaN</td>\n",
       "      <td>NaN</td>\n",
       "      <td>Moving Violation</td>\n",
       "    </tr>\n",
       "    <tr>\n",
       "      <th>1</th>\n",
       "      <td>2</td>\n",
       "      <td>2014-01-01</td>\n",
       "      <td>05:47:00</td>\n",
       "      <td>320</td>\n",
       "      <td>42.0</td>\n",
       "      <td>white</td>\n",
       "      <td>male</td>\n",
       "      <td>vehicular</td>\n",
       "      <td>False</td>\n",
       "      <td>False</td>\n",
       "      <td>True</td>\n",
       "      <td>warning</td>\n",
       "      <td>NaN</td>\n",
       "      <td>False</td>\n",
       "      <td>NaN</td>\n",
       "      <td>NaN</td>\n",
       "      <td>NaN</td>\n",
       "      <td>NaN</td>\n",
       "      <td>Moving Violation</td>\n",
       "    </tr>\n",
       "    <tr>\n",
       "      <th>2</th>\n",
       "      <td>3</td>\n",
       "      <td>2014-01-01</td>\n",
       "      <td>07:46:00</td>\n",
       "      <td>320</td>\n",
       "      <td>29.0</td>\n",
       "      <td>asian/pacific islander</td>\n",
       "      <td>male</td>\n",
       "      <td>vehicular</td>\n",
       "      <td>False</td>\n",
       "      <td>False</td>\n",
       "      <td>True</td>\n",
       "      <td>warning</td>\n",
       "      <td>NaN</td>\n",
       "      <td>False</td>\n",
       "      <td>NaN</td>\n",
       "      <td>NaN</td>\n",
       "      <td>NaN</td>\n",
       "      <td>NaN</td>\n",
       "      <td>Moving Violation</td>\n",
       "    </tr>\n",
       "    <tr>\n",
       "      <th>3</th>\n",
       "      <td>4</td>\n",
       "      <td>2014-01-01</td>\n",
       "      <td>08:10:00</td>\n",
       "      <td>610</td>\n",
       "      <td>23.0</td>\n",
       "      <td>white</td>\n",
       "      <td>male</td>\n",
       "      <td>vehicular</td>\n",
       "      <td>False</td>\n",
       "      <td>True</td>\n",
       "      <td>False</td>\n",
       "      <td>citation</td>\n",
       "      <td>NaN</td>\n",
       "      <td>False</td>\n",
       "      <td>NaN</td>\n",
       "      <td>NaN</td>\n",
       "      <td>NaN</td>\n",
       "      <td>NaN</td>\n",
       "      <td>Moving Violation</td>\n",
       "    </tr>\n",
       "    <tr>\n",
       "      <th>4</th>\n",
       "      <td>5</td>\n",
       "      <td>2014-01-01</td>\n",
       "      <td>08:35:00</td>\n",
       "      <td>930</td>\n",
       "      <td>35.0</td>\n",
       "      <td>hispanic</td>\n",
       "      <td>male</td>\n",
       "      <td>vehicular</td>\n",
       "      <td>False</td>\n",
       "      <td>True</td>\n",
       "      <td>False</td>\n",
       "      <td>citation</td>\n",
       "      <td>NaN</td>\n",
       "      <td>False</td>\n",
       "      <td>NaN</td>\n",
       "      <td>NaN</td>\n",
       "      <td>NaN</td>\n",
       "      <td>NaN</td>\n",
       "      <td>Equipment Violation</td>\n",
       "    </tr>\n",
       "  </tbody>\n",
       "</table>\n",
       "</div>"
      ],
      "text/plain": [
       "   raw_row_number        DATE      TIME service_area  subject_age  \\\n",
       "0               1  2014-01-01  01:25:00          110         24.0   \n",
       "1               2  2014-01-01  05:47:00          320         42.0   \n",
       "2               3  2014-01-01  07:46:00          320         29.0   \n",
       "3               4  2014-01-01  08:10:00          610         23.0   \n",
       "4               5  2014-01-01  08:35:00          930         35.0   \n",
       "\n",
       "             subject_race subject_sex       type arrest_made citation_issued  \\\n",
       "0                   white        male  vehicular       False            True   \n",
       "1                   white        male  vehicular       False           False   \n",
       "2  asian/pacific islander        male  vehicular       False           False   \n",
       "3                   white        male  vehicular       False            True   \n",
       "4                hispanic        male  vehicular       False            True   \n",
       "\n",
       "  warning_issued   outcome contraband_found search_conducted search_person  \\\n",
       "0          False  citation              NaN            False           NaN   \n",
       "1           True   warning              NaN            False           NaN   \n",
       "2           True   warning              NaN            False           NaN   \n",
       "3          False  citation              NaN            False           NaN   \n",
       "4          False  citation              NaN            False           NaN   \n",
       "\n",
       "  search_vehicle search_basis reason_for_search      reason_for_stop  \n",
       "0            NaN          NaN               NaN     Moving Violation  \n",
       "1            NaN          NaN               NaN     Moving Violation  \n",
       "2            NaN          NaN               NaN     Moving Violation  \n",
       "3            NaN          NaN               NaN     Moving Violation  \n",
       "4            NaN          NaN               NaN  Equipment Violation  "
      ]
     },
     "execution_count": 14,
     "metadata": {},
     "output_type": "execute_result"
    }
   ],
   "source": [
    "df.rename(columns={\"date\":\"DATE\",\n",
    "                   \"time\":\"TIME\"},\n",
    "          inplace=True)\n",
    "df.head()"
   ]
  },
  {
   "cell_type": "code",
   "execution_count": 15,
   "metadata": {},
   "outputs": [
    {
     "data": {
      "text/plain": [
       "raw_row_number             1\n",
       "DATE              2014-01-01\n",
       "TIME                01:25:00\n",
       "service_area             110\n",
       "subject_age             24.0\n",
       "Name: 0, dtype: object"
      ]
     },
     "execution_count": 15,
     "metadata": {},
     "output_type": "execute_result"
    }
   ],
   "source": [
    "df.iloc[0].head()"
   ]
  },
  {
   "cell_type": "code",
   "execution_count": 16,
   "metadata": {},
   "outputs": [
    {
     "data": {
      "text/plain": [
       "'2014-01-01'"
      ]
     },
     "execution_count": 16,
     "metadata": {},
     "output_type": "execute_result"
    }
   ],
   "source": [
    "df.iloc[0,1]"
   ]
  },
  {
   "cell_type": "code",
   "execution_count": 17,
   "metadata": {},
   "outputs": [
    {
     "data": {
      "text/plain": [
       "DATE            2014-01-01\n",
       "service_area           110\n",
       "subject_race         white\n",
       "Name: 0, dtype: object"
      ]
     },
     "execution_count": 17,
     "metadata": {},
     "output_type": "execute_result"
    }
   ],
   "source": [
    "df.iloc[0,[1,3,5]]"
   ]
  },
  {
   "cell_type": "code",
   "execution_count": 18,
   "metadata": {},
   "outputs": [
    {
     "data": {
      "text/html": [
       "<div>\n",
       "<style scoped>\n",
       "    .dataframe tbody tr th:only-of-type {\n",
       "        vertical-align: middle;\n",
       "    }\n",
       "\n",
       "    .dataframe tbody tr th {\n",
       "        vertical-align: top;\n",
       "    }\n",
       "\n",
       "    .dataframe thead th {\n",
       "        text-align: right;\n",
       "    }\n",
       "</style>\n",
       "<table border=\"1\" class=\"dataframe\">\n",
       "  <thead>\n",
       "    <tr style=\"text-align: right;\">\n",
       "      <th></th>\n",
       "      <th>DATE</th>\n",
       "      <th>service_area</th>\n",
       "      <th>subject_race</th>\n",
       "    </tr>\n",
       "  </thead>\n",
       "  <tbody>\n",
       "    <tr>\n",
       "      <th>0</th>\n",
       "      <td>2014-01-01</td>\n",
       "      <td>110</td>\n",
       "      <td>white</td>\n",
       "    </tr>\n",
       "    <tr>\n",
       "      <th>1</th>\n",
       "      <td>2014-01-01</td>\n",
       "      <td>320</td>\n",
       "      <td>white</td>\n",
       "    </tr>\n",
       "    <tr>\n",
       "      <th>2</th>\n",
       "      <td>2014-01-01</td>\n",
       "      <td>320</td>\n",
       "      <td>asian/pacific islander</td>\n",
       "    </tr>\n",
       "    <tr>\n",
       "      <th>3</th>\n",
       "      <td>2014-01-01</td>\n",
       "      <td>610</td>\n",
       "      <td>white</td>\n",
       "    </tr>\n",
       "    <tr>\n",
       "      <th>4</th>\n",
       "      <td>2014-01-01</td>\n",
       "      <td>930</td>\n",
       "      <td>hispanic</td>\n",
       "    </tr>\n",
       "  </tbody>\n",
       "</table>\n",
       "</div>"
      ],
      "text/plain": [
       "         DATE service_area            subject_race\n",
       "0  2014-01-01          110                   white\n",
       "1  2014-01-01          320                   white\n",
       "2  2014-01-01          320  asian/pacific islander\n",
       "3  2014-01-01          610                   white\n",
       "4  2014-01-01          930                hispanic"
      ]
     },
     "execution_count": 18,
     "metadata": {},
     "output_type": "execute_result"
    }
   ],
   "source": [
    "df.iloc[0:5,[1,3,5]]"
   ]
  },
  {
   "cell_type": "code",
   "execution_count": 19,
   "metadata": {},
   "outputs": [
    {
     "data": {
      "text/html": [
       "<div>\n",
       "<style scoped>\n",
       "    .dataframe tbody tr th:only-of-type {\n",
       "        vertical-align: middle;\n",
       "    }\n",
       "\n",
       "    .dataframe tbody tr th {\n",
       "        vertical-align: top;\n",
       "    }\n",
       "\n",
       "    .dataframe thead th {\n",
       "        text-align: right;\n",
       "    }\n",
       "</style>\n",
       "<table border=\"1\" class=\"dataframe\">\n",
       "  <thead>\n",
       "    <tr style=\"text-align: right;\">\n",
       "      <th></th>\n",
       "      <th>raw_row_number</th>\n",
       "      <th>DATE</th>\n",
       "      <th>TIME</th>\n",
       "      <th>service_area</th>\n",
       "      <th>subject_age</th>\n",
       "    </tr>\n",
       "  </thead>\n",
       "  <tbody>\n",
       "    <tr>\n",
       "      <th>0</th>\n",
       "      <td>1</td>\n",
       "      <td>2014-01-01</td>\n",
       "      <td>01:25:00</td>\n",
       "      <td>110</td>\n",
       "      <td>24.0</td>\n",
       "    </tr>\n",
       "    <tr>\n",
       "      <th>1</th>\n",
       "      <td>2</td>\n",
       "      <td>2014-01-01</td>\n",
       "      <td>05:47:00</td>\n",
       "      <td>320</td>\n",
       "      <td>42.0</td>\n",
       "    </tr>\n",
       "    <tr>\n",
       "      <th>2</th>\n",
       "      <td>3</td>\n",
       "      <td>2014-01-01</td>\n",
       "      <td>07:46:00</td>\n",
       "      <td>320</td>\n",
       "      <td>29.0</td>\n",
       "    </tr>\n",
       "    <tr>\n",
       "      <th>3</th>\n",
       "      <td>4</td>\n",
       "      <td>2014-01-01</td>\n",
       "      <td>08:10:00</td>\n",
       "      <td>610</td>\n",
       "      <td>23.0</td>\n",
       "    </tr>\n",
       "    <tr>\n",
       "      <th>4</th>\n",
       "      <td>5</td>\n",
       "      <td>2014-01-01</td>\n",
       "      <td>08:35:00</td>\n",
       "      <td>930</td>\n",
       "      <td>35.0</td>\n",
       "    </tr>\n",
       "  </tbody>\n",
       "</table>\n",
       "</div>"
      ],
      "text/plain": [
       "   raw_row_number        DATE      TIME service_area  subject_age\n",
       "0               1  2014-01-01  01:25:00          110         24.0\n",
       "1               2  2014-01-01  05:47:00          320         42.0\n",
       "2               3  2014-01-01  07:46:00          320         29.0\n",
       "3               4  2014-01-01  08:10:00          610         23.0\n",
       "4               5  2014-01-01  08:35:00          930         35.0"
      ]
     },
     "execution_count": 19,
     "metadata": {},
     "output_type": "execute_result"
    }
   ],
   "source": [
    "df.iloc[0:5,0:5]"
   ]
  },
  {
   "cell_type": "code",
   "execution_count": 20,
   "metadata": {},
   "outputs": [
    {
     "data": {
      "text/html": [
       "<div>\n",
       "<style scoped>\n",
       "    .dataframe tbody tr th:only-of-type {\n",
       "        vertical-align: middle;\n",
       "    }\n",
       "\n",
       "    .dataframe tbody tr th {\n",
       "        vertical-align: top;\n",
       "    }\n",
       "\n",
       "    .dataframe thead th {\n",
       "        text-align: right;\n",
       "    }\n",
       "</style>\n",
       "<table border=\"1\" class=\"dataframe\">\n",
       "  <thead>\n",
       "    <tr style=\"text-align: right;\">\n",
       "      <th></th>\n",
       "      <th>TIME</th>\n",
       "      <th>service_area</th>\n",
       "      <th>subject_age</th>\n",
       "      <th>subject_race</th>\n",
       "      <th>subject_sex</th>\n",
       "      <th>type</th>\n",
       "    </tr>\n",
       "  </thead>\n",
       "  <tbody>\n",
       "    <tr>\n",
       "      <th>1</th>\n",
       "      <td>05:47:00</td>\n",
       "      <td>320</td>\n",
       "      <td>42.0</td>\n",
       "      <td>white</td>\n",
       "      <td>male</td>\n",
       "      <td>vehicular</td>\n",
       "    </tr>\n",
       "    <tr>\n",
       "      <th>2</th>\n",
       "      <td>07:46:00</td>\n",
       "      <td>320</td>\n",
       "      <td>29.0</td>\n",
       "      <td>asian/pacific islander</td>\n",
       "      <td>male</td>\n",
       "      <td>vehicular</td>\n",
       "    </tr>\n",
       "    <tr>\n",
       "      <th>3</th>\n",
       "      <td>08:10:00</td>\n",
       "      <td>610</td>\n",
       "      <td>23.0</td>\n",
       "      <td>white</td>\n",
       "      <td>male</td>\n",
       "      <td>vehicular</td>\n",
       "    </tr>\n",
       "    <tr>\n",
       "      <th>4</th>\n",
       "      <td>08:35:00</td>\n",
       "      <td>930</td>\n",
       "      <td>35.0</td>\n",
       "      <td>hispanic</td>\n",
       "      <td>male</td>\n",
       "      <td>vehicular</td>\n",
       "    </tr>\n",
       "    <tr>\n",
       "      <th>5</th>\n",
       "      <td>08:39:00</td>\n",
       "      <td>820</td>\n",
       "      <td>30.0</td>\n",
       "      <td>hispanic</td>\n",
       "      <td>male</td>\n",
       "      <td>vehicular</td>\n",
       "    </tr>\n",
       "  </tbody>\n",
       "</table>\n",
       "</div>"
      ],
      "text/plain": [
       "       TIME service_area  subject_age            subject_race subject_sex  \\\n",
       "1  05:47:00          320         42.0                   white        male   \n",
       "2  07:46:00          320         29.0  asian/pacific islander        male   \n",
       "3  08:10:00          610         23.0                   white        male   \n",
       "4  08:35:00          930         35.0                hispanic        male   \n",
       "5  08:39:00          820         30.0                hispanic        male   \n",
       "\n",
       "        type  \n",
       "1  vehicular  \n",
       "2  vehicular  \n",
       "3  vehicular  \n",
       "4  vehicular  \n",
       "5  vehicular  "
      ]
     },
     "execution_count": 20,
     "metadata": {},
     "output_type": "execute_result"
    }
   ],
   "source": [
    "df.loc[1:5,\"TIME\":\"type\"]"
   ]
  },
  {
   "cell_type": "code",
   "execution_count": 21,
   "metadata": {},
   "outputs": [
    {
     "data": {
      "text/html": [
       "<div>\n",
       "<style scoped>\n",
       "    .dataframe tbody tr th:only-of-type {\n",
       "        vertical-align: middle;\n",
       "    }\n",
       "\n",
       "    .dataframe tbody tr th {\n",
       "        vertical-align: top;\n",
       "    }\n",
       "\n",
       "    .dataframe thead th {\n",
       "        text-align: right;\n",
       "    }\n",
       "</style>\n",
       "<table border=\"1\" class=\"dataframe\">\n",
       "  <thead>\n",
       "    <tr style=\"text-align: right;\">\n",
       "      <th></th>\n",
       "      <th>DATE</th>\n",
       "      <th>TIME</th>\n",
       "      <th>service_area</th>\n",
       "      <th>subject_age</th>\n",
       "      <th>subject_race</th>\n",
       "      <th>subject_sex</th>\n",
       "      <th>type</th>\n",
       "    </tr>\n",
       "  </thead>\n",
       "  <tbody>\n",
       "    <tr>\n",
       "      <th>0</th>\n",
       "      <td>2014-01-01</td>\n",
       "      <td>01:25:00</td>\n",
       "      <td>110</td>\n",
       "      <td>24.0</td>\n",
       "      <td>white</td>\n",
       "      <td>male</td>\n",
       "      <td>vehicular</td>\n",
       "    </tr>\n",
       "    <tr>\n",
       "      <th>1</th>\n",
       "      <td>2014-01-01</td>\n",
       "      <td>05:47:00</td>\n",
       "      <td>320</td>\n",
       "      <td>42.0</td>\n",
       "      <td>white</td>\n",
       "      <td>male</td>\n",
       "      <td>vehicular</td>\n",
       "    </tr>\n",
       "    <tr>\n",
       "      <th>2</th>\n",
       "      <td>2014-01-01</td>\n",
       "      <td>07:46:00</td>\n",
       "      <td>320</td>\n",
       "      <td>29.0</td>\n",
       "      <td>asian/pacific islander</td>\n",
       "      <td>male</td>\n",
       "      <td>vehicular</td>\n",
       "    </tr>\n",
       "    <tr>\n",
       "      <th>3</th>\n",
       "      <td>2014-01-01</td>\n",
       "      <td>08:10:00</td>\n",
       "      <td>610</td>\n",
       "      <td>23.0</td>\n",
       "      <td>white</td>\n",
       "      <td>male</td>\n",
       "      <td>vehicular</td>\n",
       "    </tr>\n",
       "    <tr>\n",
       "      <th>4</th>\n",
       "      <td>2014-01-01</td>\n",
       "      <td>08:35:00</td>\n",
       "      <td>930</td>\n",
       "      <td>35.0</td>\n",
       "      <td>hispanic</td>\n",
       "      <td>male</td>\n",
       "      <td>vehicular</td>\n",
       "    </tr>\n",
       "  </tbody>\n",
       "</table>\n",
       "</div>"
      ],
      "text/plain": [
       "         DATE      TIME service_area  subject_age            subject_race  \\\n",
       "0  2014-01-01  01:25:00          110         24.0                   white   \n",
       "1  2014-01-01  05:47:00          320         42.0                   white   \n",
       "2  2014-01-01  07:46:00          320         29.0  asian/pacific islander   \n",
       "3  2014-01-01  08:10:00          610         23.0                   white   \n",
       "4  2014-01-01  08:35:00          930         35.0                hispanic   \n",
       "\n",
       "  subject_sex       type  \n",
       "0        male  vehicular  \n",
       "1        male  vehicular  \n",
       "2        male  vehicular  \n",
       "3        male  vehicular  \n",
       "4        male  vehicular  "
      ]
     },
     "execution_count": 21,
     "metadata": {},
     "output_type": "execute_result"
    }
   ],
   "source": [
    "df.loc[0:5,\"DATE\":\"type\"].head()"
   ]
  },
  {
   "cell_type": "code",
   "execution_count": 22,
   "metadata": {},
   "outputs": [
    {
     "data": {
      "text/plain": [
       "(390999, 19)"
      ]
     },
     "execution_count": 22,
     "metadata": {},
     "output_type": "execute_result"
    }
   ],
   "source": [
    "df.shape"
   ]
  },
  {
   "cell_type": "code",
   "execution_count": 23,
   "metadata": {},
   "outputs": [
    {
     "data": {
      "text/plain": [
       "(390999, 19)"
      ]
     },
     "execution_count": 23,
     "metadata": {},
     "output_type": "execute_result"
    }
   ],
   "source": [
    "df.dropna(axis=\"columns\",how=\"all\").shape"
   ]
  },
  {
   "cell_type": "code",
   "execution_count": 24,
   "metadata": {},
   "outputs": [
    {
     "data": {
      "text/plain": [
       "(390999, 3)"
      ]
     },
     "execution_count": 24,
     "metadata": {},
     "output_type": "execute_result"
    }
   ],
   "source": [
    "df.dropna(axis=\"columns\",how=\"any\").shape"
   ]
  },
  {
   "cell_type": "markdown",
   "metadata": {},
   "source": [
    "## A Simple Analysis"
   ]
  },
  {
   "cell_type": "code",
   "execution_count": 25,
   "metadata": {},
   "outputs": [
    {
     "data": {
      "text/plain": [
       "reason_for_stop\n",
       "Moving Violation                285562\n",
       "Equipment Violation              99577\n",
       "Radio Call/Citizen Contact        1941\n",
       "Muni, County, H&S Code            1349\n",
       "Personal Knowledge/Informant       884\n",
       "Name: count, dtype: int64"
      ]
     },
     "execution_count": 25,
     "metadata": {},
     "output_type": "execute_result"
    }
   ],
   "source": [
    "df.reason_for_stop.value_counts().head()"
   ]
  },
  {
   "cell_type": "code",
   "execution_count": 26,
   "metadata": {},
   "outputs": [
    {
     "data": {
      "text/plain": [
       "subject_sex\n",
       "male      0.628904\n",
       "female    0.371096\n",
       "Name: proportion, dtype: float64"
      ]
     },
     "execution_count": 26,
     "metadata": {},
     "output_type": "execute_result"
    }
   ],
   "source": [
    "df[df.reason_for_stop==\n",
    "   \"Moving Violation\"\n",
    "  ].subject_sex.value_counts(normalize=True)"
   ]
  },
  {
   "cell_type": "code",
   "execution_count": 27,
   "metadata": {},
   "outputs": [
    {
     "data": {
      "text/plain": [
       "subject_sex\n",
       "male      0.628904\n",
       "female    0.371096\n",
       "Name: proportion, dtype: float64"
      ]
     },
     "execution_count": 27,
     "metadata": {},
     "output_type": "execute_result"
    }
   ],
   "source": [
    "df[df.reason_for_stop==\n",
    "   \"Moving Violation\"\n",
    "  ].subject_sex.value_counts(\n",
    "    normalize=True)"
   ]
  },
  {
   "cell_type": "code",
   "execution_count": 28,
   "metadata": {},
   "outputs": [
    {
     "data": {
      "text/plain": [
       "reason_for_stop\n",
       "Moving Violation                0.773651\n",
       "Equipment Violation             0.215736\n",
       "Radio Call/Citizen Contact      0.003606\n",
       "Muni, County, H&S Code          0.002516\n",
       "Personal Knowledge/Informant    0.001609\n",
       "Name: proportion, dtype: float64"
      ]
     },
     "execution_count": 28,
     "metadata": {},
     "output_type": "execute_result"
    }
   ],
   "source": [
    "df[df.subject_sex==\n",
    "   \"female\"\n",
    "  ].reason_for_stop.value_counts(\n",
    "    normalize=True).head()"
   ]
  },
  {
   "cell_type": "code",
   "execution_count": 29,
   "metadata": {},
   "outputs": [
    {
     "data": {
      "text/plain": [
       "subject_sex  reason_for_stop             \n",
       "female       Moving Violation                0.773651\n",
       "             Equipment Violation             0.215736\n",
       "             Radio Call/Citizen Contact      0.003606\n",
       "             Muni, County, H&S Code          0.002516\n",
       "             Personal Knowledge/Informant    0.001609\n",
       "Name: proportion, dtype: float64"
      ]
     },
     "execution_count": 29,
     "metadata": {},
     "output_type": "execute_result"
    }
   ],
   "source": [
    "df.groupby(\n",
    "    \"subject_sex\"\n",
    ").reason_for_stop.value_counts(\n",
    "    normalize=True).head()"
   ]
  },
  {
   "cell_type": "code",
   "execution_count": 30,
   "metadata": {},
   "outputs": [
    {
     "data": {
      "text/html": [
       "<div>\n",
       "<style scoped>\n",
       "    .dataframe tbody tr th:only-of-type {\n",
       "        vertical-align: middle;\n",
       "    }\n",
       "\n",
       "    .dataframe tbody tr th {\n",
       "        vertical-align: top;\n",
       "    }\n",
       "\n",
       "    .dataframe thead th {\n",
       "        text-align: right;\n",
       "    }\n",
       "</style>\n",
       "<table border=\"1\" class=\"dataframe\">\n",
       "  <thead>\n",
       "    <tr style=\"text-align: right;\">\n",
       "      <th>reason_for_stop</th>\n",
       "      <th>Moving Violation</th>\n",
       "      <th>Equipment Violation</th>\n",
       "      <th>Radio Call/Citizen Contact</th>\n",
       "      <th>Muni, County, H&amp;S Code</th>\n",
       "      <th>Personal Knowledge/Informant</th>\n",
       "      <th>No Cause Specified on a Card</th>\n",
       "      <th>Suspect Info (I.S., Bulletin, Log)</th>\n",
       "      <th>Personal Observ/Knowledge</th>\n",
       "      <th>Other</th>\n",
       "      <th>UNI, &amp;County, H&amp;&amp;S Code</th>\n",
       "      <th>...</th>\n",
       "      <th>&amp;Equipment Violation</th>\n",
       "      <th>not marked  not marked</th>\n",
       "      <th>none listed</th>\n",
       "      <th>NOT CHECKED</th>\n",
       "      <th>B &amp; P</th>\n",
       "      <th>not secified</th>\n",
       "      <th>not noted</th>\n",
       "      <th>NOT SPECIFIED</th>\n",
       "      <th>&amp;Radio Call/Citizen Contact</th>\n",
       "      <th>not listed</th>\n",
       "    </tr>\n",
       "    <tr>\n",
       "      <th>subject_sex</th>\n",
       "      <th></th>\n",
       "      <th></th>\n",
       "      <th></th>\n",
       "      <th></th>\n",
       "      <th></th>\n",
       "      <th></th>\n",
       "      <th></th>\n",
       "      <th></th>\n",
       "      <th></th>\n",
       "      <th></th>\n",
       "      <th></th>\n",
       "      <th></th>\n",
       "      <th></th>\n",
       "      <th></th>\n",
       "      <th></th>\n",
       "      <th></th>\n",
       "      <th></th>\n",
       "      <th></th>\n",
       "      <th></th>\n",
       "      <th></th>\n",
       "      <th></th>\n",
       "    </tr>\n",
       "  </thead>\n",
       "  <tbody>\n",
       "    <tr>\n",
       "      <th>female</th>\n",
       "      <td>0.773651</td>\n",
       "      <td>0.215736</td>\n",
       "      <td>0.003606</td>\n",
       "      <td>0.002516</td>\n",
       "      <td>0.001609</td>\n",
       "      <td>0.001287</td>\n",
       "      <td>0.000929</td>\n",
       "      <td>0.000234</td>\n",
       "      <td>0.000110</td>\n",
       "      <td>0.000110</td>\n",
       "      <td>...</td>\n",
       "      <td>0.000015</td>\n",
       "      <td>0.000007</td>\n",
       "      <td>0.000007</td>\n",
       "      <td>0.000007</td>\n",
       "      <td>0.000007</td>\n",
       "      <td>0.000007</td>\n",
       "      <td>NaN</td>\n",
       "      <td>NaN</td>\n",
       "      <td>NaN</td>\n",
       "      <td>NaN</td>\n",
       "    </tr>\n",
       "    <tr>\n",
       "      <th>male</th>\n",
       "      <td>0.707770</td>\n",
       "      <td>0.276510</td>\n",
       "      <td>0.005690</td>\n",
       "      <td>0.003961</td>\n",
       "      <td>0.002614</td>\n",
       "      <td>0.000991</td>\n",
       "      <td>0.001619</td>\n",
       "      <td>0.000276</td>\n",
       "      <td>0.000087</td>\n",
       "      <td>0.000229</td>\n",
       "      <td>...</td>\n",
       "      <td>0.000004</td>\n",
       "      <td>NaN</td>\n",
       "      <td>0.000016</td>\n",
       "      <td>NaN</td>\n",
       "      <td>NaN</td>\n",
       "      <td>NaN</td>\n",
       "      <td>0.000008</td>\n",
       "      <td>0.000008</td>\n",
       "      <td>0.000004</td>\n",
       "      <td>0.000004</td>\n",
       "    </tr>\n",
       "  </tbody>\n",
       "</table>\n",
       "<p>2 rows × 26 columns</p>\n",
       "</div>"
      ],
      "text/plain": [
       "reason_for_stop  Moving Violation  Equipment Violation  \\\n",
       "subject_sex                                              \n",
       "female                   0.773651             0.215736   \n",
       "male                     0.707770             0.276510   \n",
       "\n",
       "reason_for_stop  Radio Call/Citizen Contact  Muni, County, H&S Code  \\\n",
       "subject_sex                                                           \n",
       "female                             0.003606                0.002516   \n",
       "male                               0.005690                0.003961   \n",
       "\n",
       "reason_for_stop  Personal Knowledge/Informant  No Cause Specified on a Card  \\\n",
       "subject_sex                                                                   \n",
       "female                               0.001609                      0.001287   \n",
       "male                                 0.002614                      0.000991   \n",
       "\n",
       "reason_for_stop  Suspect Info (I.S., Bulletin, Log)  \\\n",
       "subject_sex                                           \n",
       "female                                     0.000929   \n",
       "male                                       0.001619   \n",
       "\n",
       "reason_for_stop  Personal Observ/Knowledge     Other  UNI, &County, H&&S Code  \\\n",
       "subject_sex                                                                     \n",
       "female                            0.000234  0.000110                 0.000110   \n",
       "male                              0.000276  0.000087                 0.000229   \n",
       "\n",
       "reason_for_stop  ...  &Equipment Violation  not marked  not marked  \\\n",
       "subject_sex      ...                                                 \n",
       "female           ...              0.000015                0.000007   \n",
       "male             ...              0.000004                     NaN   \n",
       "\n",
       "reason_for_stop  none listed  NOT CHECKED     B & P  not secified  not noted  \\\n",
       "subject_sex                                                                    \n",
       "female              0.000007     0.000007  0.000007      0.000007        NaN   \n",
       "male                0.000016          NaN       NaN           NaN   0.000008   \n",
       "\n",
       "reason_for_stop  NOT SPECIFIED  &Radio Call/Citizen Contact  not listed  \n",
       "subject_sex                                                              \n",
       "female                     NaN                          NaN         NaN  \n",
       "male                  0.000008                     0.000004    0.000004  \n",
       "\n",
       "[2 rows x 26 columns]"
      ]
     },
     "execution_count": 30,
     "metadata": {},
     "output_type": "execute_result"
    }
   ],
   "source": [
    "df.groupby(\n",
    "    \"subject_sex\"\n",
    ").reason_for_stop.value_counts(\n",
    "    normalize=True).unstack()"
   ]
  },
  {
   "cell_type": "code",
   "execution_count": 31,
   "metadata": {},
   "outputs": [
    {
     "data": {
      "text/plain": [
       "arrest_made\n",
       "False    351060\n",
       "True       4917\n",
       "Name: count, dtype: int64"
      ]
     },
     "execution_count": 31,
     "metadata": {},
     "output_type": "execute_result"
    }
   ],
   "source": [
    "df.arrest_made.value_counts()"
   ]
  },
  {
   "cell_type": "code",
   "execution_count": 32,
   "metadata": {},
   "outputs": [
    {
     "data": {
      "text/plain": [
       "arrest_made\n",
       "False    0.986187\n",
       "True     0.013813\n",
       "Name: proportion, dtype: float64"
      ]
     },
     "execution_count": 32,
     "metadata": {},
     "output_type": "execute_result"
    }
   ],
   "source": [
    "df.arrest_made.value_counts(normalize=True)"
   ]
  },
  {
   "cell_type": "code",
   "execution_count": 33,
   "metadata": {},
   "outputs": [
    {
     "data": {
      "text/plain": [
       "subject_sex  arrest_made\n",
       "female       False          0.991049\n",
       "             True           0.008951\n",
       "male         False          0.983550\n",
       "             True           0.016450\n",
       "Name: proportion, dtype: float64"
      ]
     },
     "execution_count": 33,
     "metadata": {},
     "output_type": "execute_result"
    }
   ],
   "source": [
    "df.groupby(\n",
    "    \"subject_sex\"\n",
    ").arrest_made.value_counts(normalize=True)"
   ]
  },
  {
   "cell_type": "code",
   "execution_count": 34,
   "metadata": {},
   "outputs": [
    {
     "data": {
      "text/plain": [
       "subject_race            subject_sex  arrest_made\n",
       "asian/pacific islander  female       False          0.993134\n",
       "                                     True           0.006866\n",
       "                        male         False          0.987704\n",
       "                                     True           0.012296\n",
       "black                   female       False          0.985657\n",
       "Name: proportion, dtype: float64"
      ]
     },
     "execution_count": 34,
     "metadata": {},
     "output_type": "execute_result"
    }
   ],
   "source": [
    "df.groupby(\n",
    "    [\"subject_race\",\"subject_sex\"]\n",
    ").arrest_made.value_counts(\n",
    "    normalize=True).head()"
   ]
  },
  {
   "cell_type": "code",
   "execution_count": 35,
   "metadata": {},
   "outputs": [
    {
     "data": {
      "text/plain": [
       "DATE\n",
       "2014    144164\n",
       "2015    115422\n",
       "2016    103051\n",
       "2017     28230\n",
       "Name: count, dtype: int64"
      ]
     },
     "execution_count": 35,
     "metadata": {},
     "output_type": "execute_result"
    }
   ],
   "source": [
    "df.DATE.str.slice(0,4).value_counts()"
   ]
  },
  {
   "cell_type": "code",
   "execution_count": 36,
   "metadata": {},
   "outputs": [],
   "source": [
    "combined=df.DATE.str.cat(df.TIME, sep=\" \")"
   ]
  },
  {
   "cell_type": "code",
   "execution_count": 37,
   "metadata": {},
   "outputs": [
    {
     "data": {
      "text/html": [
       "<div>\n",
       "<style scoped>\n",
       "    .dataframe tbody tr th:only-of-type {\n",
       "        vertical-align: middle;\n",
       "    }\n",
       "\n",
       "    .dataframe tbody tr th {\n",
       "        vertical-align: top;\n",
       "    }\n",
       "\n",
       "    .dataframe thead th {\n",
       "        text-align: right;\n",
       "    }\n",
       "</style>\n",
       "<table border=\"1\" class=\"dataframe\">\n",
       "  <thead>\n",
       "    <tr style=\"text-align: right;\">\n",
       "      <th></th>\n",
       "      <th>raw_row_number</th>\n",
       "      <th>DATE</th>\n",
       "      <th>TIME</th>\n",
       "      <th>service_area</th>\n",
       "      <th>subject_age</th>\n",
       "      <th>subject_race</th>\n",
       "      <th>subject_sex</th>\n",
       "      <th>type</th>\n",
       "      <th>arrest_made</th>\n",
       "      <th>citation_issued</th>\n",
       "      <th>warning_issued</th>\n",
       "      <th>outcome</th>\n",
       "      <th>contraband_found</th>\n",
       "      <th>search_conducted</th>\n",
       "      <th>search_person</th>\n",
       "      <th>search_vehicle</th>\n",
       "      <th>search_basis</th>\n",
       "      <th>reason_for_search</th>\n",
       "      <th>reason_for_stop</th>\n",
       "      <th>stop_datetime</th>\n",
       "    </tr>\n",
       "  </thead>\n",
       "  <tbody>\n",
       "    <tr>\n",
       "      <th>0</th>\n",
       "      <td>1</td>\n",
       "      <td>2014-01-01</td>\n",
       "      <td>01:25:00</td>\n",
       "      <td>110</td>\n",
       "      <td>24.0</td>\n",
       "      <td>white</td>\n",
       "      <td>male</td>\n",
       "      <td>vehicular</td>\n",
       "      <td>False</td>\n",
       "      <td>True</td>\n",
       "      <td>False</td>\n",
       "      <td>citation</td>\n",
       "      <td>NaN</td>\n",
       "      <td>False</td>\n",
       "      <td>NaN</td>\n",
       "      <td>NaN</td>\n",
       "      <td>NaN</td>\n",
       "      <td>NaN</td>\n",
       "      <td>Moving Violation</td>\n",
       "      <td>2014-01-01 01:25:00</td>\n",
       "    </tr>\n",
       "    <tr>\n",
       "      <th>1</th>\n",
       "      <td>2</td>\n",
       "      <td>2014-01-01</td>\n",
       "      <td>05:47:00</td>\n",
       "      <td>320</td>\n",
       "      <td>42.0</td>\n",
       "      <td>white</td>\n",
       "      <td>male</td>\n",
       "      <td>vehicular</td>\n",
       "      <td>False</td>\n",
       "      <td>False</td>\n",
       "      <td>True</td>\n",
       "      <td>warning</td>\n",
       "      <td>NaN</td>\n",
       "      <td>False</td>\n",
       "      <td>NaN</td>\n",
       "      <td>NaN</td>\n",
       "      <td>NaN</td>\n",
       "      <td>NaN</td>\n",
       "      <td>Moving Violation</td>\n",
       "      <td>2014-01-01 05:47:00</td>\n",
       "    </tr>\n",
       "    <tr>\n",
       "      <th>2</th>\n",
       "      <td>3</td>\n",
       "      <td>2014-01-01</td>\n",
       "      <td>07:46:00</td>\n",
       "      <td>320</td>\n",
       "      <td>29.0</td>\n",
       "      <td>asian/pacific islander</td>\n",
       "      <td>male</td>\n",
       "      <td>vehicular</td>\n",
       "      <td>False</td>\n",
       "      <td>False</td>\n",
       "      <td>True</td>\n",
       "      <td>warning</td>\n",
       "      <td>NaN</td>\n",
       "      <td>False</td>\n",
       "      <td>NaN</td>\n",
       "      <td>NaN</td>\n",
       "      <td>NaN</td>\n",
       "      <td>NaN</td>\n",
       "      <td>Moving Violation</td>\n",
       "      <td>2014-01-01 07:46:00</td>\n",
       "    </tr>\n",
       "    <tr>\n",
       "      <th>3</th>\n",
       "      <td>4</td>\n",
       "      <td>2014-01-01</td>\n",
       "      <td>08:10:00</td>\n",
       "      <td>610</td>\n",
       "      <td>23.0</td>\n",
       "      <td>white</td>\n",
       "      <td>male</td>\n",
       "      <td>vehicular</td>\n",
       "      <td>False</td>\n",
       "      <td>True</td>\n",
       "      <td>False</td>\n",
       "      <td>citation</td>\n",
       "      <td>NaN</td>\n",
       "      <td>False</td>\n",
       "      <td>NaN</td>\n",
       "      <td>NaN</td>\n",
       "      <td>NaN</td>\n",
       "      <td>NaN</td>\n",
       "      <td>Moving Violation</td>\n",
       "      <td>2014-01-01 08:10:00</td>\n",
       "    </tr>\n",
       "    <tr>\n",
       "      <th>4</th>\n",
       "      <td>5</td>\n",
       "      <td>2014-01-01</td>\n",
       "      <td>08:35:00</td>\n",
       "      <td>930</td>\n",
       "      <td>35.0</td>\n",
       "      <td>hispanic</td>\n",
       "      <td>male</td>\n",
       "      <td>vehicular</td>\n",
       "      <td>False</td>\n",
       "      <td>True</td>\n",
       "      <td>False</td>\n",
       "      <td>citation</td>\n",
       "      <td>NaN</td>\n",
       "      <td>False</td>\n",
       "      <td>NaN</td>\n",
       "      <td>NaN</td>\n",
       "      <td>NaN</td>\n",
       "      <td>NaN</td>\n",
       "      <td>Equipment Violation</td>\n",
       "      <td>2014-01-01 08:35:00</td>\n",
       "    </tr>\n",
       "  </tbody>\n",
       "</table>\n",
       "</div>"
      ],
      "text/plain": [
       "   raw_row_number        DATE      TIME service_area  subject_age  \\\n",
       "0               1  2014-01-01  01:25:00          110         24.0   \n",
       "1               2  2014-01-01  05:47:00          320         42.0   \n",
       "2               3  2014-01-01  07:46:00          320         29.0   \n",
       "3               4  2014-01-01  08:10:00          610         23.0   \n",
       "4               5  2014-01-01  08:35:00          930         35.0   \n",
       "\n",
       "             subject_race subject_sex       type arrest_made citation_issued  \\\n",
       "0                   white        male  vehicular       False            True   \n",
       "1                   white        male  vehicular       False           False   \n",
       "2  asian/pacific islander        male  vehicular       False           False   \n",
       "3                   white        male  vehicular       False            True   \n",
       "4                hispanic        male  vehicular       False            True   \n",
       "\n",
       "  warning_issued   outcome contraband_found search_conducted search_person  \\\n",
       "0          False  citation              NaN            False           NaN   \n",
       "1           True   warning              NaN            False           NaN   \n",
       "2           True   warning              NaN            False           NaN   \n",
       "3          False  citation              NaN            False           NaN   \n",
       "4          False  citation              NaN            False           NaN   \n",
       "\n",
       "  search_vehicle search_basis reason_for_search      reason_for_stop  \\\n",
       "0            NaN          NaN               NaN     Moving Violation   \n",
       "1            NaN          NaN               NaN     Moving Violation   \n",
       "2            NaN          NaN               NaN     Moving Violation   \n",
       "3            NaN          NaN               NaN     Moving Violation   \n",
       "4            NaN          NaN               NaN  Equipment Violation   \n",
       "\n",
       "        stop_datetime  \n",
       "0 2014-01-01 01:25:00  \n",
       "1 2014-01-01 05:47:00  \n",
       "2 2014-01-01 07:46:00  \n",
       "3 2014-01-01 08:10:00  \n",
       "4 2014-01-01 08:35:00  "
      ]
     },
     "execution_count": 37,
     "metadata": {},
     "output_type": "execute_result"
    }
   ],
   "source": [
    "df[\"stop_datetime\"]=pd.to_datetime(combined)\n",
    "df.head()"
   ]
  },
  {
   "cell_type": "code",
   "execution_count": 38,
   "metadata": {},
   "outputs": [
    {
     "data": {
      "text/plain": [
       "raw_row_number                int64\n",
       "DATE                         object\n",
       "TIME                         object\n",
       "service_area                 object\n",
       "subject_age                 float64\n",
       "subject_race                 object\n",
       "subject_sex                  object\n",
       "type                         object\n",
       "arrest_made                  object\n",
       "citation_issued              object\n",
       "warning_issued               object\n",
       "outcome                      object\n",
       "contraband_found             object\n",
       "search_conducted             object\n",
       "search_person                object\n",
       "search_vehicle               object\n",
       "search_basis                 object\n",
       "reason_for_search            object\n",
       "reason_for_stop              object\n",
       "stop_datetime        datetime64[ns]\n",
       "dtype: object"
      ]
     },
     "execution_count": 38,
     "metadata": {},
     "output_type": "execute_result"
    }
   ],
   "source": [
    "df.dtypes"
   ]
  },
  {
   "cell_type": "code",
   "execution_count": 39,
   "metadata": {},
   "outputs": [
    {
     "data": {
      "text/plain": [
       "0    1.0\n",
       "1    1.0\n",
       "2    1.0\n",
       "3    1.0\n",
       "4    1.0\n",
       "Name: stop_datetime, dtype: float64"
      ]
     },
     "execution_count": 39,
     "metadata": {},
     "output_type": "execute_result"
    }
   ],
   "source": [
    "df.stop_datetime.dt.month.head()"
   ]
  },
  {
   "cell_type": "code",
   "execution_count": 40,
   "metadata": {},
   "outputs": [
    {
     "data": {
      "text/plain": [
       "0    False\n",
       "1    False\n",
       "2    False\n",
       "3    False\n",
       "4    False\n",
       "Name: arrest_made, dtype: object"
      ]
     },
     "execution_count": 40,
     "metadata": {},
     "output_type": "execute_result"
    }
   ],
   "source": [
    "df.arrest_made.head()"
   ]
  },
  {
   "cell_type": "code",
   "execution_count": 41,
   "metadata": {},
   "outputs": [],
   "source": [
    "df[\"arrest_made\"]=df.arrest_made.astype(bool)"
   ]
  },
  {
   "cell_type": "code",
   "execution_count": 42,
   "metadata": {},
   "outputs": [
    {
     "data": {
      "text/plain": [
       "arrest_made\n",
       "False    351060\n",
       "True      39939\n",
       "Name: count, dtype: int64"
      ]
     },
     "execution_count": 42,
     "metadata": {},
     "output_type": "execute_result"
    }
   ],
   "source": [
    "df.arrest_made.value_counts()"
   ]
  },
  {
   "cell_type": "code",
   "execution_count": 43,
   "metadata": {},
   "outputs": [
    {
     "data": {
      "text/plain": [
       "0.10214604129422326"
      ]
     },
     "execution_count": 43,
     "metadata": {},
     "output_type": "execute_result"
    }
   ],
   "source": [
    "df.arrest_made.mean()"
   ]
  },
  {
   "cell_type": "code",
   "execution_count": 44,
   "metadata": {},
   "outputs": [
    {
     "data": {
      "text/plain": [
       "stop_datetime\n",
       "0.0    0.113073\n",
       "1.0    0.140684\n",
       "2.0    0.141698\n",
       "3.0    0.127541\n",
       "4.0    0.105165\n",
       "Name: arrest_made, dtype: float64"
      ]
     },
     "execution_count": 44,
     "metadata": {},
     "output_type": "execute_result"
    }
   ],
   "source": [
    "df.groupby(\n",
    "    df.stop_datetime.dt.hour\n",
    ").arrest_made.mean().head()"
   ]
  },
  {
   "cell_type": "code",
   "execution_count": 45,
   "metadata": {},
   "outputs": [],
   "source": [
    "%matplotlib inline"
   ]
  },
  {
   "cell_type": "code",
   "execution_count": 46,
   "metadata": {
    "scrolled": true
   },
   "outputs": [
    {
     "data": {
      "text/plain": [
       "<Axes: xlabel='stop_datetime'>"
      ]
     },
     "execution_count": 46,
     "metadata": {},
     "output_type": "execute_result"
    },
    {
     "data": {
      "image/png": "[encoded data removed]",
      "text/plain": [
       "<Figure size 640x480 with 1 Axes>"
      ]
     },
     "metadata": {},
     "output_type": "display_data"
    }
   ],
   "source": [
    "df.groupby(\n",
    "    df.stop_datetime.dt.hour\n",
    ").arrest_made.mean().plot()"
   ]
  },
  {
   "cell_type": "code",
   "execution_count": 47,
   "metadata": {
    "scrolled": true
   },
   "outputs": [
    {
     "data": {
      "text/plain": [
       "stop_datetime\n",
       "10.0    30590\n",
       "9.0     29751\n",
       "8.0     27865\n",
       "15.0    24598\n",
       "0.0     22481\n",
       "Name: count, dtype: int64"
      ]
     },
     "execution_count": 47,
     "metadata": {},
     "output_type": "execute_result"
    }
   ],
   "source": [
    "df.stop_datetime.dt.hour.value_counts().head()"
   ]
  },
  {
   "cell_type": "code",
   "execution_count": 48,
   "metadata": {
    "scrolled": true
   },
   "outputs": [
    {
     "data": {
      "text/plain": [
       "stop_datetime\n",
       "0.0    22481\n",
       "1.0     8544\n",
       "2.0     5914\n",
       "3.0     3591\n",
       "4.0     3214\n",
       "Name: count, dtype: int64"
      ]
     },
     "execution_count": 48,
     "metadata": {},
     "output_type": "execute_result"
    }
   ],
   "source": [
    "df.stop_datetime.dt.hour.value_counts().sort_index().head()"
   ]
  },
  {
   "cell_type": "code",
   "execution_count": 49,
   "metadata": {
    "scrolled": true
   },
   "outputs": [
    {
     "data": {
      "text/plain": [
       "<Axes: xlabel='stop_datetime'>"
      ]
     },
     "execution_count": 49,
     "metadata": {},
     "output_type": "execute_result"
    },
    {
     "data": {
      "image/png": "[encoded data removed]",
      "text/plain": [
       "<Figure size 640x480 with 1 Axes>"
      ]
     },
     "metadata": {},
     "output_type": "display_data"
    }
   ],
   "source": [
    "df.stop_datetime.dt.hour.value_counts().sort_index().plot()"
   ]
  },
  {
   "cell_type": "code",
   "execution_count": null,
   "metadata": {},
   "outputs": [],
   "source": []
  }
 ],
 "metadata": {
  "kernelspec": {
   "display_name": "Python 3 (ipykernel)",
   "language": "python",
   "name": "python3"
  },
  "language_info": {
   "codemirror_mode": {
    "name": "ipython",
    "version": 3
   },
   "file_extension": ".py",
   "mimetype": "text/x-python",
   "name": "python",
   "nbconvert_exporter": "python",
   "pygments_lexer": "ipython3",
   "version": "3.11.5"
  }
 },
 "nbformat": 4,
 "nbformat_minor": 2
}
