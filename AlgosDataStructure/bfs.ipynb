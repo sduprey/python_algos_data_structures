{
 "cells": [
  {
   "cell_type": "markdown",
   "metadata": {
    "id": "BjPpmeNh39QW"
   },
   "source": [
    "# Breadth First Search"
   ]
  },
  {
   "cell_type": "markdown",
   "metadata": {
    "id": "jFOuLY9K39QY"
   },
   "source": [
    "In the previous notebook, we constructed an Erdos-Renyi graph and wrote a version of depth-first search (DFS) that works for graphs.\n",
    "\n",
    "When we did DFS in a tree, there was only one path from the root to any other node, so we never discovered the same node twice.\n",
    "In a graph, there might be multiple paths to the same node.\n",
    "To avoid discovering the same node over and over, we have to keep track of the nodes we've seen.\n",
    "\n",
    "In this notebook, we'll adapt the level-order traversal in the same way; the result is a breadth-first search (BFS).\n",
    "Then we'll adapt BFS to implement Dijkstra's algorithm, which computes the shortest path from a starting node to every other node (provided it is reachable).\n",
    "\n",
    "We'll test these functions with a Watts-Strogatz graph, then replicate part of an experiment from a [well-known paper](https://github.com/AllenDowney/ThinkComplexity2/blob/master/papers/watts98collective.pdf)."
   ]
  },
  {
   "cell_type": "markdown",
   "metadata": {
    "id": "b_0cJd_d39QY"
   },
   "source": [
    "## Watts-Strogatz graphs\n",
    "\n",
    "A Watts-Strogatz (WS) graph is a random graph, like an Erdos-Renyi graph, but the construction process is different.\n",
    "A WS graph starts with a ring lattice and randomly \"rewires\" some of the edges.\n",
    "\n",
    "NetworkX provides [a function that makes a WS graph](https://networkx.org/documentation/stable/reference/generated/networkx.generators.random_graphs.watts_strogatz_graph.html), so we can see what it looks like.\n",
    "\n",
    "Here's an example with `n=10` nodes, each connected to `k=2` neighbors, with probability `p=0` of rewiring each edge."
   ]
  },
  {
   "cell_type": "code",
   "execution_count": 1,
   "metadata": {
    "id": "LPALKAwT39QZ",
    "tags": []
   },
   "outputs": [
    {
     "data": {
      "text/plain": [
       "NodeView((0, 1, 2, 3, 4, 5, 6, 7, 8, 9))"
      ]
     },
     "execution_count": 1,
     "metadata": {},
     "output_type": "execute_result"
    }
   ],
   "source": [
    "import networkx as nx\n",
    "\n",
    "G = nx.watts_strogatz_graph(n=10, k=3, p=0)\n",
    "G.nodes()"
   ]
  },
  {
   "cell_type": "markdown",
   "metadata": {
    "id": "RwJ-eTWH39QZ"
   },
   "source": [
    "The result is a ring where each node holds hands with its immediate neighbors."
   ]
  },
  {
   "cell_type": "code",
   "execution_count": 2,
   "metadata": {
    "id": "5OWA8UPi39Qa"
   },
   "outputs": [],
   "source": [
    "def draw_graph(G):\n",
    "    nx.draw_circular(G, node_size=1000, with_labels=True)"
   ]
  },
  {
   "cell_type": "code",
   "execution_count": 3,
   "metadata": {
    "id": "kEF7-IVE39Qa"
   },
   "outputs": [
    {
     "data": {
      "image/png": "[encoded data removed]",
      "text/plain": [
       "<Figure size 640x480 with 1 Axes>"
      ]
     },
     "metadata": {},
     "output_type": "display_data"
    }
   ],
   "source": [
    "draw_graph(G)"
   ]
  },
  {
   "cell_type": "markdown",
   "metadata": {
    "id": "gFnpD2uQ39Qa"
   },
   "source": [
    "**Exercise:** Run this code again with different values of `k` and `p` to see what the effect is.\n",
    "\n",
    "Note: If `k` is odd, it gets \"rounded down\" to an even number."
   ]
  },
  {
   "cell_type": "markdown",
   "metadata": {
    "id": "8a0rC54Y39Qa"
   },
   "source": [
    "## Breadth-first search\n",
    "\n",
    "Here's the function from the previous notebook that implements depth-first search in a graph."
   ]
  },
  {
   "cell_type": "code",
   "execution_count": 5,
   "metadata": {
    "id": "jKe1Inbd39Qa"
   },
   "outputs": [],
   "source": [
    "def reachable_nodes(G, start):\n",
    "    seen = set()\n",
    "    stack = [start]\n",
    "    while stack:\n",
    "        node = stack.pop()\n",
    "        if node not in seen:\n",
    "            seen.add(node)\n",
    "            stack.extend(G[node])\n",
    "    return seen"
   ]
  },
  {
   "cell_type": "code",
   "execution_count": 6,
   "metadata": {
    "id": "ZPhA5Teo39Qb"
   },
   "outputs": [
    {
     "data": {
      "text/plain": [
       "{0, 1, 2, 3, 4, 5, 6, 7, 8, 9}"
      ]
     },
     "execution_count": 6,
     "metadata": {},
     "output_type": "execute_result"
    }
   ],
   "source": [
    "reachable_nodes(G, 0)"
   ]
  },
  {
   "cell_type": "markdown",
   "metadata": {
    "id": "XUa2UuvX39Qb"
   },
   "source": [
    "## Fast BFS\n",
    "\n",
    "NetworkX provides a simple, fast implementation of BFS, available from [the NetworkX repository on GitHub](https://github.com/networkx/networkx/blob/master/networkx/algorithms/components/connected.py).\n",
    "Here is a version I modified to return a set of nodes:"
   ]
  },
  {
   "cell_type": "code",
   "execution_count": 7,
   "metadata": {
    "id": "C6PR_pp239Qb"
   },
   "outputs": [],
   "source": [
    "def plain_bfs(G, start):\n",
    "    seen = set()\n",
    "    nextlevel = {start}\n",
    "    while nextlevel:\n",
    "        thislevel = nextlevel\n",
    "        nextlevel = set()\n",
    "        for v in thislevel:\n",
    "            if v not in seen:\n",
    "                seen.add(v)\n",
    "                nextlevel.update(G[v])\n",
    "    return seen"
   ]
  },
  {
   "cell_type": "markdown",
   "metadata": {
    "id": "z2qXuBEL39Qb"
   },
   "source": [
    "Let's compare this function to `reachable_nodes_bfs` and see which is faster."
   ]
  },
  {
   "cell_type": "code",
   "execution_count": 8,
   "metadata": {
    "id": "oXnJsETe39Qb"
   },
   "outputs": [],
   "source": [
    "G = nx.watts_strogatz_graph(1000, 10, 0.01)"
   ]
  },
  {
   "cell_type": "code",
   "execution_count": 10,
   "metadata": {
    "id": "PZOOIe3J39Qb"
   },
   "outputs": [
    {
     "name": "stdout",
     "output_type": "stream",
     "text": [
      "512 µs ± 1.04 µs per loop (mean ± std. dev. of 7 runs, 1,000 loops each)\n"
     ]
    }
   ],
   "source": [
    "%timeit reachable_nodes(G, 0)"
   ]
  },
  {
   "cell_type": "code",
   "execution_count": 11,
   "metadata": {
    "id": "THV1siO-39Qb"
   },
   "outputs": [
    {
     "name": "stdout",
     "output_type": "stream",
     "text": [
      "400 µs ± 3.76 µs per loop (mean ± std. dev. of 7 runs, 1,000 loops each)\n"
     ]
    }
   ],
   "source": [
    "%timeit plain_bfs(G, 0)"
   ]
  },
  {
   "cell_type": "markdown",
   "metadata": {
    "id": "AfhFjaMW39Qb"
   },
   "source": [
    "## Dijkstra's algorithm\n",
    "\n",
    "During a breadth-first search, whenever we discover a new node, the path we took must be the shortest.\n",
    "That's necessarily true because, if there had been a shorter path, we would have discovered the node sooner.\n",
    "\n",
    "This insight is the basis of Dijkstra's algorithm, which computes the shortest path from a give \"source\" node to all other (reachable) nodes.\n",
    "\n",
    "The general version of Dijkstra's algorithm works on graphs where the edges have different lengths, like the distance between cities, for example.\n",
    "\n",
    "We'll start with a simpler version where all edges have length `1`.\n",
    "This version is similar to BFS, with one change: instead of keeping a set of nodes that have already been seen, we keep a dictionary that maps from each discovered node to its distance from the source."
   ]
  },
  {
   "cell_type": "code",
   "execution_count": 18,
   "metadata": {
    "id": "UVTZt66i39Qc"
   },
   "outputs": [
    {
     "name": "stdout",
     "output_type": "stream",
     "text": [
      "258 µs ± 828 ns per loop (mean ± std. dev. of 7 runs, 1,000 loops each)\n"
     ]
    }
   ],
   "source": [
    "%timeit nx.shortest_path_length(G, 0)"
   ]
  },
  {
   "cell_type": "markdown",
   "metadata": {
    "id": "tiAnaO1O39Qg"
   },
   "source": [
    "## The WS Experiment\n",
    "\n",
    "The original purpose of the Watts-Strogatz graph is to explore the structure of social networks, particularly the \"small world\" phenomenon, also known as \"six degrees of separation\".\n",
    "\n",
    "The observation is that path lengths in social networks are shorter than you might expect: the distance between any two people on earth might be six connections (or less) on average.\n",
    "\n",
    "The random edges in a WS graph often connect people in parts of the graph that would otherwise be far apart. Even a small number of these \"long links\" can greatly reduce the average path length.\n",
    "\n",
    "To replicate part of their original experiment, I'll use `nx.average_shortest_path_length`, which takes a graph, uses the unweighted version of Dijkstra's algorithm to compute the shortest path from each node to all of the others, and returns the average of the shortest path lengths."
   ]
  },
  {
   "cell_type": "code",
   "execution_count": 12,
   "metadata": {
    "id": "g98eWK7I39Qg"
   },
   "outputs": [
    {
     "data": {
      "text/plain": [
       "1.6666666666666667"
      ]
     },
     "execution_count": 12,
     "metadata": {},
     "output_type": "execute_result"
    }
   ],
   "source": [
    "G = nx.watts_strogatz_graph(10, 4, 0)\n",
    "nx.average_shortest_path_length(G)"
   ]
  },
  {
   "cell_type": "code",
   "execution_count": 13,
   "metadata": {
    "id": "NmM8koys39Qg"
   },
   "outputs": [
    {
     "data": {
      "text/plain": [
       "50.450450450450454"
      ]
     },
     "execution_count": 13,
     "metadata": {},
     "output_type": "execute_result"
    }
   ],
   "source": [
    "G = nx.watts_strogatz_graph(1000, 10, 0)\n",
    "nx.average_shortest_path_length(G)"
   ]
  },
  {
   "cell_type": "markdown",
   "metadata": {
    "id": "Uv2cghWc39Qg"
   },
   "source": [
    "We'll run this function for WS graphs with a range of values for `p`."
   ]
  },
  {
   "cell_type": "code",
   "execution_count": 14,
   "metadata": {
    "id": "cmXMu2Jg39Qg"
   },
   "outputs": [
    {
     "name": "stdout",
     "output_type": "stream",
     "text": [
      "[1.00000000e-04 3.16227766e-04 1.00000000e-03 3.16227766e-03\n",
      " 1.00000000e-02 3.16227766e-02 1.00000000e-01 3.16227766e-01\n",
      " 1.00000000e+00]\n"
     ]
    }
   ],
   "source": [
    "import numpy as np\n",
    "\n",
    "ps = np.logspace(-4, 0, 9)\n",
    "print(ps)"
   ]
  },
  {
   "cell_type": "code",
   "execution_count": 15,
   "metadata": {
    "id": "Wzew6CWO39Qg"
   },
   "outputs": [
    {
     "name": "stdout",
     "output_type": "stream",
     "text": [
      "0.0001\n",
      "0.00031622776601683794\n",
      "0.001\n",
      "0.0031622776601683794\n",
      "0.01\n",
      "0.03162277660168379\n",
      "0.1\n",
      "0.31622776601683794\n",
      "1.0\n"
     ]
    }
   ],
   "source": [
    "lengths = []\n",
    "\n",
    "n = 1000\n",
    "k = 10\n",
    "for p in ps:\n",
    "    print(p)\n",
    "    G = nx.watts_strogatz_graph(n, k, p)\n",
    "    aspl = nx.average_shortest_path_length(G)\n",
    "    lengths.append(aspl)"
   ]
  },
  {
   "cell_type": "markdown",
   "metadata": {
    "id": "HKRYknea39Qg"
   },
   "source": [
    "Here's what the result looks like."
   ]
  },
  {
   "cell_type": "code",
   "execution_count": 16,
   "metadata": {
    "id": "9dxq18dK39Qg"
   },
   "outputs": [
    {
     "data": {
      "image/png": "[encoded data removed]",
      "text/plain": [
       "<Figure size 640x480 with 1 Axes>"
      ]
     },
     "metadata": {},
     "output_type": "display_data"
    }
   ],
   "source": [
    "import matplotlib.pyplot as plt\n",
    "\n",
    "plt.plot(ps, lengths, 'o-', linewidth=1, label='L(p)')\n",
    "plt.xlabel('Rewiring probability (p)')\n",
    "plt.xscale('log')\n",
    "plt.ylim([0, max(lengths)+3])\n",
    "plt.title('Average path length');"
   ]
  },
  {
   "cell_type": "markdown",
   "metadata": {
    "id": "Ws1pmAhM39Qg"
   },
   "source": [
    "With `p=0.01`, we're only rewiring 1% of the edges, but the average path length is already down about as low as it will go."
   ]
  }
 ],
 "metadata": {
  "anaconda-cloud": {},
  "celltoolbar": "Tags",
  "colab": {
   "provenance": []
  },
  "kernelspec": {
   "display_name": "Python 3 (ipykernel)",
   "language": "python",
   "name": "python3"
  },
  "language_info": {
   "codemirror_mode": {
    "name": "ipython",
    "version": 3
   },
   "file_extension": ".py",
   "mimetype": "text/x-python",
   "name": "python",
   "nbconvert_exporter": "python",
   "pygments_lexer": "ipython3",
   "version": "3.11.5"
  }
 },
 "nbformat": 4,
 "nbformat_minor": 1
}
