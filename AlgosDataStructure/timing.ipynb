{
 "cells": [
  {
   "cell_type": "markdown",
   "id": "absent-egypt",
   "metadata": {
    "id": "absent-egypt"
   },
   "source": [
    "# Testing Order of Growth"
   ]
  },
  {
   "cell_type": "code",
   "execution_count": null,
   "id": "Dye9wAAf2NqA",
   "metadata": {
    "id": "Dye9wAAf2NqA"
   },
   "outputs": [],
   "source": []
  },
  {
   "cell_type": "markdown",
   "id": "british-complex",
   "metadata": {
    "id": "british-complex"
   },
   "source": [
    "Analysis of algorithms makes it possible to predict how run time will grow as the size of a problem increases.\n",
    "But this kind of analysis ignores leading coefficients and non-leading terms.\n",
    "So the behavior for small and medium problems might not be what the analysis predicts.\n",
    "\n",
    "To see how run time really behaves for a range of problem sizes, we can run the algorithm and measure.\n",
    "\n",
    "To do the measurement, we'll use the [times](https://docs.python.org/3/library/os.html#os.times) function from the `os` module."
   ]
  },
  {
   "cell_type": "code",
   "execution_count": null,
   "id": "enhanced-choir",
   "metadata": {
    "id": "enhanced-choir"
   },
   "outputs": [],
   "source": [
    "import os\n",
    "\n",
    "def etime():\n",
    "    \"\"\"Measures user and system time this process has used.\n",
    "\n",
    "    Returns the sum of user and system time.\"\"\"\n",
    "    user, sys, chuser, chsys, real = os.times()\n",
    "    return user+sys"
   ]
  },
  {
   "cell_type": "code",
   "execution_count": null,
   "id": "magnetic-standing",
   "metadata": {
    "id": "magnetic-standing"
   },
   "outputs": [],
   "source": [
    "start = etime()\n",
    "t = [x**2 for x in range(10000)]\n",
    "end = etime()\n",
    "end - start"
   ]
  },
  {
   "cell_type": "markdown",
   "id": "attempted-finnish",
   "metadata": {
    "id": "attempted-finnish"
   },
   "source": [
    "Exercise: Use `etime` to measure the computation time used by `sleep`."
   ]
  },
  {
   "cell_type": "code",
   "execution_count": null,
   "id": "unauthorized-currency",
   "metadata": {
    "id": "unauthorized-currency"
   },
   "outputs": [],
   "source": [
    "from time import sleep\n",
    "\n",
    "sleep(1)"
   ]
  },
  {
   "cell_type": "code",
   "execution_count": null,
   "id": "welcome-wilderness",
   "metadata": {
    "id": "welcome-wilderness"
   },
   "outputs": [],
   "source": []
  },
  {
   "cell_type": "code",
   "execution_count": null,
   "id": "supposed-carpet",
   "metadata": {
    "id": "supposed-carpet"
   },
   "outputs": [],
   "source": [
    "def time_func(func, n):\n",
    "    \"\"\"Run a function and return the elapsed time.\n",
    "\n",
    "    func: function\n",
    "    n: problem size, passed as an argument to func\n",
    "\n",
    "    returns: user+sys time in seconds\n",
    "    \"\"\"\n",
    "    start = etime()\n",
    "    func(n)\n",
    "    end = etime()\n",
    "    elapsed = end - start\n",
    "    return elapsed"
   ]
  },
  {
   "cell_type": "markdown",
   "id": "impressed-effort",
   "metadata": {
    "id": "impressed-effort"
   },
   "source": [
    "One of the things that makes timing tricky is that many operations are too fast to measure accurately.\n",
    "\n",
    "`%timeit` handles this by running enough times get a precise estimate, even for things that run very fast.\n",
    "\n",
    "We'll handle it by running over a wide range of problem sizes, hoping to find sizes that run long enough to measure, but not more than a few seconds."
   ]
  },
  {
   "cell_type": "markdown",
   "id": "ca63326a",
   "metadata": {
    "id": "ca63326a"
   },
   "source": [
    "\n",
    "The following function takes a size, `n`, creates an empty list, and calls `list.append` `n` times."
   ]
  },
  {
   "cell_type": "code",
   "execution_count": null,
   "id": "adjustable-daniel",
   "metadata": {
    "id": "adjustable-daniel"
   },
   "outputs": [],
   "source": [
    "def list_append(n):\n",
    "    t = []\n",
    "    [t.append(x) for x in range(n)]"
   ]
  },
  {
   "cell_type": "markdown",
   "id": "c92d719c",
   "metadata": {
    "id": "c92d719c"
   },
   "source": [
    "`timeit` can time this function accurately."
   ]
  },
  {
   "cell_type": "code",
   "execution_count": null,
   "id": "later-updating",
   "metadata": {
    "id": "later-updating"
   },
   "outputs": [],
   "source": [
    "%timeit list_append(10000)"
   ]
  },
  {
   "cell_type": "markdown",
   "id": "nearby-netherlands",
   "metadata": {
    "id": "nearby-netherlands"
   },
   "source": [
    "But our `time_func` is not that smart."
   ]
  },
  {
   "cell_type": "code",
   "execution_count": null,
   "id": "cosmetic-bradford",
   "metadata": {
    "id": "cosmetic-bradford"
   },
   "outputs": [],
   "source": [
    "time_func(list_append, 10000)"
   ]
  },
  {
   "cell_type": "markdown",
   "id": "headed-reducing",
   "metadata": {
    "id": "headed-reducing"
   },
   "source": [
    "Exercise: Increase the number of iterations until the run time is measureable."
   ]
  },
  {
   "cell_type": "code",
   "execution_count": null,
   "id": "documented-integration",
   "metadata": {
    "id": "documented-integration"
   },
   "outputs": [],
   "source": []
  },
  {
   "cell_type": "markdown",
   "id": "assumed-spell",
   "metadata": {
    "id": "assumed-spell"
   },
   "source": [
    "## List append\n",
    "\n",
    "The following function gradually increases `n` and records the total time."
   ]
  },
  {
   "cell_type": "code",
   "execution_count": null,
   "id": "brown-princess",
   "metadata": {
    "id": "brown-princess"
   },
   "outputs": [],
   "source": [
    "def run_timing_test(func, max_time=1):\n",
    "    \"\"\"Tests the given function with a range of values for n.\n",
    "\n",
    "    func: function object\n",
    "\n",
    "    returns: list of ns and a list of run times.\n",
    "    \"\"\"\n",
    "    ns = []\n",
    "    ts = []\n",
    "    for i in range(10, 28):\n",
    "        n = 2**i\n",
    "        t = time_func(func, n)\n",
    "        print(n, t)\n",
    "        if t > 0:\n",
    "            ns.append(n)\n",
    "            ts.append(t)\n",
    "        if t > max_time:\n",
    "            break\n",
    "\n",
    "    return ns, ts"
   ]
  },
  {
   "cell_type": "code",
   "execution_count": null,
   "id": "living-tamil",
   "metadata": {
    "id": "living-tamil"
   },
   "outputs": [],
   "source": [
    "ns, ts = run_timing_test(list_append)"
   ]
  },
  {
   "cell_type": "code",
   "execution_count": null,
   "id": "suspended-thanksgiving",
   "metadata": {
    "id": "suspended-thanksgiving"
   },
   "outputs": [],
   "source": [
    "import matplotlib.pyplot as plt\n",
    "\n",
    "plt.plot(ns, ts, 'o-')\n",
    "plt.xlabel('Problem size (n)')\n",
    "plt.ylabel('Runtime (seconds)');"
   ]
  },
  {
   "cell_type": "markdown",
   "id": "tough-arbitration",
   "metadata": {
    "id": "tough-arbitration"
   },
   "source": [
    "This one looks pretty linear, but it won't always be so clear.\n",
    "It will help to plot a straight line that goes through the last data point."
   ]
  },
  {
   "cell_type": "code",
   "execution_count": null,
   "id": "favorite-lightweight",
   "metadata": {
    "id": "favorite-lightweight"
   },
   "outputs": [],
   "source": [
    "def fit(ns, ts, exp=1.0, index=-1):\n",
    "    \"\"\"Fits a curve with the given exponent.\n",
    "\n",
    "    ns: sequence of problem sizes\n",
    "    ts: sequence of times\n",
    "    exp: exponent of the fitted curve\n",
    "    index: index of the element the fitted line should go through\n",
    "\n",
    "    returns: sequence of fitted times\n",
    "\n",
    "\n",
    "    \"\"\"\n",
    "    # Use the element with the given index as a reference point,\n",
    "    # and scale all other points accordingly.\n",
    "    nref = ns[index]\n",
    "    tref = ts[index]\n",
    "\n",
    "    tfit = []\n",
    "    for n in ns:\n",
    "        ratio = n / nref\n",
    "        t = ratio**exp * tref\n",
    "        tfit.append(t)\n",
    "\n",
    "    return tfit"
   ]
  },
  {
   "cell_type": "code",
   "execution_count": null,
   "id": "descending-gregory",
   "metadata": {
    "id": "descending-gregory"
   },
   "outputs": [],
   "source": [
    "ts_fit = fit(ns, ts)\n",
    "ts_fit"
   ]
  },
  {
   "cell_type": "markdown",
   "id": "aquatic-sucking",
   "metadata": {
    "id": "aquatic-sucking"
   },
   "source": [
    "The following function plots the actual results and the fitted line."
   ]
  },
  {
   "cell_type": "code",
   "execution_count": null,
   "id": "similar-chapter",
   "metadata": {
    "id": "similar-chapter"
   },
   "outputs": [],
   "source": [
    "def plot_timing_test(ns, ts, label='', color='C0', exp=1.0, scale='log'):\n",
    "    \"\"\"Plots data and a fitted curve.\n",
    "\n",
    "    ns: sequence of n (problem size)\n",
    "    ts: sequence of t (run time)\n",
    "    label: string label for the data curve\n",
    "    color: string color for the data curve\n",
    "    exp: exponent (slope) for the fitted curve\n",
    "    scale: string passed to xscale and yscale\n",
    "    \"\"\"\n",
    "    ts_fit = fit(ns, ts, exp)\n",
    "    fit_label = 'exp = %d' % exp\n",
    "    plt.plot(ns, ts_fit, label=fit_label, color='0.7', linestyle='dashed')\n",
    "    plt.plot(ns, ts, 'o-', label=label, color=color, alpha=0.7)\n",
    "    plt.xlabel('Problem size (n)')\n",
    "    plt.ylabel('Runtime (seconds)')\n",
    "    plt.xscale(scale)\n",
    "    plt.yscale(scale)\n",
    "    plt.legend()"
   ]
  },
  {
   "cell_type": "code",
   "execution_count": null,
   "id": "particular-roots",
   "metadata": {
    "id": "particular-roots"
   },
   "outputs": [],
   "source": [
    "plot_timing_test(ns, ts, scale='linear')\n",
    "plt.title('list append');"
   ]
  },
  {
   "cell_type": "markdown",
   "id": "burning-exchange",
   "metadata": {
    "id": "burning-exchange"
   },
   "source": [
    "From these results, what can we conclude about the order of growth of `list.append`?"
   ]
  },
  {
   "cell_type": "markdown",
   "id": "geographic-external",
   "metadata": {
    "id": "geographic-external"
   },
   "source": [
    "Before we go on, let's also look at the results on a log-log scale."
   ]
  },
  {
   "cell_type": "code",
   "execution_count": null,
   "id": "thousand-processor",
   "metadata": {
    "id": "thousand-processor"
   },
   "outputs": [],
   "source": [
    "plot_timing_test(ns, ts, scale='log')\n",
    "plt.title('list append');"
   ]
  },
  {
   "cell_type": "markdown",
   "id": "9b6bd334",
   "metadata": {
    "id": "9b6bd334"
   },
   "source": [
    "Why might we prefer this scale?"
   ]
  },
  {
   "cell_type": "markdown",
   "id": "passive-agent",
   "metadata": {
    "id": "passive-agent"
   },
   "source": [
    "## List pop\n",
    "\n",
    "Now let's do the same for `list.pop` (which pops from the end of the list by default).\n",
    "\n",
    "Notice that we have to make the list before we pop things from it, so we will have to think about how to interpret the results."
   ]
  },
  {
   "cell_type": "code",
   "execution_count": null,
   "id": "reliable-efficiency",
   "metadata": {
    "id": "reliable-efficiency"
   },
   "outputs": [],
   "source": [
    "def list_pop(n):\n",
    "    t = []\n",
    "    [t.append(x) for x in range(n)]\n",
    "    [t.pop() for _ in range(n)]\n",
    "\n",
    "ns, ts = run_timing_test(list_pop)\n",
    "plot_timing_test(ns, ts, scale='log')\n",
    "plt.title('list pop');"
   ]
  },
  {
   "cell_type": "markdown",
   "id": "regional-pearl",
   "metadata": {
    "id": "regional-pearl"
   },
   "source": [
    "What can we conclude?\n",
    "\n",
    "What about `pop(0)`, which pops from the beginning of the list?\n",
    "\n",
    "Note: You might have to adjust `exp` to make the fitted line fit."
   ]
  },
  {
   "cell_type": "code",
   "execution_count": null,
   "id": "destroyed-custody",
   "metadata": {
    "id": "destroyed-custody"
   },
   "outputs": [],
   "source": [
    "def list_pop0(n):\n",
    "    t = []\n",
    "    [t.append(x) for x in range(n)]\n",
    "    [t.pop(0) for _ in range(n)]\n",
    "\n",
    "ns, ts = run_timing_test(list_pop0)\n",
    "plot_timing_test(ns, ts, scale='log', exp=1)\n",
    "plt.title('list pop(0)');"
   ]
  },
  {
   "cell_type": "markdown",
   "id": "ceramic-honduras",
   "metadata": {
    "id": "ceramic-honduras"
   },
   "source": [
    "## Searching a list\n",
    "\n",
    "`list.index` searches a list and returns the index of the first element that matches the target.\n",
    "\n",
    "What do we expect if we always search for the first element?"
   ]
  },
  {
   "cell_type": "code",
   "execution_count": null,
   "id": "unusual-scholarship",
   "metadata": {
    "id": "unusual-scholarship"
   },
   "outputs": [],
   "source": [
    "def list_index0(n):\n",
    "    t = []\n",
    "    [t.append(x) for x in range(n)]\n",
    "    [t.index(0) for _ in range(n)]\n",
    "\n",
    "ns, ts = run_timing_test(list_index0)\n",
    "\n",
    "plot_timing_test(ns, ts, scale='log', exp=1)\n",
    "plt.title('list index(0)');"
   ]
  },
  {
   "cell_type": "markdown",
   "id": "declared-completion",
   "metadata": {
    "id": "declared-completion"
   },
   "source": [
    "What if we always search for the last element?"
   ]
  },
  {
   "cell_type": "code",
   "execution_count": null,
   "id": "executive-distributor",
   "metadata": {
    "id": "executive-distributor"
   },
   "outputs": [],
   "source": [
    "def list_index_n(n):\n",
    "    t = []\n",
    "    [t.append(x) for x in range(n)]\n",
    "    [t.index(n-1) for _ in range(n)]\n",
    "\n",
    "ns, ts = run_timing_test(list_index_n)\n",
    "\n",
    "plot_timing_test(ns, ts, scale='log', exp=1)\n",
    "plt.title('list index(n-1)');"
   ]
  },
  {
   "cell_type": "markdown",
   "id": "indian-stranger",
   "metadata": {
    "id": "indian-stranger"
   },
   "source": [
    "## Dictionary add"
   ]
  },
  {
   "cell_type": "code",
   "execution_count": null,
   "id": "reported-firewall",
   "metadata": {
    "id": "reported-firewall"
   },
   "outputs": [],
   "source": [
    "def dict_add(n):\n",
    "    d = {}\n",
    "    [d.setdefault(x, x) for x in range(n)]\n",
    "\n",
    "ns, ts = run_timing_test(dict_add)\n",
    "\n",
    "plot_timing_test(ns, ts, scale='log', exp=1)\n",
    "plt.title('dict add');"
   ]
  },
  {
   "cell_type": "markdown",
   "id": "silent-mainstream",
   "metadata": {
    "id": "silent-mainstream"
   },
   "source": [
    "## Dictionary lookup"
   ]
  },
  {
   "cell_type": "code",
   "execution_count": null,
   "id": "alive-gravity",
   "metadata": {
    "id": "alive-gravity"
   },
   "outputs": [],
   "source": [
    "def dict_lookup(n):\n",
    "    d = {}\n",
    "    [d.setdefault(x, x) for x in range(n)]\n",
    "    [d[x] for x in range(n)]\n",
    "\n",
    "ns, ts = run_timing_test(dict_lookup)\n",
    "\n",
    "plot_timing_test(ns, ts, scale='log', exp=1)\n",
    "plt.title('dict lookup');"
   ]
  },
  {
   "cell_type": "markdown",
   "id": "tough-anthony",
   "metadata": {
    "id": "tough-anthony"
   },
   "source": [
    "This characteristic of dictionaries is the foundation of a lot of efficient algorithms!"
   ]
  }
 ],
 "metadata": {
  "colab": {
   "provenance": []
  },
  "kernelspec": {
   "display_name": "Python 3 (ipykernel)",
   "language": "python",
   "name": "python3"
  },
  "language_info": {
   "codemirror_mode": {
    "name": "ipython",
    "version": 3
   },
   "file_extension": ".py",
   "mimetype": "text/x-python",
   "name": "python",
   "nbconvert_exporter": "python",
   "pygments_lexer": "ipython3",
   "version": "3.11.5"
  }
 },
 "nbformat": 4,
 "nbformat_minor": 5
}
