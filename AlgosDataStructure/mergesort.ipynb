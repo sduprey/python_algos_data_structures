{
 "cells": [
  {
   "cell_type": "markdown",
   "metadata": {
    "id": "K66_UViL4EtR"
   },
   "source": [
    "# Merge Sort"
   ]
  },
  {
   "cell_type": "markdown",
   "metadata": {
    "id": "xc43tRU84EtS"
   },
   "source": [
    "## Implementing Merge Sort\n",
    "\n",
    "[Merge sort](https://en.wikipedia.org/wiki/Merge_sort) is a divide and conquer strategy:\n",
    "\n",
    "1. Divide the sequence into two halves,\n",
    "\n",
    "2. Sort the halves, and\n",
    "\n",
    "3. Merge the sorted sub-sequences into a single sequence."
   ]
  },
  {
   "cell_type": "markdown",
   "metadata": {
    "id": "8CRQL2Oo4EtT"
   },
   "source": [
    "Since step 2 involves sorting, this algorithm is recursive, so we need a base case.\n",
    "There are two options:\n",
    "\n",
    "1. If the size falls below some threshold, we can use another sort algorithm.\n",
    "\n",
    "2. If the size of a sub-sequence is 1, it is already sorted.\n",
    "\n",
    "[Comparison with other sort algorithms](https://en.wikipedia.org/wiki/Merge_sort#Comparison_with_other_sort_algorithms)"
   ]
  },
  {
   "cell_type": "markdown",
   "metadata": {
    "id": "M-OCc0S84EtT"
   },
   "source": [
    "To implement merge sort, I think it's helpful to start with a non-recursive version that uses the Python `sort` function to sort the sub-sequences."
   ]
  },
  {
   "cell_type": "code",
   "execution_count": null,
   "metadata": {
    "id": "_s1f4LnY4EtT",
    "tags": []
   },
   "outputs": [],
   "source": [
    "def merge_sort_norec(xs):\n",
    "    n = len(xs)\n",
    "    mid = n//2\n",
    "    left = xs[:mid]\n",
    "    right = xs[mid:]\n",
    "\n",
    "    left.sort()\n",
    "    right.sort()\n",
    "\n",
    "    return merge(left, right)"
   ]
  },
  {
   "cell_type": "markdown",
   "metadata": {
    "id": "PWzshNZB4EtU"
   },
   "source": [
    "**Exercise:** Write a function called `merge` that takes two sorted sequences, `left` and `right`, and returns a sequence that contains all elements from `left` and `right`, in ascending order (or non-decreasing order, to be more precise).\n",
    "\n",
    "Note: this function is not conceptually difficult, but it is notoriously tricky to get all of the edge cases right without making the function unreadable.\n",
    "Take it as a challenge to write a version that is correct, concise, and readable.\n",
    "I found that I could write it more concisely as a generator function."
   ]
  },
  {
   "cell_type": "code",
   "execution_count": null,
   "metadata": {
    "id": "z7sTfy6N4EtU"
   },
   "outputs": [],
   "source": []
  },
  {
   "cell_type": "markdown",
   "metadata": {
    "id": "eW17gKq64EtU"
   },
   "source": [
    "You can use the following example to test your code."
   ]
  },
  {
   "cell_type": "code",
   "execution_count": null,
   "metadata": {
    "id": "koTwKIXZ4EtU"
   },
   "outputs": [],
   "source": [
    "import random\n",
    "\n",
    "population = range(100)\n",
    "xs = random.sample(population, k=6)\n",
    "ys = random.sample(population, k=6)\n",
    "ys"
   ]
  },
  {
   "cell_type": "code",
   "execution_count": null,
   "metadata": {
    "id": "xWKqfteI4EtU"
   },
   "outputs": [],
   "source": [
    "xs.sort()\n",
    "ys.sort()\n",
    "ys"
   ]
  },
  {
   "cell_type": "code",
   "execution_count": null,
   "metadata": {
    "id": "gDb8qvFg4EtU"
   },
   "outputs": [],
   "source": [
    "res = list(merge(xs, ys))\n",
    "res"
   ]
  },
  {
   "cell_type": "code",
   "execution_count": null,
   "metadata": {
    "id": "L74Wo0Kq4EtU"
   },
   "outputs": [],
   "source": [
    "sorted(res) == res"
   ]
  },
  {
   "cell_type": "markdown",
   "metadata": {
    "id": "XZr8Z3CZ4EtV"
   },
   "source": [
    "**Exercise:**  Starting with `merge_sort_norec`, write a function called `merge_sort_rec` that's fully recursive; that is, instead of using Python's `sort` function to sort the halves, it should use `merge_sort_rec`.  Of course, you will need a base case to avoid an infinite recursion.\n",
    "\n"
   ]
  },
  {
   "cell_type": "code",
   "execution_count": null,
   "metadata": {
    "id": "3V6ktjBO4EtV"
   },
   "outputs": [],
   "source": []
  },
  {
   "cell_type": "markdown",
   "metadata": {
    "id": "LRG6FWdt4EtV"
   },
   "source": [
    "Test your method by running the code in the next cell, then use `test_merge_sort_rec`, below, to check the performance of your function."
   ]
  },
  {
   "cell_type": "code",
   "execution_count": null,
   "metadata": {
    "id": "1DjbsmZh4EtV"
   },
   "outputs": [],
   "source": [
    "xs = random.sample(population, k=12)\n",
    "xs"
   ]
  },
  {
   "cell_type": "code",
   "execution_count": null,
   "metadata": {
    "id": "tQZL7pEW4EtV"
   },
   "outputs": [],
   "source": [
    "res = list(merge_sort_rec(xs))\n",
    "res"
   ]
  },
  {
   "cell_type": "code",
   "execution_count": null,
   "metadata": {
    "id": "UrBLEbjD4EtV"
   },
   "outputs": [],
   "source": [
    "sorted(res) == res"
   ]
  },
  {
   "cell_type": "markdown",
   "metadata": {
    "id": "a8bCSG4Q4EtV"
   },
   "source": [
    "## Heap Merge\n",
    "\n",
    "Suppose we want to merge more than two sub-sequences.\n",
    "A convenient way to do that is to use a heap.\n",
    "For example, here are three sorted sub-sequences."
   ]
  },
  {
   "cell_type": "code",
   "execution_count": null,
   "metadata": {
    "id": "cA56fHMd4EtV"
   },
   "outputs": [],
   "source": [
    "xs = random.sample(population, k=5)\n",
    "ys = random.sample(population, k=5)\n",
    "zs = random.sample(population, k=5)\n",
    "\n",
    "min(xs), min(ys), min(zs)"
   ]
  },
  {
   "cell_type": "code",
   "execution_count": null,
   "metadata": {
    "id": "DsriEzE74EtV"
   },
   "outputs": [],
   "source": [
    "xs.sort()\n",
    "ys.sort()\n",
    "zs.sort()"
   ]
  },
  {
   "cell_type": "markdown",
   "metadata": {
    "id": "yVUpBrL34EtV"
   },
   "source": [
    "For each sequence, I'll make an iterator and push onto the heap a tuple that contains:\n",
    "\n",
    "* The first element from the iterator,\n",
    "\n",
    "* An index that's different for each iterator, and\n",
    "\n",
    "* The iterator itself.\n",
    "\n",
    "When the heap compares two of these tuples, it compares the elements first.\n",
    "If there's a tie, it compares the indices.\n",
    "Since the indices are unique, there can't be a tie, so we never have to compare iterators (which would be an error)."
   ]
  },
  {
   "cell_type": "code",
   "execution_count": null,
   "metadata": {
    "id": "kTLmvxst4EtV",
    "tags": []
   },
   "outputs": [],
   "source": [
    "sequences = [xs, ys, zs]"
   ]
  },
  {
   "cell_type": "code",
   "execution_count": null,
   "metadata": {
    "id": "fhSYlk524EtV",
    "tags": []
   },
   "outputs": [],
   "source": [
    "from heapq import heappush, heappop\n",
    "\n",
    "heap = []\n",
    "for i, seq in enumerate(sequences):\n",
    "    iterator = iter(seq)\n",
    "    first = next(iterator)\n",
    "    heappush(heap, (first, i, iterator))"
   ]
  },
  {
   "cell_type": "markdown",
   "metadata": {
    "id": "9FSNEE1m4EtV"
   },
   "source": [
    "When we pop a value from the heap, we get the tuple with the smallest value."
   ]
  },
  {
   "cell_type": "code",
   "execution_count": null,
   "metadata": {
    "id": "JRz3nr7o4EtV",
    "tags": []
   },
   "outputs": [],
   "source": [
    "value, i, iterator = heappop(heap)\n",
    "value"
   ]
  },
  {
   "cell_type": "markdown",
   "metadata": {
    "id": "aS4TcLoq4EtV"
   },
   "source": [
    "If we know that the iterator has more values, we can use `next` to get the next one and then push a tuple back into the heap."
   ]
  },
  {
   "cell_type": "code",
   "execution_count": null,
   "metadata": {
    "id": "Y6bJIgkX4EtW",
    "tags": []
   },
   "outputs": [],
   "source": [
    "heappush(heap, (next(iterator), i, iterator))"
   ]
  },
  {
   "cell_type": "markdown",
   "metadata": {
    "id": "9O76VdWP4EtW"
   },
   "source": [
    "If we repeat this process, we'll get all elements from all sub-sequences in ascending order.\n",
    "\n",
    "However, we have to deal with the case where the iterator is empty.\n",
    "In Python, the only way to check is to call `next` and take your chances!\n",
    "If there are no more elements in the iterator, `next` raises a `StopIteration` exception, which you can handle with a `try` statement, like this:"
   ]
  },
  {
   "cell_type": "code",
   "execution_count": null,
   "metadata": {
    "id": "i7UOHdpn4EtW",
    "tags": []
   },
   "outputs": [],
   "source": [
    "iterator = iter(xs)\n",
    "\n",
    "while True:\n",
    "    try:\n",
    "        print(next(iterator))\n",
    "    except StopIteration:\n",
    "        break"
   ]
  },
  {
   "cell_type": "markdown",
   "metadata": {
    "id": "HCIofQ3A4EtW"
   },
   "source": [
    "**Exercise:** Write a generator function called `heapmerge` that takes a list of sequences and yields the elements from the sequences in increasing order."
   ]
  },
  {
   "cell_type": "code",
   "execution_count": null,
   "metadata": {
    "id": "hh4D9uQ74EtW"
   },
   "outputs": [],
   "source": []
  },
  {
   "cell_type": "markdown",
   "metadata": {
    "id": "7Na1elw34EtW"
   },
   "source": [
    "You can use the following examples to test your function."
   ]
  },
  {
   "cell_type": "code",
   "execution_count": null,
   "metadata": {
    "id": "vqEctSgm4EtW"
   },
   "outputs": [],
   "source": [
    "seq = list(heapmerge([xs, ys, zs]))\n",
    "seq"
   ]
  },
  {
   "cell_type": "code",
   "execution_count": null,
   "metadata": {
    "id": "3TI_4KmV4EtW"
   },
   "outputs": [],
   "source": [
    "sorted(seq) == seq"
   ]
  },
  {
   "cell_type": "markdown",
   "metadata": {
    "id": "YHGfils34EtW"
   },
   "source": [
    "The `heapq` module provides a function called `merge` that implements this algorithm."
   ]
  },
  {
   "cell_type": "markdown",
   "metadata": {
    "id": "H074eTrG4EtW"
   },
   "source": [
    "## Comparing sort algorithms\n",
    "\n",
    "NumPy provides implementations of three sorting algorithms, quicksort, mergesort, and heapsort.\n",
    "\n",
    "In theory that are all in `O(n log n)`.\n",
    "Let's see what that looks like when we plot runtime versus problem size.\n"
   ]
  },
  {
   "cell_type": "code",
   "execution_count": null,
   "metadata": {
    "id": "CbUZ-GA44EtW"
   },
   "outputs": [],
   "source": [
    "from os.path import basename, exists\n",
    "\n",
    "def download(url):\n",
    "    filename = basename(url)\n",
    "    if not exists(filename):\n",
    "        from urllib.request import urlretrieve\n",
    "        local, _ = urlretrieve(url, filename)\n",
    "        print('Downloaded ' + local)\n",
    "\n",
    "download('https://github.com/AllenDowney/DSIRP/raw/main/timing.py')"
   ]
  },
  {
   "cell_type": "code",
   "execution_count": null,
   "metadata": {
    "id": "fb3dwPBe4Eta"
   },
   "outputs": [],
   "source": [
    "from timing import run_timing_test, plot_timing_test"
   ]
  },
  {
   "cell_type": "code",
   "execution_count": null,
   "metadata": {
    "id": "Ds1rItlr4Eta"
   },
   "outputs": [],
   "source": [
    "import numpy as np\n",
    "\n",
    "def test_quicksort(n):\n",
    "    xs = np.random.normal(size=n)\n",
    "    xs.sort(kind='quicksort')\n",
    "\n",
    "ns, ts = run_timing_test(test_quicksort)\n",
    "plot_timing_test(ns, ts, 'test_quicksort', exp=1)"
   ]
  },
  {
   "cell_type": "markdown",
   "metadata": {
    "id": "REVoSQ_j4Eta"
   },
   "source": [
    "quicksort is hard to distinguish from linear, up to about 10 million elements."
   ]
  },
  {
   "cell_type": "code",
   "execution_count": null,
   "metadata": {
    "id": "eB-jY-8R4Eta"
   },
   "outputs": [],
   "source": [
    "def test_mergesort(n):\n",
    "    xs = np.random.normal(size=n)\n",
    "    xs.sort(kind='mergesort')\n",
    "\n",
    "ns, ts = run_timing_test(test_mergesort)\n",
    "plot_timing_test(ns, ts, 'test_mergesort', exp=1)"
   ]
  },
  {
   "cell_type": "markdown",
   "metadata": {
    "id": "E2mW-CEs4Eta"
   },
   "source": [
    "Merge sort is similar, maybe with some upward curvature."
   ]
  },
  {
   "cell_type": "code",
   "execution_count": null,
   "metadata": {
    "id": "bWFw3i984Eta"
   },
   "outputs": [],
   "source": [
    "def test_heapsort(n):\n",
    "    xs = np.random.normal(size=n)\n",
    "    xs.sort(kind='heapsort')\n",
    "\n",
    "ns, ts = run_timing_test(test_quicksort)\n",
    "plot_timing_test(ns, ts, 'test_heapsort', exp=1)"
   ]
  },
  {
   "cell_type": "markdown",
   "metadata": {
    "id": "lNNKyief4Eta"
   },
   "source": [
    "The three methods are effectively linear over this range of problem sizes.\n",
    "\n",
    "And their run times are about the same, with quicksort being the fastest, despite being the one with the worst asympotic performance in the worst case.\n",
    "\n",
    "Now let's see how our implementation of merge sort does."
   ]
  },
  {
   "cell_type": "code",
   "execution_count": null,
   "metadata": {
    "id": "t8VJKG6P4Eta"
   },
   "outputs": [],
   "source": [
    "def test_merge_sort_rec(n):\n",
    "    xs = np.random.normal(size=n)\n",
    "    spectrum = merge_sort_rec(xs)\n",
    "\n",
    "ns, ts = run_timing_test(test_merge_sort_rec)\n",
    "plot_timing_test(ns, ts, 'test_merge_sort_rec', exp=1)"
   ]
  },
  {
   "cell_type": "markdown",
   "metadata": {
    "id": "9ozA9eiX4Eta"
   },
   "source": [
    "If things go according to plan, our implementation of merge sort should be close to linear, or a little steeper."
   ]
  }
 ],
 "metadata": {
  "anaconda-cloud": {},
  "celltoolbar": "Tags",
  "colab": {
   "provenance": []
  },
  "kernelspec": {
   "display_name": "Python 3 (ipykernel)",
   "language": "python",
   "name": "python3"
  },
  "language_info": {
   "codemirror_mode": {
    "name": "ipython",
    "version": 3
   },
   "file_extension": ".py",
   "mimetype": "text/x-python",
   "name": "python",
   "nbconvert_exporter": "python",
   "pygments_lexer": "ipython3",
   "version": "3.11.5"
  }
 },
 "nbformat": 4,
 "nbformat_minor": 1
}
