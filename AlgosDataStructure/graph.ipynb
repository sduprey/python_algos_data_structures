{
 "cells": [
  {
   "cell_type": "markdown",
   "metadata": {
    "id": "my30L1Di33l5"
   },
   "source": [
    "# Graphs"
   ]
  },
  {
   "cell_type": "markdown",
   "metadata": {
    "id": "uadW7teI33l7"
   },
   "source": [
    "## Graph\n",
    "\n",
    "A graph is a collection of nodes and edges, where nodes often represent objects or ideas, and edges represent relationships among them.\n",
    "For example, in a graph that represents a social network, nodes might represent people and edges might represent friendships between them.\n",
    "\n",
    "NetworkX provides data structures to represent graphs and function that implement graph algorithms.\n",
    "To show how it works, we'll make a small graph that represents a social network.\n",
    "\n",
    "Here's how we make a graph and add nodes."
   ]
  },
  {
   "cell_type": "code",
   "execution_count": null,
   "metadata": {
    "id": "fVKvonVj33l7",
    "tags": []
   },
   "outputs": [],
   "source": [
    "import networkx as nx\n",
    "\n",
    "G = nx.Graph()\n",
    "G.add_node('Alice')\n",
    "G.add_node('Bob', age=23)\n",
    "G.add_node('Carol', cat='mittens')\n",
    "list(G.nodes())"
   ]
  },
  {
   "cell_type": "markdown",
   "metadata": {
    "id": "-qMHKnvs33l8"
   },
   "source": [
    "Optionally, you can provide attributes that are associated with the node. In this example, Bob has an `age` attribute and Carol has a cat.\n",
    "\n",
    "Here's how we add edges between nodes."
   ]
  },
  {
   "cell_type": "code",
   "execution_count": null,
   "metadata": {
    "id": "eq25X_0x33l8",
    "tags": []
   },
   "outputs": [],
   "source": [
    "G.add_edge('Alice', 'Bob')\n",
    "G.add_edge('Alice', 'Carol', type='enemy')\n",
    "list(G.edges())"
   ]
  },
  {
   "cell_type": "markdown",
   "metadata": {
    "id": "2-plazBh33l8"
   },
   "source": [
    "Optionally, you can provide attributes that are associated with the edge.\n",
    "In this example, the second edge has an attribute called `type` that indicates the nature of the relationship.\n",
    "\n",
    "Here's how to draw the graph."
   ]
  },
  {
   "cell_type": "code",
   "execution_count": null,
   "metadata": {
    "id": "2_9YTpQv33l8",
    "tags": []
   },
   "outputs": [],
   "source": [
    "def draw_graph(G):\n",
    "    nx.draw_circular(G, node_size=1500, with_labels=True)"
   ]
  },
  {
   "cell_type": "code",
   "execution_count": null,
   "metadata": {
    "id": "CZH32x1J33l9",
    "tags": []
   },
   "outputs": [],
   "source": [
    "draw_graph(G)"
   ]
  },
  {
   "cell_type": "markdown",
   "metadata": {
    "id": "yCJQZZDY33l9"
   },
   "source": [
    "**Exercise:**  Suppose Alice introduces Bob and Carol, and they become frenemies. Update the social network by adding an edge between Bob and Carol with an appropriate attribute, then draw the graph  again."
   ]
  },
  {
   "cell_type": "code",
   "execution_count": null,
   "metadata": {
    "id": "0N6jtD-L33l9",
    "jupyter": {
     "outputs_hidden": true
    }
   },
   "outputs": [],
   "source": []
  },
  {
   "cell_type": "markdown",
   "metadata": {
    "id": "4OFWPdJm33l9"
   },
   "source": [
    "## Graph Representation\n",
    "\n",
    "NetworkX represents graphs using a dictionary that maps from each node to a dictionary that maps from nodes to edges.\n",
    "\n",
    "If we select an element from the top-level dictionary, the result is a dictionary-like object."
   ]
  },
  {
   "cell_type": "code",
   "execution_count": null,
   "metadata": {
    "id": "XDFrQqX633l9",
    "jupyter": {
     "outputs_hidden": true
    },
    "tags": []
   },
   "outputs": [],
   "source": [
    "G['Alice']"
   ]
  },
  {
   "cell_type": "markdown",
   "metadata": {
    "id": "UJ9NXbOW33l9"
   },
   "source": [
    "So we can iterate through the neighbors of a node like this:"
   ]
  },
  {
   "cell_type": "code",
   "execution_count": null,
   "metadata": {
    "id": "53_h9qpr33l9",
    "jupyter": {
     "outputs_hidden": true
    },
    "tags": []
   },
   "outputs": [],
   "source": [
    "for neighbor in G['Alice']:\n",
    "    print(neighbor)"
   ]
  },
  {
   "cell_type": "markdown",
   "metadata": {
    "id": "a8sC8oUf33l9"
   },
   "source": [
    "Or enumerate the neighbors and edges like this:"
   ]
  },
  {
   "cell_type": "code",
   "execution_count": null,
   "metadata": {
    "id": "6ah0uzQa33l9",
    "jupyter": {
     "outputs_hidden": true
    },
    "tags": []
   },
   "outputs": [],
   "source": [
    "for key, value in G['Alice'].items():\n",
    "    print(key, value)"
   ]
  },
  {
   "cell_type": "markdown",
   "metadata": {
    "id": "hgHIiaMf33l9"
   },
   "source": [
    "Edges are represented by dictionaries of attributes. In this example, the first edge has no attributes and the second has an attribute named `type`.\n",
    "\n",
    "We can select an edge like this:"
   ]
  },
  {
   "cell_type": "code",
   "execution_count": null,
   "metadata": {
    "id": "oocw5Ajw33l9",
    "jupyter": {
     "outputs_hidden": true
    },
    "tags": []
   },
   "outputs": [],
   "source": [
    "G['Alice']['Carol']"
   ]
  },
  {
   "cell_type": "markdown",
   "metadata": {
    "id": "dIlS3hVa33l9"
   },
   "source": [
    "To check whether there is an edge from one node to another, we can use the `in` operator:"
   ]
  },
  {
   "cell_type": "code",
   "execution_count": null,
   "metadata": {
    "id": "3Fjgzd4f33l9",
    "jupyter": {
     "outputs_hidden": true
    },
    "tags": []
   },
   "outputs": [],
   "source": [
    "def has_edge(G, u, v):\n",
    "    return v in G[u]"
   ]
  },
  {
   "cell_type": "code",
   "execution_count": null,
   "metadata": {
    "id": "layGUgYA33l-",
    "jupyter": {
     "outputs_hidden": true
    },
    "tags": []
   },
   "outputs": [],
   "source": [
    "has_edge(G, 'Alice', 'Bob')"
   ]
  },
  {
   "cell_type": "markdown",
   "metadata": {
    "id": "Kb4h7Mo333l-"
   },
   "source": [
    "But there's a method that does the same thing."
   ]
  },
  {
   "cell_type": "code",
   "execution_count": null,
   "metadata": {
    "id": "sOk2eZdL33l-",
    "jupyter": {
     "outputs_hidden": true
    },
    "tags": []
   },
   "outputs": [],
   "source": [
    "G.has_edge('Alice', 'Bob')"
   ]
  },
  {
   "cell_type": "markdown",
   "metadata": {
    "id": "QR8IOf4J33l-"
   },
   "source": [
    "## Complete graph\n",
    "\n",
    "In a complete graph, all nodes are connected to each other.\n",
    "To make a complete graph, we'll use the following generator function, iterates through all pairs of nodes."
   ]
  },
  {
   "cell_type": "code",
   "execution_count": null,
   "metadata": {
    "id": "PCFBln1K33l-",
    "jupyter": {
     "outputs_hidden": true
    },
    "tags": []
   },
   "outputs": [],
   "source": [
    "def all_pairs(nodes):\n",
    "    for i, u in enumerate(nodes):\n",
    "        for j, v in enumerate(nodes):\n",
    "            if i < j:\n",
    "                yield u, v"
   ]
  },
  {
   "cell_type": "markdown",
   "metadata": {
    "id": "q28U3-p133l-"
   },
   "source": [
    "Here's a complete graph with 10 nodes:"
   ]
  },
  {
   "cell_type": "code",
   "execution_count": null,
   "metadata": {
    "id": "cbeMkWUr33l-",
    "jupyter": {
     "outputs_hidden": true
    },
    "tags": []
   },
   "outputs": [],
   "source": [
    "def make_complete_graph(n):\n",
    "    nodes = range(n)\n",
    "    G = nx.Graph()\n",
    "    G.add_nodes_from(nodes)\n",
    "    G.add_edges_from(all_pairs(nodes))\n",
    "    return G"
   ]
  },
  {
   "cell_type": "code",
   "execution_count": null,
   "metadata": {
    "id": "RvScvsr933l-",
    "tags": []
   },
   "outputs": [],
   "source": [
    "complete = make_complete_graph(10)"
   ]
  },
  {
   "cell_type": "markdown",
   "metadata": {
    "id": "7KfjvxWD33l-"
   },
   "source": [
    "And here's what it looks like."
   ]
  },
  {
   "cell_type": "code",
   "execution_count": null,
   "metadata": {
    "id": "RlodLkAN33l-",
    "jupyter": {
     "outputs_hidden": true
    }
   },
   "outputs": [],
   "source": [
    "draw_graph(complete)"
   ]
  },
  {
   "cell_type": "markdown",
   "metadata": {
    "id": "BxmEwJpj33l-"
   },
   "source": [
    "## Random graphs\n",
    "\n",
    "Next we'll make an Erdos-Renyi graph, which is a random graph where the probability of an edge between each pair of nodes is $p$.\n",
    "\n",
    "The helper function `flip` returns `True` with probability `p` and `False` with probability `1-p`"
   ]
  },
  {
   "cell_type": "code",
   "execution_count": null,
   "metadata": {
    "id": "H1Qi8r0c33l-",
    "jupyter": {
     "outputs_hidden": true
    }
   },
   "outputs": [],
   "source": [
    "import random\n",
    "\n",
    "def flip(p):\n",
    "    return random.random() < p"
   ]
  },
  {
   "cell_type": "markdown",
   "metadata": {
    "id": "0dDQlUUN33l-"
   },
   "source": [
    "`random_pairs` is a generator function that enumerates all possible pairs of nodes and yields each one with probability `p`"
   ]
  },
  {
   "cell_type": "code",
   "execution_count": null,
   "metadata": {
    "id": "OwwzY29N33l-",
    "jupyter": {
     "outputs_hidden": true
    },
    "tags": []
   },
   "outputs": [],
   "source": [
    "def random_pairs(nodes, p):\n",
    "    for edge in all_pairs(nodes):\n",
    "        if flip(p):\n",
    "            yield edge"
   ]
  },
  {
   "cell_type": "markdown",
   "metadata": {
    "id": "Vmh80dSp33l-"
   },
   "source": [
    "`make_random_graph` makes an ER graph where the probability of an edge between each pair of nodes is `p`."
   ]
  },
  {
   "cell_type": "code",
   "execution_count": null,
   "metadata": {
    "id": "RlAr5dqS33l-",
    "jupyter": {
     "outputs_hidden": true
    }
   },
   "outputs": [],
   "source": [
    "def make_random_graph(n, p):\n",
    "    nodes = range(n)\n",
    "    G = nx.Graph()\n",
    "    G.add_nodes_from(nodes)\n",
    "    G.add_edges_from(random_pairs(nodes, p))\n",
    "    return G"
   ]
  },
  {
   "cell_type": "markdown",
   "metadata": {
    "id": "Qp-3xNyZ33l-"
   },
   "source": [
    "Here's an example with `n=10` and `p=0.3`"
   ]
  },
  {
   "cell_type": "code",
   "execution_count": null,
   "metadata": {
    "id": "9fS57nVn33l-",
    "jupyter": {
     "outputs_hidden": true
    },
    "tags": []
   },
   "outputs": [],
   "source": [
    "random_graph = make_random_graph(10, 0.3)\n",
    "len(random_graph.edges())"
   ]
  },
  {
   "cell_type": "markdown",
   "metadata": {
    "id": "8_4EGa3433mC"
   },
   "source": [
    "And here's what it looks like:"
   ]
  },
  {
   "cell_type": "code",
   "execution_count": null,
   "metadata": {
    "id": "-du2s-Ma33mC",
    "jupyter": {
     "outputs_hidden": true
    }
   },
   "outputs": [],
   "source": [
    "draw_graph(random_graph)"
   ]
  },
  {
   "cell_type": "markdown",
   "metadata": {
    "id": "x7D9CPSc33mC"
   },
   "source": [
    "## Connectivity\n",
    "\n",
    "A graph is **connected** if you can start from any node and follow a sequence of edges to reach any other node.\n",
    "\n",
    "To check whether a graph is connected, we'll use a version of a depth-first search.\n",
    "First, let's see what goes wrong with a basic DFS; then we'll fix the problem."
   ]
  },
  {
   "cell_type": "code",
   "execution_count": null,
   "metadata": {
    "id": "Lb4gN_mR33mC",
    "jupyter": {
     "outputs_hidden": true
    },
    "tags": []
   },
   "outputs": [],
   "source": [
    "def basic_dfs(G, start):\n",
    "    stack = [start]\n",
    "\n",
    "    while stack:\n",
    "        node = stack.pop()\n",
    "        print(node)\n",
    "        stack.extend(G[node])"
   ]
  },
  {
   "cell_type": "code",
   "execution_count": null,
   "metadata": {
    "id": "0oMwjQbP33mC",
    "jupyter": {
     "outputs_hidden": true
    },
    "tags": []
   },
   "outputs": [],
   "source": [
    "# basic_dfs(random_graph, 0)"
   ]
  },
  {
   "cell_type": "markdown",
   "metadata": {
    "id": "yyv3JNW533mC"
   },
   "source": [
    "For most graphs, the basic version of DFS runs forever, because it visits the same nodes over and over.\n",
    "The solution is to keep track of the nodes we've seen and avoid visiting them more than once.\n",
    "\n",
    "**Exercise:** Write a function called `reachable_nodes` that takes a graph and a starting node, uses DFS to find all nodes that can be reached from the starting node, and returns a collection that contains them.\n",
    "\n",
    "Hint: Think about what kind of collection to use."
   ]
  },
  {
   "cell_type": "code",
   "execution_count": null,
   "metadata": {
    "id": "kx1xEZLe33mC",
    "jupyter": {
     "outputs_hidden": true
    }
   },
   "outputs": [],
   "source": []
  },
  {
   "cell_type": "markdown",
   "metadata": {
    "id": "K7dLIqSx33mC"
   },
   "source": [
    "In the complete graph, starting from node 0, we can reach all nodes:"
   ]
  },
  {
   "cell_type": "code",
   "execution_count": null,
   "metadata": {
    "id": "ZoD4L0qU33mC",
    "jupyter": {
     "outputs_hidden": true
    }
   },
   "outputs": [],
   "source": [
    "reachable_nodes(complete, 0)"
   ]
  },
  {
   "cell_type": "markdown",
   "metadata": {
    "id": "UffByqhw33mC"
   },
   "source": [
    "In a random graph, it may or may not be possible to reach all nodes."
   ]
  },
  {
   "cell_type": "code",
   "execution_count": null,
   "metadata": {
    "id": "x08kgAj633mC",
    "jupyter": {
     "outputs_hidden": true
    }
   },
   "outputs": [],
   "source": [
    "reachable_nodes(random_graph, 0)"
   ]
  },
  {
   "cell_type": "markdown",
   "metadata": {
    "id": "g-xtl0CJ33mC"
   },
   "source": [
    "So we can use `reachable_nodes` to check whether a graph is connected:"
   ]
  },
  {
   "cell_type": "code",
   "execution_count": null,
   "metadata": {
    "id": "fozUXWnE33mD",
    "jupyter": {
     "outputs_hidden": true
    },
    "tags": []
   },
   "outputs": [],
   "source": [
    "def is_connected(G):\n",
    "    start = next(iter(G))\n",
    "    reachable = reachable_nodes(G, start)\n",
    "    return len(reachable) == len(G)"
   ]
  },
  {
   "cell_type": "markdown",
   "metadata": {
    "id": "nsab4Kkw33mD"
   },
   "source": [
    "Again, the complete graph is connected:"
   ]
  },
  {
   "cell_type": "code",
   "execution_count": null,
   "metadata": {
    "id": "G4MJ7QqB33mD",
    "jupyter": {
     "outputs_hidden": true
    }
   },
   "outputs": [],
   "source": [
    "is_connected(complete)"
   ]
  },
  {
   "cell_type": "markdown",
   "metadata": {
    "id": "0yBBrXKo33mD"
   },
   "source": [
    "If we generate a random graph with a low value of `p`, it's probably not connected."
   ]
  },
  {
   "cell_type": "code",
   "execution_count": null,
   "metadata": {
    "id": "Bb1hSBk733mD",
    "jupyter": {
     "outputs_hidden": true
    }
   },
   "outputs": [],
   "source": [
    "random_graph = make_random_graph(10, 0.1)\n",
    "len(random_graph.edges())"
   ]
  },
  {
   "cell_type": "code",
   "execution_count": null,
   "metadata": {
    "id": "dmYC-3Na33mD",
    "jupyter": {
     "outputs_hidden": true
    }
   },
   "outputs": [],
   "source": [
    "is_connected(random_graph)"
   ]
  },
  {
   "cell_type": "markdown",
   "metadata": {
    "id": "vTIhNwlB33mD"
   },
   "source": [
    "If we generate a random graph with a high value of `p`, it's probably not connected."
   ]
  },
  {
   "cell_type": "code",
   "execution_count": null,
   "metadata": {
    "id": "mnCHqFiU33mD",
    "jupyter": {
     "outputs_hidden": true
    }
   },
   "outputs": [],
   "source": [
    "random_graph = make_random_graph(10, 0.9)\n",
    "len(random_graph.edges())"
   ]
  },
  {
   "cell_type": "code",
   "execution_count": null,
   "metadata": {
    "id": "AJE1IDPj33mD",
    "jupyter": {
     "outputs_hidden": true
    }
   },
   "outputs": [],
   "source": [
    "is_connected(random_graph)"
   ]
  },
  {
   "cell_type": "markdown",
   "metadata": {
    "id": "zwQwM2oN33mD"
   },
   "source": [
    "## Probability of connectivity\n",
    "\n",
    "This behavior is the topic of a [seminal paper in network science](https://www.renyi.hu/~p_erdos/1960-10.pdf).\n",
    "We can use NetworkX and the functions we've written to replicate one of their results.\n",
    "\n",
    "The following function takes `n` and `p`, generates `iters` graphs, and returns the fraction of them that are connected."
   ]
  },
  {
   "cell_type": "code",
   "execution_count": null,
   "metadata": {
    "id": "4Rq28mlX33mD",
    "jupyter": {
     "outputs_hidden": true
    }
   },
   "outputs": [],
   "source": [
    "import numpy as np\n",
    "\n",
    "def prob_connected(n, p, iters=100):\n",
    "    tf = [is_connected(make_random_graph(n, p))\n",
    "          for i in range(iters)]\n",
    "    return np.mean(tf)"
   ]
  },
  {
   "cell_type": "markdown",
   "metadata": {
    "id": "kF20mdAi33mD"
   },
   "source": [
    "With `n=10` and `p=0.23`, the probability of being connected is about 33%."
   ]
  },
  {
   "cell_type": "code",
   "execution_count": null,
   "metadata": {
    "id": "T2v5ReAW33mD",
    "jupyter": {
     "outputs_hidden": true
    }
   },
   "outputs": [],
   "source": [
    "n = 10\n",
    "prob_connected(n, 0.23, iters=10000)"
   ]
  },
  {
   "cell_type": "markdown",
   "metadata": {
    "id": "GSXj4soV33mD"
   },
   "source": [
    "According to Erdos and Renyi, the critical value of `p` for `n=10` is about 0.23."
   ]
  },
  {
   "cell_type": "code",
   "execution_count": null,
   "metadata": {
    "id": "wpOyj-cX33mD",
    "jupyter": {
     "outputs_hidden": true
    }
   },
   "outputs": [],
   "source": [
    "pstar = np.log(n) / n\n",
    "pstar"
   ]
  },
  {
   "cell_type": "markdown",
   "metadata": {
    "id": "30icYwJn33mD"
   },
   "source": [
    "So let's plot the probability of connectivity for a range of values for `p`"
   ]
  },
  {
   "cell_type": "code",
   "execution_count": null,
   "metadata": {
    "id": "U7eytsfw33mD",
    "jupyter": {
     "outputs_hidden": true
    }
   },
   "outputs": [],
   "source": [
    "ps = np.logspace(-1.3, 0, 11)\n",
    "ps"
   ]
  },
  {
   "cell_type": "markdown",
   "metadata": {
    "id": "PzIKM7y733mD"
   },
   "source": [
    "I'll estimate the probabilities with `iters=1000`"
   ]
  },
  {
   "cell_type": "code",
   "execution_count": null,
   "metadata": {
    "id": "_UV5g_Qr33mD",
    "jupyter": {
     "outputs_hidden": true
    }
   },
   "outputs": [],
   "source": [
    "ys = [prob_connected(n, p, 1000) for p in ps]\n",
    "\n",
    "for p, y in zip(ps, ys):\n",
    "    print(p, y)"
   ]
  },
  {
   "cell_type": "markdown",
   "metadata": {
    "id": "CcDsB8lH33mD"
   },
   "source": [
    "And then plot them, adding a vertical line at the computed critical value"
   ]
  },
  {
   "cell_type": "code",
   "execution_count": null,
   "metadata": {
    "id": "fje5cPxd33mD",
    "tags": []
   },
   "outputs": [],
   "source": [
    "import matplotlib.pyplot as plt\n",
    "\n",
    "plt.axvline(pstar, color='gray')\n",
    "plt.plot(ps, ys, color='green')\n",
    "plt.xlabel('Prob of edge (p)')\n",
    "plt.ylabel('Prob connected')\n",
    "plt.xscale('log')"
   ]
  },
  {
   "cell_type": "markdown",
   "metadata": {
    "id": "Qz3R5OvO33mD"
   },
   "source": [
    "**Exercise:** In my implementation of `reachable_nodes`, you might be bothered by the apparent inefficiency of adding *all* neighbors to the stack without checking whether they are already in `seen`.  Write a version of this function that checks the neighbors before adding them to the stack.  Does this \"optimization\" change the order of growth?  Does it make the function faster?"
   ]
  },
  {
   "cell_type": "code",
   "execution_count": null,
   "metadata": {
    "id": "W0m86eb833mE",
    "jupyter": {
     "outputs_hidden": true
    }
   },
   "outputs": [],
   "source": []
  },
  {
   "cell_type": "code",
   "execution_count": null,
   "metadata": {
    "id": "DPXBOl6833mE",
    "jupyter": {
     "outputs_hidden": true
    }
   },
   "outputs": [],
   "source": [
    "complete = make_complete_graph(100)"
   ]
  },
  {
   "cell_type": "code",
   "execution_count": null,
   "metadata": {
    "id": "LcnbgNQD33mE",
    "jupyter": {
     "outputs_hidden": true
    }
   },
   "outputs": [],
   "source": [
    "%timeit len(reachable_nodes(complete, 0))"
   ]
  },
  {
   "cell_type": "code",
   "execution_count": null,
   "metadata": {
    "id": "JeZw6SVS33mE",
    "jupyter": {
     "outputs_hidden": true
    }
   },
   "outputs": [],
   "source": [
    "%timeit len(reachable_nodes_precheck(complete, 0))"
   ]
  },
  {
   "cell_type": "markdown",
   "metadata": {
    "id": "pmdfrIT533mE"
   },
   "source": [
    "How does the performance of the two methods compare for larger values of `n`?"
   ]
  }
 ],
 "metadata": {
  "celltoolbar": "Tags",
  "colab": {
   "provenance": []
  },
  "kernelspec": {
   "display_name": "Python 3 (ipykernel)",
   "language": "python",
   "name": "python3"
  },
  "language_info": {
   "codemirror_mode": {
    "name": "ipython",
    "version": 3
   },
   "file_extension": ".py",
   "mimetype": "text/x-python",
   "name": "python",
   "nbconvert_exporter": "python",
   "pygments_lexer": "ipython3",
   "version": "3.11.5"
  }
 },
 "nbformat": 4,
 "nbformat_minor": 1
}
