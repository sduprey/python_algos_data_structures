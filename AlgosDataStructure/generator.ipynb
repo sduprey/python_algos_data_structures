{
 "cells": [
  {
   "cell_type": "markdown",
   "id": "isolated-storm",
   "metadata": {
    "id": "isolated-storm"
   },
   "source": [
    "# Generators and Iterators"
   ]
  },
  {
   "cell_type": "markdown",
   "id": "recreational-remark",
   "metadata": {
    "id": "recreational-remark"
   },
   "source": [
    "This chapter introduces generator functions, which are functions that yield a stream of values, rather than returning a single value.\n",
    "\n",
    "To demonstrate their use, we'll explore Cartesian products, permutations, and combinations, using playing cards as an example."
   ]
  },
  {
   "cell_type": "markdown",
   "id": "historic-rally",
   "metadata": {
    "id": "historic-rally"
   },
   "source": [
    "## Generators\n",
    "\n",
    "As a first example, we'll write a generator function that generates the playing cards in a standard 52-card deck.\n",
    "This example is inspired by an example in Peter Norvig's [\"A Concrete Introduction to Probability (using Python)\"](https://nbviewer.ipython.org/url/norvig.com/ipython/Probability.ipynb).\n",
    "\n",
    "Here are Unicode strings that represent the set of suits and the set of ranks."
   ]
  },
  {
   "cell_type": "code",
   "execution_count": null,
   "id": "racial-nylon",
   "metadata": {
    "id": "racial-nylon"
   },
   "outputs": [],
   "source": [
    "suits = u'♠♥♦♣'\n",
    "ranks = u'AKQJ⑽98765432'"
   ]
  },
  {
   "cell_type": "markdown",
   "id": "received-secondary",
   "metadata": {
    "id": "received-secondary"
   },
   "source": [
    "And here's a nested for loop that enumerates all pairings of a rank with a suit."
   ]
  },
  {
   "cell_type": "code",
   "execution_count": null,
   "id": "figured-mission",
   "metadata": {
    "id": "figured-mission"
   },
   "outputs": [],
   "source": [
    "for rank in ranks:\n",
    "    for suit in suits:\n",
    "        print(rank+suit, end=' ')"
   ]
  },
  {
   "cell_type": "markdown",
   "id": "packed-python",
   "metadata": {
    "id": "packed-python"
   },
   "source": [
    "This set of pairs is the [Cartesian product](https://en.wikipedia.org/wiki/Cartesian_product) of the set of ranks and the set of suits.\n",
    "\n",
    "The following function encapsulates the loops and uses the `yield` statement to generate a stream of cards."
   ]
  },
  {
   "cell_type": "code",
   "execution_count": null,
   "id": "angry-reception",
   "metadata": {
    "id": "angry-reception"
   },
   "outputs": [],
   "source": [
    "def card_generator(ranks, suits):\n",
    "    for rank in ranks:\n",
    "        for suit in suits:\n",
    "            yield rank+suit"
   ]
  },
  {
   "cell_type": "markdown",
   "id": "resident-chrome",
   "metadata": {
    "id": "resident-chrome"
   },
   "source": [
    "Because this function includes a `yield` statement, it is a generator function. When we call it, the return value is a generator object."
   ]
  },
  {
   "cell_type": "code",
   "execution_count": null,
   "id": "unable-procedure",
   "metadata": {
    "id": "unable-procedure"
   },
   "outputs": [],
   "source": [
    "it = card_generator(ranks, suits)\n",
    "it"
   ]
  },
  {
   "cell_type": "markdown",
   "id": "liable-ministry",
   "metadata": {
    "id": "liable-ministry"
   },
   "source": [
    "The generator object is iterable, so we can use `next` to get the first element of the stream."
   ]
  },
  {
   "cell_type": "code",
   "execution_count": null,
   "id": "unavailable-smell",
   "metadata": {
    "id": "unavailable-smell"
   },
   "outputs": [],
   "source": [
    "next(it)"
   ]
  },
  {
   "cell_type": "markdown",
   "id": "dynamic-lexington",
   "metadata": {
    "id": "dynamic-lexington"
   },
   "source": [
    "The first time we call `next`, the function runs until it hits the `yield` statement.\n",
    "If we call `next` again, the function resumes from where it left off and runs until it hits the `yield` statement again."
   ]
  },
  {
   "cell_type": "code",
   "execution_count": null,
   "id": "received-kidney",
   "metadata": {
    "id": "received-kidney"
   },
   "outputs": [],
   "source": [
    "next(it)"
   ]
  },
  {
   "cell_type": "markdown",
   "id": "actual-tradition",
   "metadata": {
    "id": "actual-tradition"
   },
   "source": [
    "Because `it` is iterable, we can use it in a for loop to enumerate the remaining pairs."
   ]
  },
  {
   "cell_type": "code",
   "execution_count": null,
   "id": "complimentary-coverage",
   "metadata": {
    "id": "complimentary-coverage"
   },
   "outputs": [],
   "source": [
    "for card in it:\n",
    "    print(card, end=' ')"
   ]
  },
  {
   "cell_type": "markdown",
   "id": "cosmetic-entrepreneur",
   "metadata": {
    "id": "cosmetic-entrepreneur"
   },
   "source": [
    "When the flow of control reaches the end of the function, the generator object raises and exception, which causes the for loop to end."
   ]
  },
  {
   "cell_type": "markdown",
   "id": "infectious-tension",
   "metadata": {
    "id": "infectious-tension"
   },
   "source": [
    "## itertools\n",
    "\n",
    "The `itertools` library provides function for working with iterators, including `product`, which is a generator function that takes iterators as arguments at yields their Cartesian product.\n",
    "We'll use `itertools.product` in the next few sections; then we'll see how to implement it.\n",
    "\n",
    "Here's a loop that uses `itertools.product` to generate the playing cards again."
   ]
  },
  {
   "cell_type": "code",
   "execution_count": null,
   "id": "surrounded-roads",
   "metadata": {
    "id": "surrounded-roads"
   },
   "outputs": [],
   "source": [
    "from itertools import product\n",
    "\n",
    "for t in product(ranks, suits):\n",
    "    card = ''.join(t)\n",
    "    print(card, end=' ')"
   ]
  },
  {
   "cell_type": "markdown",
   "id": "competent-annex",
   "metadata": {
    "id": "competent-annex"
   },
   "source": [
    "**Exercise:** Encapsulate the previous loop in a generator function called `card_generator2` that yields the playing  cards. Then call your function and use it to print the cards."
   ]
  },
  {
   "cell_type": "code",
   "execution_count": null,
   "id": "global-lesbian",
   "metadata": {
    "id": "global-lesbian"
   },
   "outputs": [],
   "source": []
  },
  {
   "cell_type": "code",
   "execution_count": null,
   "id": "included-enclosure",
   "metadata": {
    "id": "included-enclosure"
   },
   "outputs": [],
   "source": []
  },
  {
   "cell_type": "markdown",
   "id": "stunning-islam",
   "metadata": {
    "id": "stunning-islam"
   },
   "source": [
    "## Enumerating all pairs\n",
    "\n",
    "Now that we have playing cards, let's deal a few hands. In fact, let's deal all the hands.\n",
    "\n",
    "First, I'll create two card generators."
   ]
  },
  {
   "cell_type": "code",
   "execution_count": null,
   "id": "caroline-aberdeen",
   "metadata": {
    "id": "caroline-aberdeen"
   },
   "outputs": [],
   "source": [
    "it1 = card_generator(ranks, suits)\n",
    "it2 = card_generator(ranks, suits)"
   ]
  },
  {
   "cell_type": "markdown",
   "id": "connected-revolution",
   "metadata": {
    "id": "connected-revolution"
   },
   "source": [
    "Now we can use `product` to generate all pairs of cards."
   ]
  },
  {
   "cell_type": "code",
   "execution_count": null,
   "id": "billion-rebel",
   "metadata": {
    "id": "billion-rebel"
   },
   "outputs": [],
   "source": [
    "for hand in product(it1, it2):\n",
    "    print(hand)"
   ]
  },
  {
   "cell_type": "markdown",
   "id": "certain-studio",
   "metadata": {
    "id": "certain-studio"
   },
   "source": [
    "To check whether it's working correctly, it will be useful to count the number of elements in an iterator, which is what `ilen` does.\n",
    "This idiom is discussed [on Stack Overflow](https://stackoverflow.com/questions/390852/is-there-any-built-in-way-to-get-the-length-of-an-iterable-in-python)."
   ]
  },
  {
   "cell_type": "code",
   "execution_count": null,
   "id": "apart-courtesy",
   "metadata": {
    "id": "apart-courtesy"
   },
   "outputs": [],
   "source": [
    "def ilen(it):\n",
    "    return sum(1 for _ in it)"
   ]
  },
  {
   "cell_type": "markdown",
   "id": "moderate-plate",
   "metadata": {
    "id": "moderate-plate"
   },
   "source": [
    "Now we can use it to count the pairs of cards."
   ]
  },
  {
   "cell_type": "code",
   "execution_count": null,
   "id": "destroyed-differential",
   "metadata": {
    "id": "destroyed-differential"
   },
   "outputs": [],
   "source": [
    "it1 = card_generator(ranks, suits)\n",
    "it2 = card_generator(ranks, suits)\n",
    "ilen(product(it1, it2))"
   ]
  },
  {
   "cell_type": "markdown",
   "id": "split-guinea",
   "metadata": {
    "id": "split-guinea"
   },
   "source": [
    "If things have gone according to plan, the number of pairs should be $52^2$."
   ]
  },
  {
   "cell_type": "code",
   "execution_count": null,
   "id": "alternate-cooking",
   "metadata": {
    "id": "alternate-cooking"
   },
   "outputs": [],
   "source": [
    "52**2"
   ]
  },
  {
   "cell_type": "markdown",
   "id": "later-forth",
   "metadata": {
    "id": "later-forth"
   },
   "source": [
    "Notice that we have to create new card iterators every time, because once they are used up, they behave like an empty list.\n",
    "Here's what happens if we try to use them again."
   ]
  },
  {
   "cell_type": "code",
   "execution_count": null,
   "id": "general-nickname",
   "metadata": {
    "id": "general-nickname"
   },
   "outputs": [],
   "source": [
    "ilen(product(it1, it2))"
   ]
  },
  {
   "cell_type": "markdown",
   "id": "shaped-cyprus",
   "metadata": {
    "id": "shaped-cyprus"
   },
   "source": [
    "That's also why we had to create two card iterators.\n",
    "If you create one and try to use it twice, it doesn't work."
   ]
  },
  {
   "cell_type": "code",
   "execution_count": null,
   "id": "enhanced-estonia",
   "metadata": {
    "id": "enhanced-estonia"
   },
   "outputs": [],
   "source": [
    "it = card_generator(ranks, suits)\n",
    "ilen(product(it, it))"
   ]
  },
  {
   "cell_type": "markdown",
   "id": "blocked-softball",
   "metadata": {
    "id": "blocked-softball"
   },
   "source": [
    "However, you can get around this limitation by calling `product` with the `repeat` argument, which makes it possible to use a single iterator to generate a Cartesian product."
   ]
  },
  {
   "cell_type": "code",
   "execution_count": null,
   "id": "demographic-kelly",
   "metadata": {
    "id": "demographic-kelly"
   },
   "outputs": [],
   "source": [
    "it = card_generator(ranks, suits)\n",
    "ilen(product(it, repeat=2))"
   ]
  },
  {
   "cell_type": "markdown",
   "id": "failing-biotechnology",
   "metadata": {
    "id": "failing-biotechnology"
   },
   "source": [
    "## Permutations\n",
    "\n",
    "In the previous section, you might have noticed that some of the hands we generated are impossible because they contain the same card more than once.\n",
    "\n",
    "One way to solve this problem is to generate all pairs and then eliminate the ones that contain duplicates."
   ]
  },
  {
   "cell_type": "code",
   "execution_count": null,
   "id": "racial-breach",
   "metadata": {
    "id": "racial-breach"
   },
   "outputs": [],
   "source": [
    "it = card_generator(ranks, suits)\n",
    "\n",
    "for hand in product(it, repeat=2):\n",
    "    if len(hand) == len(set(hand)):\n",
    "        print(hand)"
   ]
  },
  {
   "cell_type": "markdown",
   "id": "planned-sentence",
   "metadata": {
    "id": "planned-sentence"
   },
   "source": [
    "**Exercise:** Write a generator function called `permutations` that takes an iterator and and integer, `r`, as arguments. It should generate tuples that represent all subsets of the elements in the iterator with size `r` and no duplicates.\n",
    "\n",
    "Test your function by generating and printing all hands with two distinct cards.\n",
    "Then use `ilen` to count how many there are, and confirm that it's `52 * 51`."
   ]
  },
  {
   "cell_type": "code",
   "execution_count": null,
   "id": "distant-management",
   "metadata": {
    "id": "distant-management"
   },
   "outputs": [],
   "source": []
  },
  {
   "cell_type": "code",
   "execution_count": null,
   "id": "detected-thumb",
   "metadata": {
    "id": "detected-thumb"
   },
   "outputs": [],
   "source": []
  },
  {
   "cell_type": "code",
   "execution_count": null,
   "id": "organizational-public",
   "metadata": {
    "id": "organizational-public"
   },
   "outputs": [],
   "source": []
  },
  {
   "cell_type": "code",
   "execution_count": null,
   "id": "median-wildlife",
   "metadata": {
    "id": "median-wildlife"
   },
   "outputs": [],
   "source": []
  },
  {
   "cell_type": "markdown",
   "id": "close-diabetes",
   "metadata": {
    "id": "close-diabetes"
   },
   "source": [
    "The `itertools` library provides a function called `permutations` that does the same thing."
   ]
  },
  {
   "cell_type": "code",
   "execution_count": null,
   "id": "packed-galaxy",
   "metadata": {
    "id": "packed-galaxy"
   },
   "outputs": [],
   "source": [
    "import itertools\n",
    "\n",
    "it = card_generator(ranks, suits)\n",
    "ilen(itertools.permutations(it, 2))"
   ]
  },
  {
   "cell_type": "markdown",
   "id": "maritime-dream",
   "metadata": {
    "id": "maritime-dream"
   },
   "source": [
    "## Combinations\n",
    "\n",
    "At this point we are generating legitimate hands in the sense that the same card never appears twice.\n",
    "But we end up generating the same hand more than once, in the sense that the order of the cards does not matter.\n",
    "So we consider `(card1, card2)` to be the same hand as `(card2, card1)`.\n",
    "To avoid that, we can generate all permutations and then filter out the ones that are not in sorted order.\n",
    "\n",
    "It doesn't really matter which order is considered \"sorted\"; it's just a way to choose one ordering we consider \"canonical\".\n",
    "\n",
    "That's what the following loop does."
   ]
  },
  {
   "cell_type": "code",
   "execution_count": null,
   "id": "alert-designer",
   "metadata": {
    "id": "alert-designer"
   },
   "outputs": [],
   "source": [
    "it = card_generator(ranks, suits)\n",
    "\n",
    "for hand in permutations(it, r=2):\n",
    "    if list(hand) == sorted(hand):\n",
    "        print(hand)"
   ]
  },
  {
   "cell_type": "markdown",
   "id": "armed-intent",
   "metadata": {
    "id": "armed-intent"
   },
   "source": [
    "**Exercise:** Write a generator function called `combinations` that takes an iterator and and integer, `r`, as arguments. It should generate tuples that represent all *sorted* subsets of the elements in the iterator with size `r` and no duplicates.\n",
    "\n",
    "Test your function by generating and printing all hands with two distinct cards.\n",
    "Then use `ilen` to count how many there are, and confirm that it's `52 * 51 / 2`."
   ]
  },
  {
   "cell_type": "code",
   "execution_count": null,
   "id": "southwest-anthropology",
   "metadata": {
    "id": "southwest-anthropology"
   },
   "outputs": [],
   "source": []
  },
  {
   "cell_type": "code",
   "execution_count": null,
   "id": "coordinate-inspiration",
   "metadata": {
    "id": "coordinate-inspiration"
   },
   "outputs": [],
   "source": []
  },
  {
   "cell_type": "code",
   "execution_count": null,
   "id": "gorgeous-reader",
   "metadata": {
    "id": "gorgeous-reader"
   },
   "outputs": [],
   "source": []
  },
  {
   "cell_type": "code",
   "execution_count": null,
   "id": "massive-genome",
   "metadata": {
    "id": "massive-genome"
   },
   "outputs": [],
   "source": []
  },
  {
   "cell_type": "markdown",
   "id": "decimal-shopping",
   "metadata": {
    "id": "decimal-shopping"
   },
   "source": [
    "The `itertools` library provides a function called `combinations` that does the same thing."
   ]
  },
  {
   "cell_type": "code",
   "execution_count": null,
   "id": "charged-referral",
   "metadata": {
    "id": "charged-referral"
   },
   "outputs": [],
   "source": [
    "import itertools\n",
    "\n",
    "it = card_generator(ranks, suits)\n",
    "ilen(itertools.combinations(it, 2))"
   ]
  },
  {
   "cell_type": "markdown",
   "id": "exact-lawsuit",
   "metadata": {
    "id": "exact-lawsuit"
   },
   "source": [
    "## Generating hands\n",
    "\n",
    "We can use `combinations ` to write a generator that yields all valid hands with `n` playing cards, where \"valid\" means that the cards are in sorted order with no duplicates."
   ]
  },
  {
   "cell_type": "code",
   "execution_count": null,
   "id": "verified-kennedy",
   "metadata": {
    "id": "verified-kennedy"
   },
   "outputs": [],
   "source": [
    "def hand_generator(n=2):\n",
    "    it = card_generator(ranks, suits)\n",
    "    for hand in combinations(it, n):\n",
    "        yield hand"
   ]
  },
  {
   "cell_type": "code",
   "execution_count": null,
   "id": "established-cornell",
   "metadata": {
    "id": "established-cornell"
   },
   "outputs": [],
   "source": [
    "ilen(hand_generator(2))"
   ]
  },
  {
   "cell_type": "markdown",
   "id": "capital-warner",
   "metadata": {
    "id": "capital-warner"
   },
   "source": [
    "If you ever find yourself looping through an iterator and yielding all of the elements, you can simplify the code using `yield from`."
   ]
  },
  {
   "cell_type": "code",
   "execution_count": null,
   "id": "capable-brain",
   "metadata": {
    "id": "capable-brain"
   },
   "outputs": [],
   "source": [
    "def hand_generator(n=2):\n",
    "    it = card_generator(ranks, suits)\n",
    "    yield from combinations(it, n)"
   ]
  },
  {
   "cell_type": "code",
   "execution_count": null,
   "id": "christian-cutting",
   "metadata": {
    "id": "christian-cutting"
   },
   "outputs": [],
   "source": [
    "ilen(hand_generator(2))"
   ]
  },
  {
   "cell_type": "markdown",
   "id": "sealed-reason",
   "metadata": {
    "id": "sealed-reason"
   },
   "source": [
    "Now let's see how many hands there are with 3, 4, and (maybe) 5 cards."
   ]
  },
  {
   "cell_type": "code",
   "execution_count": null,
   "id": "lesser-reggae",
   "metadata": {
    "id": "lesser-reggae"
   },
   "outputs": [],
   "source": [
    "ilen(hand_generator(3))"
   ]
  },
  {
   "cell_type": "code",
   "execution_count": null,
   "id": "delayed-proceeding",
   "metadata": {
    "id": "delayed-proceeding"
   },
   "outputs": [],
   "source": [
    "ilen(hand_generator(4))"
   ]
  },
  {
   "cell_type": "markdown",
   "id": "devoted-subcommittee",
   "metadata": {
    "id": "devoted-subcommittee"
   },
   "source": [
    "I'm not patient enough to let this one finish."
   ]
  },
  {
   "cell_type": "code",
   "execution_count": null,
   "id": "acceptable-spouse",
   "metadata": {
    "id": "acceptable-spouse"
   },
   "outputs": [],
   "source": [
    "# ilen(hand_generator(5))"
   ]
  },
  {
   "cell_type": "markdown",
   "id": "amended-hundred",
   "metadata": {
    "id": "amended-hundred"
   },
   "source": [
    "But if we only care about the number of combinations, we can use [`math.comb`](https://docs.python.org/3/library/math.html)."
   ]
  },
  {
   "cell_type": "code",
   "execution_count": null,
   "id": "sensitive-while",
   "metadata": {
    "id": "sensitive-while"
   },
   "outputs": [],
   "source": [
    "from math import comb\n",
    "\n",
    "comb(52, 5)"
   ]
  },
  {
   "cell_type": "markdown",
   "id": "valued-laundry",
   "metadata": {
    "id": "valued-laundry"
   },
   "source": [
    "## How many flushes?\n",
    "\n",
    "In poker, a \"flush\" is a hand where all cards have the same suit.\n",
    "To check whether a hand is a flush, it is convenient to extract the suit part of the cards and make a set."
   ]
  },
  {
   "cell_type": "code",
   "execution_count": null,
   "id": "sought-frost",
   "metadata": {
    "id": "sought-frost"
   },
   "outputs": [],
   "source": [
    "it = hand_generator(4)\n",
    "hand = next(it)\n",
    "hand"
   ]
  },
  {
   "cell_type": "code",
   "execution_count": null,
   "id": "higher-milwaukee",
   "metadata": {
    "id": "higher-milwaukee"
   },
   "outputs": [],
   "source": [
    "set(card[1] for card in hand)"
   ]
  },
  {
   "cell_type": "markdown",
   "id": "fossil-subscriber",
   "metadata": {
    "id": "fossil-subscriber"
   },
   "source": [
    "**Exercise:** Write a function called `is_flush` that takes a hand as an argument and returns `True` if all cards are the same suit.\n",
    "\n",
    "Then write a generator function called `flush_generator` that takes an integer `n` and return all hands with `n` cards that are flushes.\n",
    "\n",
    "What fraction of hands with 3, 4, and 5 cards are flushes?"
   ]
  },
  {
   "cell_type": "code",
   "execution_count": null,
   "id": "sweet-olive",
   "metadata": {
    "id": "sweet-olive"
   },
   "outputs": [],
   "source": []
  },
  {
   "cell_type": "code",
   "execution_count": null,
   "id": "documented-network",
   "metadata": {
    "id": "documented-network"
   },
   "outputs": [],
   "source": []
  },
  {
   "cell_type": "code",
   "execution_count": null,
   "id": "distinct-birthday",
   "metadata": {
    "id": "distinct-birthday"
   },
   "outputs": [],
   "source": []
  },
  {
   "cell_type": "code",
   "execution_count": null,
   "id": "computational-storage",
   "metadata": {
    "id": "computational-storage"
   },
   "outputs": [],
   "source": []
  },
  {
   "cell_type": "code",
   "execution_count": null,
   "id": "earlier-damages",
   "metadata": {
    "id": "earlier-damages"
   },
   "outputs": [],
   "source": []
  },
  {
   "cell_type": "code",
   "execution_count": null,
   "id": "celtic-wisconsin",
   "metadata": {
    "id": "celtic-wisconsin"
   },
   "outputs": [],
   "source": []
  },
  {
   "cell_type": "markdown",
   "id": "unauthorized-topic",
   "metadata": {
    "id": "unauthorized-topic"
   },
   "source": [
    "## Write your own product\n",
    "\n",
    "So far we've been using `itertools.product`, but in the same way we wrote `permutations` and `combinations`, we can write our own `product`.\n",
    "\n",
    "If there are only two iterators, we can do it with nested `for` loops."
   ]
  },
  {
   "cell_type": "code",
   "execution_count": null,
   "id": "optional-default",
   "metadata": {
    "id": "optional-default"
   },
   "outputs": [],
   "source": [
    "def product2(it1, it2):\n",
    "    for x in it1:\n",
    "        for y in it2:\n",
    "            yield x, y"
   ]
  },
  {
   "cell_type": "markdown",
   "id": "finnish-relation",
   "metadata": {
    "id": "finnish-relation"
   },
   "source": [
    "So we can generate the cards like this."
   ]
  },
  {
   "cell_type": "code",
   "execution_count": null,
   "id": "statistical-shepherd",
   "metadata": {
    "id": "statistical-shepherd"
   },
   "outputs": [],
   "source": [
    "for t in product2(ranks, suits):\n",
    "    card = ''.join(t)\n",
    "    print(card, end=' ')"
   ]
  },
  {
   "cell_type": "markdown",
   "id": "crucial-aviation",
   "metadata": {
    "id": "crucial-aviation"
   },
   "source": [
    "Now, we might be tempted to write two-card hands like this."
   ]
  },
  {
   "cell_type": "code",
   "execution_count": null,
   "id": "incident-reaction",
   "metadata": {
    "id": "incident-reaction"
   },
   "outputs": [],
   "source": [
    "it1 = card_generator(ranks, suits)\n",
    "it2 = card_generator(ranks, suits)\n",
    "\n",
    "for hand in product2(it1, it2):\n",
    "    print(hand)"
   ]
  },
  {
   "cell_type": "markdown",
   "id": "attached-vault",
   "metadata": {
    "id": "attached-vault"
   },
   "source": [
    "But that doesn't work; it only generates the first 52 pairs.\n",
    "Before you go on, see if you can figure out why.\n",
    "\n",
    "We can solve this problem by making each iterator into a tuple; then we can loop through them more than once.\n",
    "The price we pay is that we have to store all of the elements of the iterators."
   ]
  },
  {
   "cell_type": "code",
   "execution_count": null,
   "id": "polished-tutorial",
   "metadata": {
    "id": "polished-tutorial"
   },
   "outputs": [],
   "source": [
    "def product2(it1, it2):\n",
    "    t1 = tuple(it1)\n",
    "    t2 = tuple(it2)\n",
    "    for x in t1:\n",
    "        for y in t2:\n",
    "            yield x, y"
   ]
  },
  {
   "cell_type": "markdown",
   "id": "charming-machine",
   "metadata": {
    "id": "charming-machine"
   },
   "source": [
    "This version of `product2` works if the arguments are iterators."
   ]
  },
  {
   "cell_type": "code",
   "execution_count": null,
   "id": "built-organization",
   "metadata": {
    "id": "built-organization"
   },
   "outputs": [],
   "source": [
    "it1 = card_generator(ranks, suits)\n",
    "it2 = card_generator(ranks, suits)\n",
    "\n",
    "for hand in product2(it1, it2):\n",
    "    print(hand)"
   ]
  },
  {
   "cell_type": "code",
   "execution_count": null,
   "id": "necessary-rendering",
   "metadata": {
    "id": "necessary-rendering"
   },
   "outputs": [],
   "source": [
    "it1 = card_generator(ranks, suits)\n",
    "it2 = card_generator(ranks, suits)\n",
    "\n",
    "ilen(product2(it1, it2))"
   ]
  },
  {
   "cell_type": "markdown",
   "id": "brilliant-equilibrium",
   "metadata": {
    "id": "brilliant-equilibrium"
   },
   "source": [
    "Now let's take it up a notch. What if you want the product of more than two iterators.\n",
    "The version of `product` we got from `itertools` can handle this case."
   ]
  },
  {
   "cell_type": "code",
   "execution_count": null,
   "id": "speaking-treat",
   "metadata": {
    "id": "speaking-treat",
    "scrolled": true
   },
   "outputs": [],
   "source": [
    "import itertools\n",
    "\n",
    "for pair in itertools.product(range(2), range(3), range(4)):\n",
    "    print(pair)"
   ]
  },
  {
   "cell_type": "markdown",
   "id": "polished-friendship",
   "metadata": {
    "id": "polished-friendship"
   },
   "source": [
    "**Exercise:** Write a generator function that takes an arbitrary number of iterables and yields their Cartesian product. Compare the results to `itertools.product`.\n",
    "\n",
    "Hint: I found it easiest to write this recursively."
   ]
  },
  {
   "cell_type": "code",
   "execution_count": null,
   "id": "pressed-guest",
   "metadata": {
    "id": "pressed-guest"
   },
   "outputs": [],
   "source": []
  },
  {
   "cell_type": "code",
   "execution_count": null,
   "id": "dominant-girlfriend",
   "metadata": {
    "id": "dominant-girlfriend"
   },
   "outputs": [],
   "source": []
  },
  {
   "cell_type": "code",
   "execution_count": null,
   "id": "senior-basic",
   "metadata": {
    "id": "senior-basic"
   },
   "outputs": [],
   "source": []
  },
  {
   "cell_type": "code",
   "execution_count": null,
   "id": "colored-sympathy",
   "metadata": {
    "id": "colored-sympathy"
   },
   "outputs": [],
   "source": []
  },
  {
   "cell_type": "code",
   "execution_count": null,
   "id": "pacific-finder",
   "metadata": {
    "id": "pacific-finder"
   },
   "outputs": [],
   "source": []
  }
 ],
 "metadata": {
  "colab": {
   "provenance": []
  },
  "kernelspec": {
   "display_name": "Python 3 (ipykernel)",
   "language": "python",
   "name": "python3"
  },
  "language_info": {
   "codemirror_mode": {
    "name": "ipython",
    "version": 3
   },
   "file_extension": ".py",
   "mimetype": "text/x-python",
   "name": "python",
   "nbconvert_exporter": "python",
   "pygments_lexer": "ipython3",
   "version": "3.11.5"
  }
 },
 "nbformat": 4,
 "nbformat_minor": 5
}
