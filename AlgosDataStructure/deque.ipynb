{
 "cells": [
  {
   "cell_type": "markdown",
   "id": "af0fce85",
   "metadata": {
    "id": "af0fce85"
   },
   "source": [
    "# Deque"
   ]
  },
  {
   "cell_type": "markdown",
   "id": "394c2889",
   "metadata": {
    "id": "394c2889"
   },
   "source": [
    "## Double-ended Queue\n",
    "\n",
    "With Python lists, we can add and remove elements from the *end* of the list in constant time, but adding and removing from the beginning takes linear time.\n",
    "That's because Python lists are implemented using arrays that grow dynamically.\n",
    "\n",
    "With linked lists, we can add and remove elements from the *beginning* of the list in constant time, but adding and removing from the end takes linear time.\n",
    "\n",
    "With either of these implementations, it is easy to make a stack, that is, a collection where the first element we add is the last element we remove. A stack is also called a \"first-in, last-out\" queue, abbreviated FILO.\n",
    "\n",
    "But it is not easy to implement a \"first-in, first-out\" queue, that is, a collection where the first element we add is the *first* element we remove.\n",
    "\n",
    "Fortunately, there are ways to implement lists that can add and remove elements from both ends in constant time.\n",
    "A collection that has this property is called a double-ended queue, abbreviated \"deque\" and pronounced like \"deck\".\n",
    "\n",
    "One way to implement a deque is a doubly-linked list, also known as a \"head-tail linked list\".\n",
    "Each node in a doubly-linked list has a reference to the previous node in the list as well as the next element, which I will call `left` and `right`.\n"
   ]
  },
  {
   "cell_type": "code",
   "execution_count": null,
   "id": "c3eda892",
   "metadata": {
    "id": "c3eda892"
   },
   "outputs": [],
   "source": [
    "class Node:\n",
    "    def __init__(self, data, left=None, right=None):\n",
    "        self.data = data\n",
    "        self.left = left\n",
    "        self.right = right\n",
    "\n",
    "    def __repr__(self):\n",
    "        return f'Node({self.data})'"
   ]
  },
  {
   "cell_type": "markdown",
   "id": "bbf5ad6f",
   "metadata": {
    "id": "bbf5ad6f"
   },
   "source": [
    "We can create nodes like this:"
   ]
  },
  {
   "cell_type": "code",
   "execution_count": null,
   "id": "3eb18535",
   "metadata": {
    "id": "3eb18535",
    "tags": []
   },
   "outputs": [],
   "source": [
    "node1 = Node(1)\n",
    "node2 = Node(2)\n",
    "node3 = Node(3)\n",
    "\n",
    "node1"
   ]
  },
  {
   "cell_type": "markdown",
   "id": "fdfd0222",
   "metadata": {
    "id": "fdfd0222"
   },
   "source": [
    "And then link them up, like this:"
   ]
  },
  {
   "cell_type": "code",
   "execution_count": null,
   "id": "80748b5d",
   "metadata": {
    "id": "80748b5d",
    "tags": []
   },
   "outputs": [],
   "source": [
    "node1.right = node2\n",
    "node2.right = node3\n",
    "\n",
    "node2.left = node1\n",
    "node3.left = node2"
   ]
  },
  {
   "cell_type": "markdown",
   "id": "889fdd16",
   "metadata": {
    "id": "889fdd16"
   },
   "source": [
    "To traverse the list from left to right, we can start at the beginning and follow the `right` links."
   ]
  },
  {
   "cell_type": "code",
   "execution_count": null,
   "id": "ca630b64",
   "metadata": {
    "id": "ca630b64"
   },
   "outputs": [],
   "source": [
    "node = node1\n",
    "while node:\n",
    "    print(node)\n",
    "    node = node.right"
   ]
  },
  {
   "cell_type": "markdown",
   "id": "016025b3",
   "metadata": {
    "id": "016025b3"
   },
   "source": [
    "To traverse from right to left, we start and the end and follow the `left` links."
   ]
  },
  {
   "cell_type": "code",
   "execution_count": null,
   "id": "a259cbd5",
   "metadata": {
    "id": "a259cbd5"
   },
   "outputs": [],
   "source": [
    "node = node3\n",
    "while node:\n",
    "    print(node)\n",
    "    node = node.left"
   ]
  },
  {
   "cell_type": "markdown",
   "id": "f21575f6",
   "metadata": {
    "id": "f21575f6"
   },
   "source": [
    "## Deque objects\n",
    "\n",
    "For some operations, it will be convenient to have another object that represents the whole list (as opposed to one of its nodes).\n",
    "\n",
    "Here's the class definition."
   ]
  },
  {
   "cell_type": "code",
   "execution_count": null,
   "id": "f1c32da2",
   "metadata": {
    "id": "f1c32da2"
   },
   "outputs": [],
   "source": [
    "class Deque:\n",
    "    def __init__(self, head=None, tail=None):\n",
    "        self.head = head\n",
    "        self.tail = tail\n",
    "\n",
    "    def __repr__(self):\n",
    "        return f'LinkedList({self.head}, {self.tail})'"
   ]
  },
  {
   "cell_type": "markdown",
   "id": "c41fb536",
   "metadata": {
    "id": "c41fb536"
   },
   "source": [
    "Now we can create a `Deque` with references to `node1` and `node3`:"
   ]
  },
  {
   "cell_type": "code",
   "execution_count": null,
   "id": "f8def755",
   "metadata": {
    "id": "f8def755",
    "tags": []
   },
   "outputs": [],
   "source": [
    "deque = Deque(node1, node3)\n",
    "deque"
   ]
  },
  {
   "cell_type": "markdown",
   "id": "d6828e7f",
   "metadata": {
    "id": "d6828e7f"
   },
   "source": [
    "For debugging purposes, I'll use the following function, which prints the list from right to left and then left to right, which confirms that all of the links are correct."
   ]
  },
  {
   "cell_type": "code",
   "execution_count": null,
   "id": "c89bece9",
   "metadata": {
    "id": "c89bece9"
   },
   "outputs": [],
   "source": [
    "def print_deque(deque):\n",
    "    node = deque.head\n",
    "    while node:\n",
    "        print(node.data, end=', ')\n",
    "        node = node.right\n",
    "    print()\n",
    "\n",
    "    node = deque.tail\n",
    "    while node:\n",
    "        print(node.data, end=', ')\n",
    "        node = node.left\n",
    "    print()"
   ]
  },
  {
   "cell_type": "markdown",
   "id": "2f9532f2",
   "metadata": {
    "id": "2f9532f2"
   },
   "source": [
    "Here's an example."
   ]
  },
  {
   "cell_type": "code",
   "execution_count": null,
   "id": "c246a024",
   "metadata": {
    "id": "c246a024"
   },
   "outputs": [],
   "source": [
    "print_deque(deque)"
   ]
  },
  {
   "cell_type": "markdown",
   "id": "44af708a",
   "metadata": {
    "id": "44af708a"
   },
   "source": [
    "## Push\n",
    "\n",
    "Now let's see how we can add and remove elements from the beginning and end in constant time.\n",
    "We'll start with the push operations.\n",
    "\n",
    "If we start with an empty deque, adding the first node is a special case, so I'll pull that into a function."
   ]
  },
  {
   "cell_type": "code",
   "execution_count": null,
   "id": "7b522c71",
   "metadata": {
    "id": "7b522c71",
    "tags": []
   },
   "outputs": [],
   "source": [
    "def push_first(deque, value):\n",
    "    deque.head = deque.tail = Node(value, None, None)"
   ]
  },
  {
   "cell_type": "markdown",
   "id": "79c720b4",
   "metadata": {
    "id": "79c720b4"
   },
   "source": [
    "Here's an example."
   ]
  },
  {
   "cell_type": "code",
   "execution_count": null,
   "id": "9ee37b46",
   "metadata": {
    "id": "9ee37b46",
    "tags": []
   },
   "outputs": [],
   "source": [
    "deque = Deque()\n",
    "push_first(deque, 1)\n",
    "print_deque(deque)"
   ]
  },
  {
   "cell_type": "markdown",
   "id": "a83f633d",
   "metadata": {
    "id": "a83f633d"
   },
   "source": [
    "**Exercise:**  Write `left_push`, which takes a `Deque` object and a new value, and adds the value to the beginning of the deque.\n",
    "\n",
    "If the queue is empty, it should call `push_first` to handle the special case; otherwise it should handle the general case."
   ]
  },
  {
   "cell_type": "code",
   "execution_count": null,
   "id": "541d2764",
   "metadata": {
    "id": "541d2764"
   },
   "outputs": [],
   "source": []
  },
  {
   "cell_type": "markdown",
   "id": "df6d86a0",
   "metadata": {
    "id": "df6d86a0"
   },
   "source": [
    "You can use the following examples to test your function:"
   ]
  },
  {
   "cell_type": "code",
   "execution_count": null,
   "id": "b57d9562",
   "metadata": {
    "id": "b57d9562"
   },
   "outputs": [],
   "source": [
    "deque = Deque()\n",
    "left_push(deque, 2)\n",
    "print_deque(deque)"
   ]
  },
  {
   "cell_type": "code",
   "execution_count": null,
   "id": "511a9f52",
   "metadata": {
    "id": "511a9f52"
   },
   "outputs": [],
   "source": [
    "left_push(deque, 1)\n",
    "print_deque(deque)"
   ]
  },
  {
   "cell_type": "markdown",
   "id": "fe3c572e",
   "metadata": {
    "id": "fe3c572e"
   },
   "source": [
    "**Exercise:**  Write `right_push`, which takes a `Deque` object and a new value, and adds the value to the end of the deque.\n",
    "\n",
    "If the queue is empty, it should call `push_first` to handle the special case; otherwise it should handle the general case."
   ]
  },
  {
   "cell_type": "code",
   "execution_count": null,
   "id": "091cf27c",
   "metadata": {
    "id": "091cf27c"
   },
   "outputs": [],
   "source": []
  },
  {
   "cell_type": "markdown",
   "id": "05942662",
   "metadata": {
    "id": "05942662"
   },
   "source": [
    "You can use the following examples to test your function:"
   ]
  },
  {
   "cell_type": "code",
   "execution_count": null,
   "id": "7d3e7688",
   "metadata": {
    "id": "7d3e7688"
   },
   "outputs": [],
   "source": [
    "deque = Deque()\n",
    "right_push(deque, 3)\n",
    "print_deque(deque)"
   ]
  },
  {
   "cell_type": "code",
   "execution_count": null,
   "id": "23ac16de",
   "metadata": {
    "id": "23ac16de"
   },
   "outputs": [],
   "source": [
    "right_push(deque, 4)\n",
    "print_deque(deque)"
   ]
  },
  {
   "cell_type": "markdown",
   "id": "82eaab11",
   "metadata": {
    "id": "82eaab11"
   },
   "source": [
    "## Pop\n",
    "\n",
    "To pop elements from the deque, we have to handle two special cases:\n",
    "\n",
    "* If `head` and `tail` are both `None`, the deque is empty and we should raise a `ValueError`.\n",
    "\n",
    "* If `head` and `tail` refer to the same `Node`, there is only one element, so we should remove it and leave the deque empty.\n",
    "\n",
    "The following function handles these cases."
   ]
  },
  {
   "cell_type": "code",
   "execution_count": null,
   "id": "0830b88e",
   "metadata": {
    "id": "0830b88e",
    "tags": []
   },
   "outputs": [],
   "source": [
    "def pop_last(deque):\n",
    "    if deque.head is None:\n",
    "        raise ValueError('Tried to pop from empty deque')\n",
    "\n",
    "    old_head = deque.head\n",
    "    deque.head = deque.tail = None\n",
    "    return old_head.data"
   ]
  },
  {
   "cell_type": "markdown",
   "id": "8be920cb",
   "metadata": {
    "id": "8be920cb"
   },
   "source": [
    "We can test it like this:"
   ]
  },
  {
   "cell_type": "code",
   "execution_count": null,
   "id": "2b79c2a5",
   "metadata": {
    "id": "2b79c2a5",
    "tags": []
   },
   "outputs": [],
   "source": [
    "deque = Deque()\n",
    "left_push(deque, 1)\n",
    "pop_last(deque)"
   ]
  },
  {
   "cell_type": "code",
   "execution_count": null,
   "id": "466cbad6",
   "metadata": {
    "id": "466cbad6",
    "tags": []
   },
   "outputs": [],
   "source": [
    "print_deque(deque)"
   ]
  },
  {
   "cell_type": "markdown",
   "id": "ac600f8a",
   "metadata": {
    "id": "ac600f8a"
   },
   "source": [
    "**Exercise:**  Write `left_pop`, which takes a `Deque` object, remove the first node, and return the first data value.\n",
    "\n",
    "If the queue is empty or has a single element, it should call `pop_last` to handle the special case; otherwise it should handle the general case."
   ]
  },
  {
   "cell_type": "code",
   "execution_count": null,
   "id": "4a6d6869",
   "metadata": {
    "id": "4a6d6869"
   },
   "outputs": [],
   "source": []
  },
  {
   "cell_type": "markdown",
   "id": "03468ac4",
   "metadata": {
    "id": "03468ac4"
   },
   "source": [
    "You can use the following example to test your code."
   ]
  },
  {
   "cell_type": "code",
   "execution_count": null,
   "id": "31aecffc",
   "metadata": {
    "id": "31aecffc"
   },
   "outputs": [],
   "source": [
    "deque = Deque()\n",
    "left_push(deque, 2)\n",
    "left_push(deque, 1)\n",
    "print_deque(deque)"
   ]
  },
  {
   "cell_type": "code",
   "execution_count": null,
   "id": "e598b176",
   "metadata": {
    "id": "e598b176"
   },
   "outputs": [],
   "source": [
    "left_pop(deque)"
   ]
  },
  {
   "cell_type": "markdown",
   "id": "9a7bb10e",
   "metadata": {
    "id": "9a7bb10e"
   },
   "source": [
    "Check to see whether the remaining list is well-formed."
   ]
  },
  {
   "cell_type": "code",
   "execution_count": null,
   "id": "854f03c7",
   "metadata": {
    "id": "854f03c7"
   },
   "outputs": [],
   "source": [
    "print_deque(deque)"
   ]
  },
  {
   "cell_type": "code",
   "execution_count": null,
   "id": "40c86ff1",
   "metadata": {
    "id": "40c86ff1"
   },
   "outputs": [],
   "source": [
    "left_pop(deque)"
   ]
  },
  {
   "cell_type": "code",
   "execution_count": null,
   "id": "e0f844f6",
   "metadata": {
    "id": "e0f844f6"
   },
   "outputs": [],
   "source": [
    "try:\n",
    "    left_pop(deque)\n",
    "except ValueError as e:\n",
    "    print(e)"
   ]
  },
  {
   "cell_type": "markdown",
   "id": "8f1e64ee",
   "metadata": {
    "id": "8f1e64ee"
   },
   "source": [
    "**Exercise:**  Write `right_pop`, which takes a `Deque` object, remove the last node, and return the last data value.\n",
    "\n",
    "If the queue is empty or has a single element, it should call `pop_last` to handle the special case; otherwise it should handle the general case."
   ]
  },
  {
   "cell_type": "code",
   "execution_count": null,
   "id": "860a382c",
   "metadata": {
    "id": "860a382c"
   },
   "outputs": [],
   "source": []
  },
  {
   "cell_type": "markdown",
   "id": "35867cbd",
   "metadata": {
    "id": "35867cbd"
   },
   "source": [
    "You can use the following examples to test your function."
   ]
  },
  {
   "cell_type": "code",
   "execution_count": null,
   "id": "490ec809",
   "metadata": {
    "id": "490ec809"
   },
   "outputs": [],
   "source": [
    "deque = Deque()\n",
    "left_push(deque, 2)\n",
    "left_push(deque, 1)\n",
    "print(deque)"
   ]
  },
  {
   "cell_type": "code",
   "execution_count": null,
   "id": "df1579df",
   "metadata": {
    "id": "df1579df"
   },
   "outputs": [],
   "source": [
    "right_pop(deque)"
   ]
  },
  {
   "cell_type": "code",
   "execution_count": null,
   "id": "e9ede434",
   "metadata": {
    "id": "e9ede434"
   },
   "outputs": [],
   "source": [
    "print_deque(deque)"
   ]
  },
  {
   "cell_type": "code",
   "execution_count": null,
   "id": "28038595",
   "metadata": {
    "id": "28038595"
   },
   "outputs": [],
   "source": [
    "right_pop(deque)"
   ]
  },
  {
   "cell_type": "code",
   "execution_count": null,
   "id": "1bbbd530",
   "metadata": {
    "id": "1bbbd530"
   },
   "outputs": [],
   "source": [
    "try:\n",
    "    right_pop(deque)\n",
    "except ValueError as e:\n",
    "    print(e)"
   ]
  },
  {
   "cell_type": "markdown",
   "id": "2601cf79",
   "metadata": {
    "id": "2601cf79"
   },
   "source": [
    "## collections.deque\n",
    "\n",
    "The Python collections module provides an implementation of a deque.\n",
    "You can read the\n",
    "[documentation here](https://docs.python.org/3/library/collections.html#collections.deque)\n",
    "and the\n",
    "[source code here](https://github.com/python/cpython/blob/d943d19172aa93ce88bade15b9f23a0ce3bc72ff/Modules/_collectionsmodule.c).\n",
    "\n",
    "To confirm that it can add and remove elements from the beginning and end in constant time, let's run some timing tests."
   ]
  },
  {
   "cell_type": "code",
   "execution_count": null,
   "id": "693d5e28",
   "metadata": {
    "id": "693d5e28"
   },
   "outputs": [],
   "source": [
    "from os.path import basename, exists\n",
    "\n",
    "def download(url):\n",
    "    filename = basename(url)\n",
    "    if not exists(filename):\n",
    "        from urllib.request import urlretrieve\n",
    "        local, _ = urlretrieve(url, filename)\n",
    "        print('Downloaded ' + local)\n",
    "\n",
    "download('https://github.com/AllenDowney/DSIRP/raw/main/timing.py')"
   ]
  },
  {
   "cell_type": "code",
   "execution_count": null,
   "id": "f2a0e363",
   "metadata": {
    "id": "f2a0e363"
   },
   "outputs": [],
   "source": [
    "from collections import deque\n",
    "\n",
    "def appendleft(n):\n",
    "    d = deque()\n",
    "    [d.appendleft(x) for x in range(n)]"
   ]
  },
  {
   "cell_type": "code",
   "execution_count": null,
   "id": "38d3e7a6",
   "metadata": {
    "id": "38d3e7a6"
   },
   "outputs": [],
   "source": [
    "def popleft(n):\n",
    "    d = deque()\n",
    "    [d.appendleft(x) for x in range(n)]\n",
    "    [d.popleft() for _ in range(n)]"
   ]
  },
  {
   "cell_type": "code",
   "execution_count": null,
   "id": "5b5de53e",
   "metadata": {
    "id": "5b5de53e"
   },
   "outputs": [],
   "source": [
    "from timing import run_timing_test\n",
    "\n",
    "ns, ts = run_timing_test(appendleft)"
   ]
  },
  {
   "cell_type": "code",
   "execution_count": null,
   "id": "48d2628f",
   "metadata": {
    "id": "48d2628f"
   },
   "outputs": [],
   "source": [
    "def append(n):\n",
    "    d = deque()\n",
    "    [d.append(x) for x in range(n)]"
   ]
  },
  {
   "cell_type": "code",
   "execution_count": null,
   "id": "2d1aad80",
   "metadata": {
    "id": "2d1aad80"
   },
   "outputs": [],
   "source": [
    "from timing import plot_timing_test\n",
    "\n",
    "plot_timing_test(ns, ts, scale='linear')"
   ]
  },
  {
   "cell_type": "markdown",
   "id": "e2b4aef5",
   "metadata": {
    "id": "e2b4aef5"
   },
   "source": [
    "Running these operations `n` times is linear in `n`, which means that each one is constant time, at least on average."
   ]
  },
  {
   "cell_type": "markdown",
   "id": "33d085cd",
   "metadata": {
    "id": "33d085cd"
   },
   "source": [
    "**Exercise:** Modify the examples above to confirm that `append` and `pop` are also constant time."
   ]
  }
 ],
 "metadata": {
  "celltoolbar": "Tags",
  "colab": {
   "provenance": []
  },
  "kernelspec": {
   "display_name": "Python 3 (ipykernel)",
   "language": "python",
   "name": "python3"
  },
  "language_info": {
   "codemirror_mode": {
    "name": "ipython",
    "version": 3
   },
   "file_extension": ".py",
   "mimetype": "text/x-python",
   "name": "python",
   "nbconvert_exporter": "python",
   "pygments_lexer": "ipython3",
   "version": "3.11.5"
  }
 },
 "nbformat": 4,
 "nbformat_minor": 5
}
