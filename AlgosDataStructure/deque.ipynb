{
 "cells": [
  {
   "cell_type": "markdown",
   "id": "af0fce85",
   "metadata": {
    "id": "af0fce85"
   },
   "source": [
    "# Deque"
   ]
  },
  {
   "cell_type": "markdown",
   "id": "394c2889",
   "metadata": {
    "id": "394c2889"
   },
   "source": [
    "## Double-ended Queue\n",
    "\n",
    "With Python lists, we can add and remove elements from the *end* of the list in constant time, but adding and removing from the beginning takes linear time.\n",
    "That's because Python lists are implemented using arrays that grow dynamically.\n",
    "\n",
    "With linked lists, we can add and remove elements from the *beginning* of the list in constant time, but adding and removing from the end takes linear time.\n",
    "\n",
    "With either of these implementations, it is easy to make a stack, that is, a collection where the first element we add is the last element we remove. A stack is also called a \"first-in, last-out\" queue, abbreviated FILO.\n",
    "\n",
    "But it is not easy to implement a \"first-in, first-out\" queue, that is, a collection where the first element we add is the *first* element we remove.\n",
    "\n",
    "Fortunately, there are ways to implement lists that can add and remove elements from both ends in constant time.\n",
    "A collection that has this property is called a double-ended queue, abbreviated \"deque\" and pronounced like \"deck\".\n",
    "\n",
    "One way to implement a deque is a doubly-linked list, also known as a \"head-tail linked list\".\n",
    "Each node in a doubly-linked list has a reference to the previous node in the list as well as the next element, which I will call `left` and `right`.\n"
   ]
  },
  {
   "cell_type": "code",
   "execution_count": 1,
   "id": "c3eda892",
   "metadata": {
    "id": "c3eda892"
   },
   "outputs": [],
   "source": [
    "class Node:\n",
    "    def __init__(self, data, left=None, right=None):\n",
    "        self.data = data\n",
    "        self.left = left\n",
    "        self.right = right\n",
    "\n",
    "    def __repr__(self):\n",
    "        return f'Node({self.data})'"
   ]
  },
  {
   "cell_type": "markdown",
   "id": "bbf5ad6f",
   "metadata": {
    "id": "bbf5ad6f"
   },
   "source": [
    "We can create nodes like this:"
   ]
  },
  {
   "cell_type": "code",
   "execution_count": 2,
   "id": "3eb18535",
   "metadata": {
    "id": "3eb18535",
    "tags": []
   },
   "outputs": [
    {
     "data": {
      "text/plain": [
       "Node(1)"
      ]
     },
     "execution_count": 2,
     "metadata": {},
     "output_type": "execute_result"
    }
   ],
   "source": [
    "node1 = Node(1)\n",
    "node2 = Node(2)\n",
    "node3 = Node(3)\n",
    "\n",
    "node1"
   ]
  },
  {
   "cell_type": "markdown",
   "id": "fdfd0222",
   "metadata": {
    "id": "fdfd0222"
   },
   "source": [
    "And then link them up, like this:"
   ]
  },
  {
   "cell_type": "code",
   "execution_count": 3,
   "id": "80748b5d",
   "metadata": {
    "id": "80748b5d",
    "tags": []
   },
   "outputs": [],
   "source": [
    "node1.right = node2\n",
    "node2.right = node3\n",
    "\n",
    "node2.left = node1\n",
    "node3.left = node2"
   ]
  },
  {
   "cell_type": "markdown",
   "id": "889fdd16",
   "metadata": {
    "id": "889fdd16"
   },
   "source": [
    "To traverse the list from left to right, we can start at the beginning and follow the `right` links."
   ]
  },
  {
   "cell_type": "code",
   "execution_count": 4,
   "id": "ca630b64",
   "metadata": {
    "id": "ca630b64"
   },
   "outputs": [
    {
     "name": "stdout",
     "output_type": "stream",
     "text": [
      "Node(1)\n",
      "Node(2)\n",
      "Node(3)\n"
     ]
    }
   ],
   "source": [
    "node = node1\n",
    "while node:\n",
    "    print(node)\n",
    "    node = node.right"
   ]
  },
  {
   "cell_type": "markdown",
   "id": "016025b3",
   "metadata": {
    "id": "016025b3"
   },
   "source": [
    "To traverse from right to left, we start and the end and follow the `left` links."
   ]
  },
  {
   "cell_type": "code",
   "execution_count": 5,
   "id": "a259cbd5",
   "metadata": {
    "id": "a259cbd5"
   },
   "outputs": [
    {
     "name": "stdout",
     "output_type": "stream",
     "text": [
      "Node(3)\n",
      "Node(2)\n",
      "Node(1)\n"
     ]
    }
   ],
   "source": [
    "node = node3\n",
    "while node:\n",
    "    print(node)\n",
    "    node = node.left"
   ]
  },
  {
   "cell_type": "markdown",
   "id": "f21575f6",
   "metadata": {
    "id": "f21575f6"
   },
   "source": [
    "## Deque objects\n",
    "\n",
    "For some operations, it will be convenient to have another object that represents the whole list (as opposed to one of its nodes).\n",
    "\n",
    "Here's the class definition."
   ]
  },
  {
   "cell_type": "code",
   "execution_count": 6,
   "id": "f1c32da2",
   "metadata": {
    "id": "f1c32da2"
   },
   "outputs": [],
   "source": [
    "class Deque:\n",
    "    def __init__(self, head=None, tail=None):\n",
    "        self.head = head\n",
    "        self.tail = tail\n",
    "\n",
    "    def __repr__(self):\n",
    "        return f'LinkedList({self.head}, {self.tail})'"
   ]
  },
  {
   "cell_type": "markdown",
   "id": "c41fb536",
   "metadata": {
    "id": "c41fb536"
   },
   "source": [
    "Now we can create a `Deque` with references to `node1` and `node3`:"
   ]
  },
  {
   "cell_type": "code",
   "execution_count": 7,
   "id": "f8def755",
   "metadata": {
    "id": "f8def755",
    "tags": []
   },
   "outputs": [
    {
     "data": {
      "text/plain": [
       "LinkedList(Node(1), Node(3))"
      ]
     },
     "execution_count": 7,
     "metadata": {},
     "output_type": "execute_result"
    }
   ],
   "source": [
    "deque = Deque(node1, node3)\n",
    "deque"
   ]
  },
  {
   "cell_type": "markdown",
   "id": "d6828e7f",
   "metadata": {
    "id": "d6828e7f"
   },
   "source": [
    "For debugging purposes, I'll use the following function, which prints the list from right to left and then left to right, which confirms that all of the links are correct."
   ]
  },
  {
   "cell_type": "code",
   "execution_count": 8,
   "id": "c89bece9",
   "metadata": {
    "id": "c89bece9"
   },
   "outputs": [],
   "source": [
    "def print_deque(deque):\n",
    "    node = deque.head\n",
    "    while node:\n",
    "        print(node.data, end=', ')\n",
    "        node = node.right\n",
    "    print()\n",
    "\n",
    "    node = deque.tail\n",
    "    while node:\n",
    "        print(node.data, end=', ')\n",
    "        node = node.left\n",
    "    print()"
   ]
  },
  {
   "cell_type": "markdown",
   "id": "2f9532f2",
   "metadata": {
    "id": "2f9532f2"
   },
   "source": [
    "Here's an example."
   ]
  },
  {
   "cell_type": "code",
   "execution_count": 9,
   "id": "c246a024",
   "metadata": {
    "id": "c246a024"
   },
   "outputs": [
    {
     "name": "stdout",
     "output_type": "stream",
     "text": [
      "1, 2, 3, \n",
      "3, 2, 1, \n"
     ]
    }
   ],
   "source": [
    "print_deque(deque)"
   ]
  },
  {
   "cell_type": "markdown",
   "id": "44af708a",
   "metadata": {
    "id": "44af708a"
   },
   "source": [
    "## Push\n",
    "\n",
    "Now let's see how we can add and remove elements from the beginning and end in constant time.\n",
    "We'll start with the push operations.\n",
    "\n",
    "If we start with an empty deque, adding the first node is a special case, so I'll pull that into a function."
   ]
  },
  {
   "cell_type": "code",
   "execution_count": 10,
   "id": "7b522c71",
   "metadata": {
    "id": "7b522c71",
    "tags": []
   },
   "outputs": [],
   "source": [
    "def push_first(deque, value):\n",
    "    deque.head = deque.tail = Node(value, None, None)"
   ]
  },
  {
   "cell_type": "code",
   "execution_count": 11,
   "id": "9ee37b46",
   "metadata": {
    "id": "9ee37b46",
    "tags": []
   },
   "outputs": [
    {
     "name": "stdout",
     "output_type": "stream",
     "text": [
      "1, \n",
      "1, \n"
     ]
    }
   ],
   "source": [
    "deque = Deque()\n",
    "push_first(deque, 1)\n",
    "print_deque(deque)"
   ]
  },
  {
   "cell_type": "markdown",
   "id": "82eaab11",
   "metadata": {
    "id": "82eaab11"
   },
   "source": [
    "## Pop\n",
    "\n",
    "To pop elements from the deque, we have to handle two special cases:\n",
    "\n",
    "* If `head` and `tail` are both `None`, the deque is empty and we should raise a `ValueError`.\n",
    "\n",
    "* If `head` and `tail` refer to the same `Node`, there is only one element, so we should remove it and leave the deque empty.\n",
    "\n",
    "The following function handles these cases."
   ]
  },
  {
   "cell_type": "code",
   "execution_count": 15,
   "id": "0830b88e",
   "metadata": {
    "id": "0830b88e",
    "tags": []
   },
   "outputs": [],
   "source": [
    "def pop_last(deque):\n",
    "    if deque.head is None:\n",
    "        raise ValueError('Tried to pop from empty deque')\n",
    "\n",
    "    old_head = deque.head\n",
    "    deque.head = deque.tail = None\n",
    "    return old_head.data"
   ]
  },
  {
   "cell_type": "markdown",
   "id": "2601cf79",
   "metadata": {
    "id": "2601cf79"
   },
   "source": [
    "## collections.deque\n",
    "\n",
    "The Python collections module provides an implementation of a deque.\n",
    "You can read the\n",
    "[documentation here](https://docs.python.org/3/library/collections.html#collections.deque)\n",
    "and the\n",
    "[source code here](https://github.com/python/cpython/blob/d943d19172aa93ce88bade15b9f23a0ce3bc72ff/Modules/_collectionsmodule.c).\n",
    "\n",
    "To confirm that it can add and remove elements from the beginning and end in constant time, let's run some timing tests."
   ]
  },
  {
   "cell_type": "code",
   "execution_count": 17,
   "id": "693d5e28",
   "metadata": {
    "id": "693d5e28"
   },
   "outputs": [
    {
     "name": "stdout",
     "output_type": "stream",
     "text": [
      "Downloaded timing.py\n"
     ]
    }
   ],
   "source": [
    "from os.path import basename, exists\n",
    "\n",
    "def download(url):\n",
    "    filename = basename(url)\n",
    "    if not exists(filename):\n",
    "        from urllib.request import urlretrieve\n",
    "        local, _ = urlretrieve(url, filename)\n",
    "        print('Downloaded ' + local)\n",
    "\n",
    "download('https://github.com/AllenDowney/DSIRP/raw/main/timing.py')"
   ]
  },
  {
   "cell_type": "code",
   "execution_count": 18,
   "id": "f2a0e363",
   "metadata": {
    "id": "f2a0e363"
   },
   "outputs": [],
   "source": [
    "from collections import deque\n",
    "\n",
    "def appendleft(n):\n",
    "    d = deque()\n",
    "    [d.appendleft(x) for x in range(n)]"
   ]
  },
  {
   "cell_type": "code",
   "execution_count": 19,
   "id": "38d3e7a6",
   "metadata": {
    "id": "38d3e7a6"
   },
   "outputs": [],
   "source": [
    "def popleft(n):\n",
    "    d = deque()\n",
    "    [d.appendleft(x) for x in range(n)]\n",
    "    [d.popleft() for _ in range(n)]"
   ]
  },
  {
   "cell_type": "code",
   "execution_count": 20,
   "id": "5b5de53e",
   "metadata": {
    "id": "5b5de53e"
   },
   "outputs": [
    {
     "name": "stdout",
     "output_type": "stream",
     "text": [
      "1024 0.0\n",
      "2048 0.0\n",
      "4096 0.0\n",
      "8192 0.010000000000000231\n",
      "16384 0.009999999999999787\n",
      "32768 0.029999999999999805\n",
      "65536 0.050000000000000266\n",
      "131072 0.08000000000000007\n",
      "262144 0.1299999999999999\n",
      "524288 0.10000000000000009\n",
      "1048576 0.10999999999999988\n",
      "2097152 0.07000000000000028\n",
      "4194304 0.13999999999999968\n",
      "8388608 0.2599999999999998\n",
      "16777216 0.5400000000000009\n",
      "33554432 1.049999999999999\n"
     ]
    }
   ],
   "source": [
    "from timing import run_timing_test\n",
    "\n",
    "ns, ts = run_timing_test(appendleft)"
   ]
  },
  {
   "cell_type": "code",
   "execution_count": 21,
   "id": "48d2628f",
   "metadata": {
    "id": "48d2628f"
   },
   "outputs": [],
   "source": [
    "def append(n):\n",
    "    d = deque()\n",
    "    [d.append(x) for x in range(n)]"
   ]
  },
  {
   "cell_type": "code",
   "execution_count": 22,
   "id": "2d1aad80",
   "metadata": {
    "id": "2d1aad80"
   },
   "outputs": [
    {
     "data": {
      "image/png": "[encoded data removed]",
      "text/plain": [
       "<Figure size 640x480 with 1 Axes>"
      ]
     },
     "metadata": {},
     "output_type": "display_data"
    }
   ],
   "source": [
    "from timing import plot_timing_test\n",
    "\n",
    "plot_timing_test(ns, ts, scale='linear')"
   ]
  },
  {
   "cell_type": "markdown",
   "id": "e2b4aef5",
   "metadata": {
    "id": "e2b4aef5"
   },
   "source": [
    "Running these operations `n` times is linear in `n`, which means that each one is constant time, at least on average."
   ]
  },
  {
   "cell_type": "markdown",
   "id": "33d085cd",
   "metadata": {
    "id": "33d085cd"
   },
   "source": [
    "**Exercise:** Modify the examples above to confirm that `append` and `pop` are also constant time."
   ]
  }
 ],
 "metadata": {
  "celltoolbar": "Tags",
  "colab": {
   "provenance": []
  },
  "kernelspec": {
   "display_name": "Python 3 (ipykernel)",
   "language": "python",
   "name": "python3"
  },
  "language_info": {
   "codemirror_mode": {
    "name": "ipython",
    "version": 3
   },
   "file_extension": ".py",
   "mimetype": "text/x-python",
   "name": "python",
   "nbconvert_exporter": "python",
   "pygments_lexer": "ipython3",
   "version": "3.11.5"
  }
 },
 "nbformat": 4,
 "nbformat_minor": 5
}
