{
 "cells": [
  {
   "cell_type": "markdown",
   "metadata": {
    "id": "DlysjDBQ4Hm7"
   },
   "source": [
    "# FFT"
   ]
  },
  {
   "cell_type": "code",
   "execution_count": 1,
   "metadata": {
    "id": "xj0B6E1-4Hm9"
   },
   "outputs": [],
   "source": [
    "from os.path import basename, exists\n",
    "\n",
    "def download(url):\n",
    "    filename = basename(url)\n",
    "    if not exists(filename):\n",
    "        from urllib.request import urlretrieve\n",
    "        local, _ = urlretrieve(url, filename)\n",
    "        print('Downloaded ' + local)\n",
    "\n",
    "download('https://github.com/AllenDowney/DSIRP/raw/main/timing.py')"
   ]
  },
  {
   "cell_type": "code",
   "execution_count": 2,
   "metadata": {
    "id": "n9gi2oxl4Hm-"
   },
   "outputs": [],
   "source": [
    "from timing import run_timing_test, plot_timing_test"
   ]
  },
  {
   "cell_type": "markdown",
   "metadata": {
    "id": "AKEQ8gxa4Hm-"
   },
   "source": [
    "## Discrete Fourier Transform\n",
    "\n",
    "According to our friends at [Wikipedia](https://en.wikipedia.org/wiki/Discrete_Fourier_transform):\n",
    "\n",
    "> The discrete Fourier transform transforms a sequence of $N$ complex numbers\n",
    "${\\displaystyle \\mathbf{x} =x_{0},x_{1},\\ldots ,x_{N-1}}$ into another sequence of complex numbers,\n",
    "${\\displaystyle \\mathbf{X} =X_{0},X_{1},\\ldots ,X_{N-1},}$ which is defined by $$X_k = \\sum_{n=0}^N x_n \\cdot e^{-i 2 \\pi k n / N} $$\n",
    "\n",
    "Notice:\n",
    "\n",
    "* $X$ and $x$ are the same length, $N$.\n",
    "\n",
    "* $n$ is the index that specifies an element of $x$, and\n",
    "\n",
    "* $k$ is the index that specifies an element of $X$.\n",
    "\n",
    "Let's start with a small example and use Numpy's implementation of FFT to compute the DFT."
   ]
  },
  {
   "cell_type": "code",
   "execution_count": 3,
   "metadata": {
    "id": "4KjtaTof4Hm-"
   },
   "outputs": [],
   "source": [
    "x = [1, 0, 0, 0]"
   ]
  },
  {
   "cell_type": "code",
   "execution_count": 4,
   "metadata": {
    "id": "5n8t0rqV4Hm_"
   },
   "outputs": [
    {
     "data": {
      "text/plain": [
       "array([1.+0.j, 1.+0.j, 1.+0.j, 1.+0.j])"
      ]
     },
     "execution_count": 4,
     "metadata": {},
     "output_type": "execute_result"
    }
   ],
   "source": [
    "import numpy as np\n",
    "\n",
    "np.fft.fft(x)"
   ]
  },
  {
   "cell_type": "markdown",
   "metadata": {
    "id": "TZNaNhzu4Hm_"
   },
   "source": [
    "Now we know what the answer is, let's compute it ourselves.\n",
    "\n",
    "Here's the expression that computes one element of $X$."
   ]
  },
  {
   "cell_type": "code",
   "execution_count": 5,
   "metadata": {
    "id": "1vN6lOH34Hm_"
   },
   "outputs": [],
   "source": [
    "pi = np.pi\n",
    "exp = np.exp\n",
    "N = len(x)\n",
    "k = 0"
   ]
  },
  {
   "cell_type": "code",
   "execution_count": 6,
   "metadata": {
    "id": "FMQSxZLN4Hm_",
    "tags": []
   },
   "outputs": [
    {
     "data": {
      "text/plain": [
       "(1+0j)"
      ]
     },
     "execution_count": 6,
     "metadata": {},
     "output_type": "execute_result"
    }
   ],
   "source": [
    "sum(x[n] * exp(-2j * pi * k * n / N) for n in range(N))"
   ]
  },
  {
   "cell_type": "markdown",
   "metadata": {
    "id": "cKOqDwu44Hm_"
   },
   "source": [
    "Wrapping this code in a function makes the roles of `k` and `n` clearer:\n",
    "\n",
    "* `k` is the parameter that specifies which element of the DFT to compute, and\n",
    "\n",
    "* `n` is the loop variable we use to compute the summation."
   ]
  },
  {
   "cell_type": "code",
   "execution_count": 7,
   "metadata": {
    "id": "VM6aCxaF4Hm_",
    "tags": []
   },
   "outputs": [],
   "source": [
    "def dft_k(x, k):\n",
    "    N = len(x)\n",
    "    return sum(x[n] * exp(-2j * pi * k * n / N) for n in range(N))"
   ]
  },
  {
   "cell_type": "code",
   "execution_count": 8,
   "metadata": {
    "id": "AHzjoc534HnA"
   },
   "outputs": [
    {
     "data": {
      "text/plain": [
       "(1+0j)"
      ]
     },
     "execution_count": 8,
     "metadata": {},
     "output_type": "execute_result"
    }
   ],
   "source": [
    "dft_k(x, k=1)"
   ]
  },
  {
   "cell_type": "markdown",
   "metadata": {
    "id": "R9zKuEe14HnA"
   },
   "source": [
    "Usually we compute $X$ all at once, so we can wrap `dft_k` in another function:"
   ]
  },
  {
   "cell_type": "code",
   "execution_count": 9,
   "metadata": {
    "id": "oM6Raih24HnA",
    "tags": []
   },
   "outputs": [],
   "source": [
    "def dft(x):\n",
    "    N = len(x)\n",
    "    X = [dft_k(x, k) for k in range(N)]\n",
    "    return X"
   ]
  },
  {
   "cell_type": "code",
   "execution_count": 10,
   "metadata": {
    "id": "y0truVbM4HnA"
   },
   "outputs": [
    {
     "data": {
      "text/plain": [
       "[(1+0j), (1+0j), (1+0j), (1+0j)]"
      ]
     },
     "execution_count": 10,
     "metadata": {},
     "output_type": "execute_result"
    }
   ],
   "source": [
    "dft(x)"
   ]
  },
  {
   "cell_type": "markdown",
   "metadata": {
    "id": "4cTy53KH4HnA"
   },
   "source": [
    "And that's what we got from Numpy."
   ]
  },
  {
   "cell_type": "markdown",
   "metadata": {
    "id": "ijJqjWUI4HnA"
   },
   "source": [
    "## Timing DFT\n",
    "\n",
    "Let's see what the performance of `dft` looks like."
   ]
  },
  {
   "cell_type": "code",
   "execution_count": 11,
   "metadata": {
    "id": "U22QwHfA4HnA"
   },
   "outputs": [],
   "source": [
    "def test_dft(N):\n",
    "    x = np.random.normal(size=N)\n",
    "    X = dft(x)"
   ]
  },
  {
   "cell_type": "code",
   "execution_count": 12,
   "metadata": {
    "id": "CXPSa4yS4HnA"
   },
   "outputs": [
    {
     "name": "stdout",
     "output_type": "stream",
     "text": [
      "CPU times: user 172 ms, sys: 2.84 ms, total: 174 ms\n",
      "Wall time: 174 ms\n"
     ]
    }
   ],
   "source": [
    "%time test_dft(512)"
   ]
  },
  {
   "cell_type": "code",
   "execution_count": 13,
   "metadata": {
    "id": "izsjDVxN4HnA"
   },
   "outputs": [
    {
     "name": "stdout",
     "output_type": "stream",
     "text": [
      "32 0.0\n",
      "64 0.020000000000000018\n",
      "128 0.020000000000000462\n",
      "256 0.04999999999999982\n",
      "512 0.13999999999999968\n",
      "1024 0.5499999999999998\n",
      "2048 2.25\n"
     ]
    },
    {
     "data": {
      "image/png": "[encoded data removed]",
      "text/plain": [
       "<Figure size 640x480 with 1 Axes>"
      ]
     },
     "metadata": {},
     "output_type": "display_data"
    }
   ],
   "source": [
    "ns, ts = run_timing_test(test_dft, start_at=5)\n",
    "plot_timing_test(ns, ts, 'test_dft', exp=2)"
   ]
  },
  {
   "cell_type": "markdown",
   "metadata": {
    "id": "yV6rPVnF4HnA"
   },
   "source": [
    "## Implementing FFT\n",
    "\n",
    "The key to the FFT algorithm is the [Danielson-Lanczos lemma](https://mathworld.wolfram.com/Danielson-LanczosLemma.html), which says\n",
    "\n",
    "$ X_k = E_k + e^{-i 2 \\pi n / N} O_k $\n",
    "\n",
    "Where\n",
    "\n",
    "* $E$ is the FFT of the even elements of $x$, and\n",
    "\n",
    "* $O$ is the DFT of the odd elements of $x$.\n",
    "\n",
    "Before we can translate this expression into code, we have to deal with a gotcha.\n",
    "\n",
    "Remember that, if the length of $x$ is $N$, the length of $X$ is also $N$.\n",
    "\n",
    "If we select the even elements of $x$, the result is a sequence with length $N/2$, which means that the length of $E$ is $N/2$.\n",
    "And the same for $O$.\n",
    "\n",
    "But if $k$ goes from $0$ up to $N-1$, what do we do when it exceeds $N/2-1$?\n",
    "\n",
    "Fortunately, the DFT repeats itself so, $X_N$ is the same as $X_0$.\n",
    "That means we can extend $E$ and $O$ to be the same length as $X$ just by repeating them.\n",
    "And we can do that with the Numpy function `tile`.\n",
    "\n",
    "So, here's a version of `merge` based on the D-L lemma."
   ]
  },
  {
   "cell_type": "code",
   "execution_count": 14,
   "metadata": {
    "id": "b_echaf54HnA",
    "tags": []
   },
   "outputs": [],
   "source": [
    "def merge(E, O):\n",
    "    N = len(E) * 2\n",
    "    ns = np.arange(N)\n",
    "    W = np.exp(-2j * pi * ns / N)\n",
    "    return np.tile(E, 2) + W * np.tile(O, 2)"
   ]
  }
 ],
 "metadata": {
  "anaconda-cloud": {},
  "celltoolbar": "Tags",
  "colab": {
   "provenance": []
  },
  "kernelspec": {
   "display_name": "Python 3 (ipykernel)",
   "language": "python",
   "name": "python3"
  },
  "language_info": {
   "codemirror_mode": {
    "name": "ipython",
    "version": 3
   },
   "file_extension": ".py",
   "mimetype": "text/x-python",
   "name": "python",
   "nbconvert_exporter": "python",
   "pygments_lexer": "ipython3",
   "version": "3.11.5"
  }
 },
 "nbformat": 4,
 "nbformat_minor": 1
}
