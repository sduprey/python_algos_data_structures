{
 "cells": [
  {
   "cell_type": "markdown",
   "metadata": {
    "id": "DlysjDBQ4Hm7"
   },
   "source": [
    "# FFT"
   ]
  },
  {
   "cell_type": "code",
   "execution_count": null,
   "metadata": {
    "id": "xj0B6E1-4Hm9"
   },
   "outputs": [],
   "source": [
    "from os.path import basename, exists\n",
    "\n",
    "def download(url):\n",
    "    filename = basename(url)\n",
    "    if not exists(filename):\n",
    "        from urllib.request import urlretrieve\n",
    "        local, _ = urlretrieve(url, filename)\n",
    "        print('Downloaded ' + local)\n",
    "\n",
    "download('https://github.com/AllenDowney/DSIRP/raw/main/timing.py')"
   ]
  },
  {
   "cell_type": "code",
   "execution_count": null,
   "metadata": {
    "id": "n9gi2oxl4Hm-"
   },
   "outputs": [],
   "source": [
    "from timing import run_timing_test, plot_timing_test"
   ]
  },
  {
   "cell_type": "markdown",
   "metadata": {
    "id": "AKEQ8gxa4Hm-"
   },
   "source": [
    "## Discrete Fourier Transform\n",
    "\n",
    "According to our friends at [Wikipedia](https://en.wikipedia.org/wiki/Discrete_Fourier_transform):\n",
    "\n",
    "> The discrete Fourier transform transforms a sequence of $N$ complex numbers\n",
    "${\\displaystyle \\mathbf{x} =x_{0},x_{1},\\ldots ,x_{N-1}}$ into another sequence of complex numbers,\n",
    "${\\displaystyle \\mathbf{X} =X_{0},X_{1},\\ldots ,X_{N-1},}$ which is defined by $$X_k = \\sum_{n=0}^N x_n \\cdot e^{-i 2 \\pi k n / N} $$\n",
    "\n",
    "Notice:\n",
    "\n",
    "* $X$ and $x$ are the same length, $N$.\n",
    "\n",
    "* $n$ is the index that specifies an element of $x$, and\n",
    "\n",
    "* $k$ is the index that specifies an element of $X$.\n",
    "\n",
    "Let's start with a small example and use Numpy's implementation of FFT to compute the DFT."
   ]
  },
  {
   "cell_type": "code",
   "execution_count": null,
   "metadata": {
    "id": "4KjtaTof4Hm-"
   },
   "outputs": [],
   "source": [
    "x = [1, 0, 0, 0]"
   ]
  },
  {
   "cell_type": "code",
   "execution_count": null,
   "metadata": {
    "id": "5n8t0rqV4Hm_"
   },
   "outputs": [],
   "source": [
    "import numpy as np\n",
    "\n",
    "np.fft.fft(x)"
   ]
  },
  {
   "cell_type": "markdown",
   "metadata": {
    "id": "TZNaNhzu4Hm_"
   },
   "source": [
    "Now we know what the answer is, let's compute it ourselves.\n",
    "\n",
    "Here's the expression that computes one element of $X$."
   ]
  },
  {
   "cell_type": "code",
   "execution_count": null,
   "metadata": {
    "id": "1vN6lOH34Hm_"
   },
   "outputs": [],
   "source": [
    "pi = np.pi\n",
    "exp = np.exp\n",
    "N = len(x)\n",
    "k = 0"
   ]
  },
  {
   "cell_type": "code",
   "execution_count": null,
   "metadata": {
    "id": "FMQSxZLN4Hm_",
    "tags": []
   },
   "outputs": [],
   "source": [
    "sum(x[n] * exp(-2j * pi * k * n / N) for n in range(N))"
   ]
  },
  {
   "cell_type": "markdown",
   "metadata": {
    "id": "cKOqDwu44Hm_"
   },
   "source": [
    "Wrapping this code in a function makes the roles of `k` and `n` clearer:\n",
    "\n",
    "* `k` is the parameter that specifies which element of the DFT to compute, and\n",
    "\n",
    "* `n` is the loop variable we use to compute the summation."
   ]
  },
  {
   "cell_type": "code",
   "execution_count": null,
   "metadata": {
    "id": "VM6aCxaF4Hm_",
    "tags": []
   },
   "outputs": [],
   "source": [
    "def dft_k(x, k):\n",
    "    N = len(x)\n",
    "    return sum(x[n] * exp(-2j * pi * k * n / N) for n in range(N))"
   ]
  },
  {
   "cell_type": "code",
   "execution_count": null,
   "metadata": {
    "id": "AHzjoc534HnA"
   },
   "outputs": [],
   "source": [
    "dft_k(x, k=1)"
   ]
  },
  {
   "cell_type": "markdown",
   "metadata": {
    "id": "R9zKuEe14HnA"
   },
   "source": [
    "Usually we compute $X$ all at once, so we can wrap `dft_k` in another function:"
   ]
  },
  {
   "cell_type": "code",
   "execution_count": null,
   "metadata": {
    "id": "oM6Raih24HnA",
    "tags": []
   },
   "outputs": [],
   "source": [
    "def dft(x):\n",
    "    N = len(x)\n",
    "    X = [dft_k(x, k) for k in range(N)]\n",
    "    return X"
   ]
  },
  {
   "cell_type": "code",
   "execution_count": null,
   "metadata": {
    "id": "y0truVbM4HnA"
   },
   "outputs": [],
   "source": [
    "dft(x)"
   ]
  },
  {
   "cell_type": "markdown",
   "metadata": {
    "id": "4cTy53KH4HnA"
   },
   "source": [
    "And that's what we got from Numpy."
   ]
  },
  {
   "cell_type": "markdown",
   "metadata": {
    "id": "ijJqjWUI4HnA"
   },
   "source": [
    "## Timing DFT\n",
    "\n",
    "Let's see what the performance of `dft` looks like."
   ]
  },
  {
   "cell_type": "code",
   "execution_count": null,
   "metadata": {
    "id": "U22QwHfA4HnA"
   },
   "outputs": [],
   "source": [
    "def test_dft(N):\n",
    "    x = np.random.normal(size=N)\n",
    "    X = dft(x)"
   ]
  },
  {
   "cell_type": "code",
   "execution_count": null,
   "metadata": {
    "id": "CXPSa4yS4HnA"
   },
   "outputs": [],
   "source": [
    "%time test_dft(512)"
   ]
  },
  {
   "cell_type": "code",
   "execution_count": null,
   "metadata": {
    "id": "izsjDVxN4HnA"
   },
   "outputs": [],
   "source": [
    "ns, ts = run_timing_test(test_dft, start_at=5)\n",
    "plot_timing_test(ns, ts, 'test_dft', exp=2)"
   ]
  },
  {
   "cell_type": "markdown",
   "metadata": {
    "id": "yV6rPVnF4HnA"
   },
   "source": [
    "## Implementing FFT\n",
    "\n",
    "The key to the FFT algorithm is the [Danielson-Lanczos lemma](https://mathworld.wolfram.com/Danielson-LanczosLemma.html), which says\n",
    "\n",
    "$ X_k = E_k + e^{-i 2 \\pi n / N} O_k $\n",
    "\n",
    "Where\n",
    "\n",
    "* $E$ is the FFT of the even elements of $x$, and\n",
    "\n",
    "* $O$ is the DFT of the odd elements of $x$.\n",
    "\n",
    "Before we can translate this expression into code, we have to deal with a gotcha.\n",
    "\n",
    "Remember that, if the length of $x$ is $N$, the length of $X$ is also $N$.\n",
    "\n",
    "If we select the even elements of $x$, the result is a sequence with length $N/2$, which means that the length of $E$ is $N/2$.\n",
    "And the same for $O$.\n",
    "\n",
    "But if $k$ goes from $0$ up to $N-1$, what do we do when it exceeds $N/2-1$?\n",
    "\n",
    "Fortunately, the DFT repeats itself so, $X_N$ is the same as $X_0$.\n",
    "That means we can extend $E$ and $O$ to be the same length as $X$ just by repeating them.\n",
    "And we can do that with the Numpy function `tile`.\n",
    "\n",
    "So, here's a version of `merge` based on the D-L lemma."
   ]
  },
  {
   "cell_type": "code",
   "execution_count": null,
   "metadata": {
    "id": "b_echaf54HnA",
    "tags": []
   },
   "outputs": [],
   "source": [
    "def merge(E, O):\n",
    "    N = len(E) * 2\n",
    "    ns = np.arange(N)\n",
    "    W = np.exp(-2j * pi * ns / N)\n",
    "    return np.tile(E, 2) + W * np.tile(O, 2)"
   ]
  },
  {
   "cell_type": "markdown",
   "metadata": {
    "id": "xfIbotV_4HnA"
   },
   "source": [
    "**Exercise:** As a first step toward implementing FFT, write a non-recursive function called `fft_norec` that takes a sequence called `x` and\n",
    "\n",
    "1. Divides `x` into even and odd elements,\n",
    "\n",
    "2. Uses `dft` to compute `E` and `O`, and\n",
    "\n",
    "3. Uses `merge` to compute `X`."
   ]
  },
  {
   "cell_type": "code",
   "execution_count": null,
   "metadata": {
    "id": "n7oIDqhl4HnA"
   },
   "outputs": [],
   "source": []
  },
  {
   "cell_type": "code",
   "execution_count": null,
   "metadata": {
    "id": "AOnfE44z4HnA"
   },
   "outputs": [],
   "source": [
    "fft_norec(x)"
   ]
  },
  {
   "cell_type": "markdown",
   "metadata": {
    "id": "PSPjOzPn4HnA"
   },
   "source": [
    "Let's see what the performance looks like."
   ]
  },
  {
   "cell_type": "code",
   "execution_count": null,
   "metadata": {
    "id": "93BsYmdl4HnA"
   },
   "outputs": [],
   "source": [
    "def test_fft_norec(N):\n",
    "    x = np.random.normal(size=N)\n",
    "    spectrum = fft_norec(x)"
   ]
  },
  {
   "cell_type": "code",
   "execution_count": null,
   "metadata": {
    "id": "2ldPDOoE4HnB"
   },
   "outputs": [],
   "source": [
    "%time test_fft_norec(512)"
   ]
  },
  {
   "cell_type": "code",
   "execution_count": null,
   "metadata": {
    "id": "PeFjuIba4HnB"
   },
   "outputs": [],
   "source": [
    "ns, ts = run_timing_test(test_fft_norec, start_at=5)\n",
    "plot_timing_test(ns, ts, 'test_fft_norec', exp=2)"
   ]
  },
  {
   "cell_type": "markdown",
   "metadata": {
    "id": "1zgwN9Yp4HnB"
   },
   "source": [
    "**Exercise:**  Starting with `fft_norec`, write a function called `fft_rec` that's fully recursive; that is, instead of using `dft` to compute the DFTs of the halves, it should use `fft_rec`.\n",
    "\n",
    "You will need a base case to avoid an infinite recursion.  You have two options:\n",
    "\n",
    "1) The DFT of an array with length 1 is the array itself.\n",
    "\n",
    "2) If the parameter, `x`, is smaller than some threshold length, you could use DFT.\n",
    "\n",
    "Use `test_fft_rec`, below, to check the performance of your function."
   ]
  },
  {
   "cell_type": "code",
   "execution_count": null,
   "metadata": {
    "id": "YwNkRlpj4HnB"
   },
   "outputs": [],
   "source": []
  },
  {
   "cell_type": "code",
   "execution_count": null,
   "metadata": {
    "id": "TihvE69g4HnB"
   },
   "outputs": [],
   "source": [
    "fft_rec(x)"
   ]
  },
  {
   "cell_type": "code",
   "execution_count": null,
   "metadata": {
    "id": "iTWMG9Fo4HnB"
   },
   "outputs": [],
   "source": [
    "def test_fft_rec(N):\n",
    "    x = np.random.normal(size=N)\n",
    "    spectrum = fft_rec(x)"
   ]
  },
  {
   "cell_type": "code",
   "execution_count": null,
   "metadata": {
    "id": "_UdBeUMI4HnB"
   },
   "outputs": [],
   "source": [
    "%time test_fft_rec(512)"
   ]
  },
  {
   "cell_type": "code",
   "execution_count": null,
   "metadata": {
    "id": "ZxD6lveu4HnB"
   },
   "outputs": [],
   "source": [
    "ns, ts = run_timing_test(test_fft_rec)\n",
    "plot_timing_test(ns, ts, 'test_fft_rec', exp=1)"
   ]
  },
  {
   "cell_type": "markdown",
   "metadata": {
    "id": "BPR5IQPh4HnB"
   },
   "source": [
    "If things go according to plan, your FFT implementation should be faster than `dft` and `fft_norec`, and over a range of problem sizes, it might be indistinguishable from linear."
   ]
  }
 ],
 "metadata": {
  "anaconda-cloud": {},
  "celltoolbar": "Tags",
  "colab": {
   "provenance": []
  },
  "kernelspec": {
   "display_name": "Python 3 (ipykernel)",
   "language": "python",
   "name": "python3"
  },
  "language_info": {
   "codemirror_mode": {
    "name": "ipython",
    "version": 3
   },
   "file_extension": ".py",
   "mimetype": "text/x-python",
   "name": "python",
   "nbconvert_exporter": "python",
   "pygments_lexer": "ipython3",
   "version": "3.11.5"
  }
 },
 "nbformat": 4,
 "nbformat_minor": 1
}
