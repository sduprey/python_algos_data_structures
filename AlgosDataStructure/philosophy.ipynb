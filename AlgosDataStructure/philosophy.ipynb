{
 "cells": [
  {
   "cell_type": "markdown",
   "id": "feaedff8",
   "metadata": {
    "id": "feaedff8"
   },
   "source": [
    "# Getting to Philosophy"
   ]
  },
  {
   "cell_type": "markdown",
   "id": "f6a4a79b",
   "metadata": {
    "id": "f6a4a79b"
   },
   "source": [
    "# Getting to Philosophy\n",
    "\n",
    "The goal of this notebook is to develop a Web crawler that tests the\n",
    "\"Getting to Philosophy\" conjecture. As explained on [this Wikipedia page](https://en.wikipedia.org/wiki/Wikipedia:Getting_to_Philosophy):\n",
    "\n",
    "> Clicking on the first link in the main text of an English Wikipedia article, and then repeating the process for subsequent articles, usually leads to the Philosophy article. In February 2016, this was true for 97% of all articles in Wikipedia...\n",
    "\n",
    "More specifically, the link can't be in parentheses or italics, and it can't be an external link, a link to the current page, or a link to a non-existent page.\n",
    "\n",
    "We'll use the `urllib` library to download Wikipedia pages and BeautifulSoup to parse HTML text and navigate the Document Object Model (DOM)."
   ]
  },
  {
   "cell_type": "markdown",
   "id": "e075e092",
   "metadata": {
    "id": "e075e092"
   },
   "source": [
    "Before we start working with Wikipedia pages, let's warm up with a minimal HTML document, which I've adapted from the BeautifulSoup documentation."
   ]
  },
  {
   "cell_type": "code",
   "execution_count": null,
   "id": "d55b02f9",
   "metadata": {
    "id": "d55b02f9"
   },
   "outputs": [],
   "source": [
    "html_doc = \"\"\"\n",
    "<html><head><title>The Dormouse's story</title></head>\n",
    "<body>\n",
    "<p class=\"title\"><b>The Dormouse's story</b></p>\n",
    "\n",
    "<p class=\"story\">Once upon a time there were three little sisters; and their names were\n",
    "(<a href=\"http://example.com/elsie\" class=\"sister\" id=\"link1\">Elsie</a>),\n",
    "<i><a href=\"http://example.com/lacie\" class=\"sister\" id=\"link2\">Lacie</a> and</i>\n",
    "<a href=\"http://example.com/tillie\" class=\"sister\" id=\"link3\">Tillie</a>;\n",
    "and they lived at the bottom of a well.</p>\n",
    "\n",
    "<p class=\"story\">...</p>\n",
    "\"\"\""
   ]
  },
  {
   "cell_type": "markdown",
   "id": "edf78b69",
   "metadata": {
    "id": "edf78b69"
   },
   "source": [
    "This document contains three links, but the first one is in parentheses and the second is in italics, so the third is the link we would follow to get to philosophy.\n",
    "\n",
    "Here's how we parse this document and make a `BeautifulSoup` object."
   ]
  },
  {
   "cell_type": "code",
   "execution_count": null,
   "id": "18daf934",
   "metadata": {
    "id": "18daf934"
   },
   "outputs": [],
   "source": [
    "from bs4 import BeautifulSoup\n",
    "\n",
    "soup = BeautifulSoup(html_doc)\n",
    "type(soup)"
   ]
  },
  {
   "cell_type": "markdown",
   "id": "1c74c8fa",
   "metadata": {
    "id": "1c74c8fa"
   },
   "source": [
    "To iterate through the elements in the DOM, we can write our own implementation of depth first search, like this:"
   ]
  },
  {
   "cell_type": "code",
   "execution_count": null,
   "id": "65f13165",
   "metadata": {
    "id": "65f13165"
   },
   "outputs": [],
   "source": [
    "def iterative_DFS(root):\n",
    "    stack = [root]\n",
    "\n",
    "    while(stack):\n",
    "        element = stack.pop()\n",
    "        yield element\n",
    "\n",
    "        children = getattr(element, \"contents\", [])\n",
    "        stack.extend(reversed(children))"
   ]
  },
  {
   "cell_type": "markdown",
   "id": "48850017",
   "metadata": {
    "id": "48850017"
   },
   "source": [
    "For example, we can iterate through the elements and print all `NavigableString` elements:"
   ]
  },
  {
   "cell_type": "code",
   "execution_count": null,
   "id": "53eafee6",
   "metadata": {
    "id": "53eafee6"
   },
   "outputs": [],
   "source": [
    "from bs4 import NavigableString\n",
    "\n",
    "for element in iterative_DFS(soup):\n",
    "    if isinstance(element, NavigableString):\n",
    "        print(element.string, end='')"
   ]
  },
  {
   "cell_type": "markdown",
   "id": "20b7800a",
   "metadata": {
    "id": "20b7800a"
   },
   "source": [
    "But we can also use `descendants`, which does the same thing."
   ]
  },
  {
   "cell_type": "code",
   "execution_count": null,
   "id": "625f449d",
   "metadata": {
    "id": "625f449d"
   },
   "outputs": [],
   "source": [
    "for element in soup.descendants:\n",
    "    if isinstance(element, NavigableString):\n",
    "        print(element.string, end='')"
   ]
  },
  {
   "cell_type": "markdown",
   "id": "24608925",
   "metadata": {
    "id": "24608925"
   },
   "source": [
    "## Checking for Parentheses\n",
    "\n",
    "One theory of software development suggests you should tackle the hardest problem first, because it will drive the design. Then you can figure out how to handle the easier problems.\n",
    "\n",
    "For \"Getting to Philosophy\", one of the harder problems is to figure out whether a link is in parentheses.\n",
    "If you have a link, you could work your way outward looking for enclosing parentheses, but in a tree, that could get complicated.\n",
    "\n",
    "The alternative I chose is to iterate through the text in order, counting open and close parentheses, and yield links only if they are not enclosed."
   ]
  },
  {
   "cell_type": "code",
   "execution_count": null,
   "id": "aa828190",
   "metadata": {
    "id": "aa828190",
    "tags": []
   },
   "outputs": [],
   "source": [
    "from bs4 import Tag\n",
    "\n",
    "def link_generator(root):\n",
    "    paren_stack = []\n",
    "\n",
    "    for element in root.descendants:\n",
    "        if isinstance(element, NavigableString):\n",
    "            for char in element.string:\n",
    "                if char == '(':\n",
    "                    paren_stack.append(char)\n",
    "                if char == ')':\n",
    "                    paren_stack.pop()\n",
    "\n",
    "        if isinstance(element, Tag) and element.name == \"a\":\n",
    "            if len(paren_stack) == 0:\n",
    "                yield element"
   ]
  },
  {
   "cell_type": "markdown",
   "id": "52b32aff",
   "metadata": {
    "id": "52b32aff"
   },
   "source": [
    "Now we can iterate through the links that are not in parentheses."
   ]
  },
  {
   "cell_type": "code",
   "execution_count": null,
   "id": "d78b1c21",
   "metadata": {
    "id": "d78b1c21",
    "tags": []
   },
   "outputs": [],
   "source": [
    "for link in link_generator(soup):\n",
    "    print(link)"
   ]
  },
  {
   "cell_type": "markdown",
   "id": "1054af68",
   "metadata": {
    "id": "1054af68"
   },
   "source": [
    "## Checking for Italics\n",
    "\n",
    "To see whether a link is in italics, we can:\n",
    "\n",
    "1) If its parent is a `Tag` with name `a`, it's in italics.\n",
    "\n",
    "2) Otherwise we have to check the parent of the parent, and so on.\n",
    "\n",
    "3) If we get to the root without finding an italics tag, it's not in italics."
   ]
  },
  {
   "cell_type": "markdown",
   "id": "4db33e84",
   "metadata": {
    "id": "4db33e84"
   },
   "source": [
    "For example, here's the first link from `link_generator`."
   ]
  },
  {
   "cell_type": "code",
   "execution_count": null,
   "id": "d35a16e5",
   "metadata": {
    "id": "d35a16e5"
   },
   "outputs": [],
   "source": [
    "link = next(link_generator(soup))\n",
    "link"
   ]
  },
  {
   "cell_type": "markdown",
   "id": "6bb6ee09",
   "metadata": {
    "id": "6bb6ee09"
   },
   "source": [
    "Its parent is an italics tag."
   ]
  },
  {
   "cell_type": "code",
   "execution_count": null,
   "id": "600997fb",
   "metadata": {
    "id": "600997fb"
   },
   "outputs": [],
   "source": [
    "parent = link.parent\n",
    "isinstance(parent, Tag)"
   ]
  },
  {
   "cell_type": "code",
   "execution_count": null,
   "id": "f6875673",
   "metadata": {
    "id": "f6875673"
   },
   "outputs": [],
   "source": [
    "parent.name"
   ]
  },
  {
   "cell_type": "markdown",
   "id": "fd523372",
   "metadata": {
    "id": "fd523372"
   },
   "source": [
    "**Exercise:** Write a function called `in_italics` that takes an element and returns `True` if it is in italics."
   ]
  },
  {
   "cell_type": "code",
   "execution_count": null,
   "id": "af48fbbe",
   "metadata": {
    "id": "af48fbbe"
   },
   "outputs": [],
   "source": []
  },
  {
   "cell_type": "code",
   "execution_count": null,
   "id": "93f8f3c5",
   "metadata": {
    "id": "93f8f3c5"
   },
   "outputs": [],
   "source": []
  },
  {
   "cell_type": "markdown",
   "id": "212f4c4c",
   "metadata": {
    "id": "212f4c4c"
   },
   "source": [
    "Then write a more general function called `in_bad_element` that takes an element and returns `True` if:\n",
    "\n",
    "* The element or one of its ancestors has a \"bad\" tag name, like `i`, or\n",
    "\n",
    "* The element or one of its ancestors is a `div` whose `class` attribute contains a \"bad\" class name.\n",
    "\n",
    "We will need the general version of this function to exclude invalid links on Wikipedia pages."
   ]
  },
  {
   "cell_type": "code",
   "execution_count": null,
   "id": "19c4e346",
   "metadata": {
    "id": "19c4e346"
   },
   "outputs": [],
   "source": []
  },
  {
   "cell_type": "markdown",
   "id": "a049eea0",
   "metadata": {
    "id": "a049eea0"
   },
   "source": [
    "## Working with Wikipedia Pages\n",
    "\n",
    "Actual Wikipedia pages are more complicated that the simple example, so it will take some effort to understand their structure and make sure we select the right \"first link\".\n",
    "\n",
    "The following cell downloads the Wikipedia page on Python."
   ]
  },
  {
   "cell_type": "code",
   "execution_count": null,
   "id": "fdb4f5e6",
   "metadata": {
    "id": "fdb4f5e6"
   },
   "outputs": [],
   "source": [
    "from os.path import basename, exists\n",
    "\n",
    "def download(url):\n",
    "    filename = basename(url)\n",
    "    if not exists(filename):\n",
    "        from urllib.request import urlretrieve\n",
    "        local, _ = urlretrieve(url, filename)\n",
    "        print('Downloaded ' + local)"
   ]
  },
  {
   "cell_type": "code",
   "execution_count": null,
   "id": "95309299",
   "metadata": {
    "id": "95309299"
   },
   "outputs": [],
   "source": [
    "url = \"https://en.wikipedia.org/wiki/Python_(programming_language)\"\n",
    "download(url)"
   ]
  },
  {
   "cell_type": "markdown",
   "id": "330f5df2",
   "metadata": {
    "id": "330f5df2"
   },
   "source": [
    "Now we can parse it and make `soup`."
   ]
  },
  {
   "cell_type": "code",
   "execution_count": null,
   "id": "10bb4b22",
   "metadata": {
    "id": "10bb4b22"
   },
   "outputs": [],
   "source": [
    "filename = basename(url)\n",
    "fp = open(filename)\n",
    "soup2 = BeautifulSoup(fp)"
   ]
  },
  {
   "cell_type": "markdown",
   "id": "3ec384e4",
   "metadata": {
    "id": "3ec384e4"
   },
   "source": [
    "If you use a web browser to view this page, and use the Inspect Element tool to explore the structure, you'll see that the body of the article is in a `div` element with the class name `mw-body-content`.\n",
    "\n",
    "We can use `find` to get this element, and we'll use it as the root for our searches."
   ]
  },
  {
   "cell_type": "code",
   "execution_count": null,
   "id": "31215d3b",
   "metadata": {
    "id": "31215d3b",
    "tags": []
   },
   "outputs": [],
   "source": [
    "root = soup2.find(class_='mw-body-content')"
   ]
  },
  {
   "cell_type": "markdown",
   "id": "3227b5a6",
   "metadata": {
    "id": "3227b5a6"
   },
   "source": [
    "**Exercise:** Write a generator function called `valid_link_generator` that uses `link_generator` to find links that are not in parentheses; then it should filter out links that are not valid, including links that are in italics, links to external pages, etc.\n",
    "\n",
    "Test your function with a few different pages until it reliably finds the \"first link\" that seems most consistent with the spirit of the rules."
   ]
  },
  {
   "cell_type": "code",
   "execution_count": null,
   "id": "2c2e4729",
   "metadata": {
    "id": "2c2e4729"
   },
   "outputs": [],
   "source": []
  },
  {
   "cell_type": "code",
   "execution_count": null,
   "id": "f9fd3f47",
   "metadata": {
    "id": "f9fd3f47"
   },
   "outputs": [],
   "source": []
  },
  {
   "cell_type": "markdown",
   "id": "b14f73b3",
   "metadata": {
    "id": "b14f73b3"
   },
   "source": [
    "## `WikiFetcher`\n",
    "\n",
    "When you write a Web crawler, it is easy to download too many pages too\n",
    "fast, which might violate the terms of service for the server you are\n",
    "downloading from. To avoid that, we'll use an object called\n",
    "`WikiFetcher` that does two things:\n",
    "\n",
    "1.  It encapsulates the code for downloading and parsing web pages.\n",
    "\n",
    "2.  It measures the time between requests and, if we don't leave enough\n",
    "    time between requests, it sleeps until a reasonable interval has\n",
    "    elapsed. By default, the interval is one second.\n",
    "\n",
    "Here's the definition of `WikiFetcher`:"
   ]
  },
  {
   "cell_type": "code",
   "execution_count": null,
   "id": "1e6c5654",
   "metadata": {
    "id": "1e6c5654"
   },
   "outputs": [],
   "source": [
    "from urllib.request import urlopen\n",
    "from bs4 import BeautifulSoup\n",
    "from time import time, sleep\n",
    "\n",
    "class WikiFetcher:\n",
    "    next_request_time = None\n",
    "    min_interval = 1  # second\n",
    "\n",
    "    def fetch_wikipedia(self, url):\n",
    "        self.sleep_if_needed()\n",
    "        fp = urlopen(url)\n",
    "        soup = BeautifulSoup(fp, 'html.parser')\n",
    "        return soup\n",
    "\n",
    "    def sleep_if_needed(self):\n",
    "        if self.next_request_time:\n",
    "            sleep_time = self.next_request_time - time()\n",
    "            if sleep_time > 0:\n",
    "                sleep(sleep_time)\n",
    "\n",
    "        self.next_request_time = time() + self.min_interval"
   ]
  },
  {
   "cell_type": "markdown",
   "id": "252b6528",
   "metadata": {
    "id": "252b6528"
   },
   "source": [
    "`fetch_wikipedia` takes a URL as a\n",
    "`String` and returns a BeautifulSoup object that represents the contents of the page.\n",
    "\n",
    "`sleep_if_needed` checks the time since the last\n",
    "request and sleeps if the elapsed time is less than `min_interval`.\n",
    "\n",
    "Here's an example that demonstrates how it's used:"
   ]
  },
  {
   "cell_type": "code",
   "execution_count": null,
   "id": "f97c92ea",
   "metadata": {
    "id": "f97c92ea"
   },
   "outputs": [],
   "source": [
    "wf = WikiFetcher()\n",
    "url = \"https://en.wikipedia.org/wiki/Python_(programming_language)\"\n",
    "\n",
    "print(time())\n",
    "wf.fetch_wikipedia(url)\n",
    "print(time())\n",
    "wf.fetch_wikipedia(url)\n",
    "print(time())"
   ]
  },
  {
   "cell_type": "markdown",
   "id": "5335b9a6",
   "metadata": {
    "id": "5335b9a6"
   },
   "source": [
    "If things have gone according to plan, the three timestamps should be no less than 1 second apart, which is consistent with the terms in Wikipedia's [robots.txt](https://en.wikipedia.org/robots.txt):\n",
    "\n",
    "> Friendly, low-speed bots are welcome viewing article pages, but not\n",
    "dynamically-generated pages please."
   ]
  },
  {
   "cell_type": "markdown",
   "id": "66332ab6",
   "metadata": {
    "id": "66332ab6"
   },
   "source": [
    "**Exercise:** Now let's pull it all together. Write a function called `get_to_philosophy` that takes as a parameter the URL of a Wikipedia page. It should:\n",
    "\n",
    "1.  Use the `WikiFetcher` object we just created to download and parse the page.\n",
    "\n",
    "2.  Traverse the resulting `BeautifulSoup` object to find the first valid link according to the spirit of the rules.\n",
    "\n",
    "3.  If the page has no links, or if the first link is a page we have already seen, the program should indicate failure and exit.\n",
    "\n",
    "4.  If the link matches the URL of the Wikipedia page on philosophy, the program should indicate success and exit.\n",
    "\n",
    "5.  Otherwise it should go back to Step 1 (although you might want to put a limit on the number of hops).\n",
    "\n",
    "The program should build a list of the URLs it visits and display the\n",
    "results at the end (whether it succeeds or fails).\n",
    "\n",
    "Since the links you find are relative, you might find the `urljoin` function helpful:"
   ]
  },
  {
   "cell_type": "code",
   "execution_count": null,
   "id": "ab913376",
   "metadata": {
    "id": "ab913376"
   },
   "outputs": [],
   "source": [
    "from urllib.parse import urljoin\n",
    "\n",
    "url = \"https://en.wikipedia.org/wiki/Python_(programming_language)\"\n",
    "relative_path = \"/wiki/Interpreted_language\"\n",
    "\n",
    "urljoin(url, relative_path)"
   ]
  },
  {
   "cell_type": "code",
   "execution_count": null,
   "id": "39848591",
   "metadata": {
    "id": "39848591"
   },
   "outputs": [],
   "source": []
  },
  {
   "cell_type": "code",
   "execution_count": null,
   "id": "147b670c",
   "metadata": {
    "id": "147b670c"
   },
   "outputs": [],
   "source": [
    "get_to_philosophy(url)"
   ]
  }
 ],
 "metadata": {
  "celltoolbar": "Tags",
  "colab": {
   "provenance": []
  },
  "kernelspec": {
   "display_name": "Python 3 (ipykernel)",
   "language": "python",
   "name": "python3"
  },
  "language_info": {
   "codemirror_mode": {
    "name": "ipython",
    "version": 3
   },
   "file_extension": ".py",
   "mimetype": "text/x-python",
   "name": "python",
   "nbconvert_exporter": "python",
   "pygments_lexer": "ipython3",
   "version": "3.11.5"
  }
 },
 "nbformat": 4,
 "nbformat_minor": 5
}
