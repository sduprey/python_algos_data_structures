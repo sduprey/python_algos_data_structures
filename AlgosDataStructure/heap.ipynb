{
 "cells": [
  {
   "cell_type": "markdown",
   "metadata": {
    "id": "Xk0Axk3r3JUi"
   },
   "source": [
    "# Priority Queues and Heaps"
   ]
  },
  {
   "cell_type": "markdown",
   "metadata": {
    "id": "hufLQ8aA3JUk"
   },
   "source": [
    "## The `heapq` module\n",
    "\n",
    "The `heapq` module provides functions for adding and removing elements to and from a heap.\n",
    "\n"
   ]
  },
  {
   "cell_type": "code",
   "execution_count": null,
   "metadata": {
    "id": "G7mbitto3JUk"
   },
   "outputs": [],
   "source": [
    "from heapq import heappush, heappop"
   ]
  },
  {
   "cell_type": "markdown",
   "metadata": {
    "id": "ZZ2p0zbj3JUl"
   },
   "source": [
    "The heap itself is literally a list, so if you create an empty list, you can think of it as a heap with no elements."
   ]
  },
  {
   "cell_type": "code",
   "execution_count": null,
   "metadata": {
    "id": "Y4rcdm483JUl"
   },
   "outputs": [],
   "source": [
    "heap = []"
   ]
  },
  {
   "cell_type": "markdown",
   "metadata": {
    "id": "u44NgtPB3JUl"
   },
   "source": [
    "Then you can use `heappush` to add one element at a time."
   ]
  },
  {
   "cell_type": "code",
   "execution_count": null,
   "metadata": {
    "id": "bYAaKW5e3JUl"
   },
   "outputs": [],
   "source": [
    "data = [4, 9, 3, 7, 5, 1, 6, 8, 2]\n",
    "\n",
    "for x in data:\n",
    "    heappush(heap, x)\n",
    "\n",
    "heap"
   ]
  },
  {
   "cell_type": "markdown",
   "metadata": {
    "id": "F4r2NwST3JUm"
   },
   "source": [
    "The result is a list that represents a tree.\n",
    "Here's how the correspondence works between the list representation and the tree representation:\n",
    "\n",
    "* The first element (index 0) is the root.\n",
    "\n",
    "* The next two elements are the children of the root.\n",
    "\n",
    "* The next four element are the grandchildren of the root.\n",
    "\n",
    "And so on."
   ]
  },
  {
   "cell_type": "markdown",
   "metadata": {
    "id": "HdGqO0XW3JUm"
   },
   "source": [
    "In general, if the index of an element is `i`, its parent is `(i-1)//2` and its children are `2*i + 1` and `2*i + 2`."
   ]
  },
  {
   "cell_type": "markdown",
   "metadata": {
    "id": "18Mdtd_Z3JUm"
   },
   "source": [
    "## Drawing the Tree\n",
    "\n",
    "To generate the tree representation of the heap, the following function iterates through the heap and makes a NetworkX graph with an edge between each node and its parent."
   ]
  },
  {
   "cell_type": "code",
   "execution_count": null,
   "metadata": {
    "id": "MAfRnU_f3JUm"
   },
   "outputs": [],
   "source": [
    "import networkx as nx\n",
    "\n",
    "def make_dag(heap):\n",
    "    \"\"\"Make a NetworkX graph that represents the heap.\"\"\"\n",
    "    G = nx.DiGraph()\n",
    "\n",
    "    for i in range(1, len(heap)):\n",
    "        parent = (i-1)//2\n",
    "        G.add_edge(parent, i)\n",
    "\n",
    "    return G"
   ]
  },
  {
   "cell_type": "code",
   "execution_count": null,
   "metadata": {
    "id": "Y0CELnWa3JUm"
   },
   "outputs": [],
   "source": [
    "G = make_dag(heap)"
   ]
  },
  {
   "cell_type": "markdown",
   "metadata": {
    "id": "L4IauDD53JUm"
   },
   "source": [
    "To draw the tree, we'll use a module called `EoN` that provides a function called [hierarchy_pos](https://epidemicsonnetworks.readthedocs.io/en/latest/functions/EoN.hierarchy_pos.html#EoN.hierarchy_pos).\n",
    "\n",
    "It takes as a parameter a NetworkX graph that represents a tree, and it returns a dictionary that maps from each node to a position in the Cartesian plane.\n",
    "If we pass this dictionary to `nx.draw`, it lays the tree out accordingly."
   ]
  },
  {
   "cell_type": "code",
   "execution_count": null,
   "metadata": {
    "id": "rRIo7yQf3JUm"
   },
   "outputs": [],
   "source": [
    "try:\n",
    "    import EoN\n",
    "except ImportError:\n",
    "    !pip install EoN"
   ]
  },
  {
   "cell_type": "code",
   "execution_count": null,
   "metadata": {
    "id": "C35xmcRc3JUm"
   },
   "outputs": [],
   "source": [
    "from EoN import hierarchy_pos\n",
    "\n",
    "def draw_heap(heap):\n",
    "    G = make_dag(heap)\n",
    "    pos = hierarchy_pos(G)\n",
    "    labels = dict(enumerate(heap))\n",
    "    nx.draw(G, pos, labels=labels, alpha=0.4)"
   ]
  },
  {
   "cell_type": "markdown",
   "metadata": {
    "id": "GK07l4kx3JUm"
   },
   "source": [
    "Here's what the tree representation looks like."
   ]
  },
  {
   "cell_type": "code",
   "execution_count": null,
   "metadata": {
    "id": "fhQ4TSdh3JUm"
   },
   "outputs": [],
   "source": [
    "print(heap)\n",
    "draw_heap(heap)"
   ]
  },
  {
   "cell_type": "markdown",
   "metadata": {
    "id": "r-e_Rrvj3JUn"
   },
   "source": [
    "## The Heap Property\n",
    "\n",
    "If the list is a heap, the tree should have the heap property:\n",
    "\n",
    "> Every parent is less than or equal to its children.\n",
    "\n",
    "Or more formally:\n",
    "\n",
    "> For all pairs of nodes P and C, where P is the parent of C, the value of P must be less than or equal to the value of C.\n",
    "\n",
    "The following function checks whether this property is true for all nodes."
   ]
  },
  {
   "cell_type": "code",
   "execution_count": null,
   "metadata": {
    "id": "6ohRpGun3JUn"
   },
   "outputs": [],
   "source": [
    "def is_heap(heap):\n",
    "    \"\"\"Check if a sequence has the heap property.\n",
    "\n",
    "    Every child should be >= its parent.\n",
    "    \"\"\"\n",
    "    for i in range(1, len(heap)):\n",
    "        parent = (i-1) // 2\n",
    "        if heap[parent] > heap[i]:\n",
    "            return False\n",
    "    return True"
   ]
  },
  {
   "cell_type": "markdown",
   "metadata": {
    "id": "FhJkgbRC3JUn"
   },
   "source": [
    "As we might hope, `heap` is a heap."
   ]
  },
  {
   "cell_type": "code",
   "execution_count": null,
   "metadata": {
    "id": "Qw7WvTNl3JUn"
   },
   "outputs": [],
   "source": [
    "is_heap(heap)"
   ]
  },
  {
   "cell_type": "markdown",
   "metadata": {
    "id": "l2SOFio53JUn"
   },
   "source": [
    "Here's a list of integers in no particular order, and as you might expect, it does not have the heap property."
   ]
  },
  {
   "cell_type": "code",
   "execution_count": null,
   "metadata": {
    "id": "Y0COw9tM3JUn"
   },
   "outputs": [],
   "source": [
    "data = [4, 9, 3, 7, 5, 1, 6, 8, 2]\n",
    "is_heap(data)"
   ]
  },
  {
   "cell_type": "markdown",
   "metadata": {
    "id": "3ANDTgGt3JUn"
   },
   "source": [
    "## Using a Heap to Sort\n",
    "\n",
    "Given a heap, we can implement a sort algorithm called [heapsort](https://en.wikipedia.org/wiki/Heapsort).\n",
    "\n",
    "Let's start again with a fresh heap:"
   ]
  },
  {
   "cell_type": "code",
   "execution_count": null,
   "metadata": {
    "id": "_---IrlD3JUn"
   },
   "outputs": [],
   "source": [
    "heap = []\n",
    "for x in data:\n",
    "    heappush(heap, x)"
   ]
  },
  {
   "cell_type": "markdown",
   "metadata": {
    "id": "2IT9e7Zb3JUn"
   },
   "source": [
    "If we know that a list is a heap, we can use `heappop` to find and remove the smallest element."
   ]
  },
  {
   "cell_type": "code",
   "execution_count": null,
   "metadata": {
    "id": "xq6LZRyo3JUn"
   },
   "outputs": [],
   "source": [
    "heappop(heap)"
   ]
  },
  {
   "cell_type": "markdown",
   "metadata": {
    "id": "glz4wstp3JUn"
   },
   "source": [
    "`heappop` rearranges the remaining elements of the list to restore the heap property (we'll see how soon)."
   ]
  },
  {
   "cell_type": "code",
   "execution_count": null,
   "metadata": {
    "id": "ppHCl-p33JUn"
   },
   "outputs": [],
   "source": [
    "heap"
   ]
  },
  {
   "cell_type": "code",
   "execution_count": null,
   "metadata": {
    "id": "mkRkdDWY3JUn"
   },
   "outputs": [],
   "source": [
    "is_heap(heap)"
   ]
  },
  {
   "cell_type": "markdown",
   "metadata": {
    "id": "gMBvgG1K3JUn"
   },
   "source": [
    "And that means we can use `heappop` again to get the second smallest element (of the original heap):"
   ]
  },
  {
   "cell_type": "code",
   "execution_count": null,
   "metadata": {
    "id": "yrc4EBMi3JUn"
   },
   "outputs": [],
   "source": [
    "heappop(heap)"
   ]
  },
  {
   "cell_type": "markdown",
   "metadata": {
    "id": "gfOa0EXU3JUn"
   },
   "source": [
    "Which means we can use a heap to sort a list."
   ]
  },
  {
   "cell_type": "markdown",
   "metadata": {
    "id": "NU50SR7B3JUn"
   },
   "source": [
    "**Exercise:** Write a generator function called `heapsort` that takes an iterable and yields the elements of the iterable in increasing order."
   ]
  },
  {
   "cell_type": "code",
   "execution_count": null,
   "metadata": {
    "id": "R-BSBese3JUn"
   },
   "outputs": [],
   "source": []
  },
  {
   "cell_type": "code",
   "execution_count": null,
   "metadata": {
    "id": "UtlGCqfm3JUn"
   },
   "outputs": [],
   "source": []
  },
  {
   "cell_type": "code",
   "execution_count": null,
   "metadata": {
    "id": "6Ju-HFKc3JUn"
   },
   "outputs": [],
   "source": []
  },
  {
   "cell_type": "code",
   "execution_count": null,
   "metadata": {
    "id": "yGRyGP2R3JUo"
   },
   "outputs": [],
   "source": []
  },
  {
   "cell_type": "markdown",
   "metadata": {
    "id": "RmFx4hiF3JUr"
   },
   "source": [
    "Now let's see how a heap is implemented.\n",
    "The two key methods are `push` and `pop`."
   ]
  },
  {
   "cell_type": "markdown",
   "metadata": {
    "id": "Ynqs8spJ3JUr"
   },
   "source": [
    "## Push\n",
    "\n",
    "To insert an element in a heap, you start by appending it to the list.\n",
    "\n",
    "The result is generally not a heap, so you have to do some work to restore the heap property:\n",
    "\n",
    "* If the new element is greater than or equal to its parent, you are done.\n",
    "\n",
    "* Otherwise swap the new element with its parent.\n",
    "\n",
    "* If the new element is greater than or equal to the parent's parent, you are done.\n",
    "\n",
    "* Otherwise swap the new element with its parent's parent.\n",
    "\n",
    "* And repeat, working your way up the tree, until you're done or you reach the root."
   ]
  },
  {
   "cell_type": "markdown",
   "metadata": {
    "id": "cfdy3yNp3JUr"
   },
   "source": [
    "This process is called \"sift-up\" or sometimes [swim](https://en.wikipedia.org/wiki/Heap_(data_structure)#Implementation)."
   ]
  },
  {
   "cell_type": "markdown",
   "metadata": {
    "id": "HqSyzAdx3JUr"
   },
   "source": [
    "**Exercise:** Write a function called `push` that does the same thing as `heappush`: it should take as parameters a list (which should be a heap) and a new element; it should add the new element to the list and restore the heap property."
   ]
  },
  {
   "cell_type": "code",
   "execution_count": null,
   "metadata": {
    "id": "4OWPaje23JUr"
   },
   "outputs": [],
   "source": []
  },
  {
   "cell_type": "markdown",
   "metadata": {
    "id": "CoUztCII3JUr"
   },
   "source": [
    "You can use this example to test your code:"
   ]
  },
  {
   "cell_type": "code",
   "execution_count": null,
   "metadata": {
    "id": "5GQ6XIJu3JUr"
   },
   "outputs": [],
   "source": [
    "heap = []\n",
    "for x in data:\n",
    "    push(heap, x)\n",
    "    assert is_heap(heap)\n",
    "\n",
    "heap"
   ]
  },
  {
   "cell_type": "code",
   "execution_count": null,
   "metadata": {
    "id": "QQauNatR3JUr"
   },
   "outputs": [],
   "source": [
    "is_heap(heap)"
   ]
  },
  {
   "cell_type": "markdown",
   "metadata": {
    "id": "hqAWWuE13JUr"
   },
   "source": [
    "## Pop\n",
    "\n",
    "To remove an element from the heap, you:\n",
    "\n",
    "* Make a copy of the root element,\n",
    "\n",
    "* Pop the *last* element off the list and store it at the root.\n",
    "\n",
    "* Then you have to restore the heap property. If the new root is less than or equal to both of its children, you are done.\n",
    "\n",
    "* Otherwise, swap the parent with the smaller of its children.\n",
    "\n",
    "* Then repeat the process with the child you just replaced, and continue until you get to a leaf node.\n",
    "\n",
    "This process is called a \"sift-down\" or sometimes \"sink\"."
   ]
  },
  {
   "cell_type": "markdown",
   "metadata": {
    "id": "DHYgr8fl3JUr"
   },
   "source": [
    "**Exercise:** Write a function called `pop` that does the same thing as `heappop`: it should remove the smallest element, restore the heap property, and return the smallest element.\n",
    "\n",
    "Hint: This one is tricky because you have to deal with several special cases."
   ]
  },
  {
   "cell_type": "code",
   "execution_count": null,
   "metadata": {
    "id": "iM97amuJ3JUr"
   },
   "outputs": [],
   "source": []
  },
  {
   "cell_type": "code",
   "execution_count": null,
   "metadata": {
    "id": "Ef2pzixp3JUs"
   },
   "outputs": [],
   "source": [
    "heap = []\n",
    "for x in data:\n",
    "    heappush(heap, x)\n",
    "\n",
    "while heap:\n",
    "    print(pop(heap))\n",
    "    assert is_heap(heap)"
   ]
  },
  {
   "cell_type": "code",
   "execution_count": null,
   "metadata": {
    "id": "6ZNhPETl3JUs"
   },
   "outputs": [],
   "source": []
  },
  {
   "cell_type": "code",
   "execution_count": null,
   "metadata": {
    "id": "8NdZYIY43JUs"
   },
   "outputs": [],
   "source": []
  }
 ],
 "metadata": {
  "colab": {
   "provenance": []
  },
  "kernelspec": {
   "display_name": "Python 3 (ipykernel)",
   "language": "python",
   "name": "python3"
  },
  "language_info": {
   "codemirror_mode": {
    "name": "ipython",
    "version": 3
   },
   "file_extension": ".py",
   "mimetype": "text/x-python",
   "name": "python",
   "nbconvert_exporter": "python",
   "pygments_lexer": "ipython3",
   "version": "3.11.5"
  }
 },
 "nbformat": 4,
 "nbformat_minor": 1
}
