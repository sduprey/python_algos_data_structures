{
 "cells": [
  {
   "cell_type": "code",
   "execution_count": 6,
   "id": "390cfa22",
   "metadata": {},
   "outputs": [],
   "source": [
    "import pandas as pd\n",
    "import os\n",
    "import streamlit as st\n",
    "import pickle\n",
    "import time\n",
    "from langchain import OpenAI\n",
    "from langchain.chains import RetrievalQAWithSourcesChain\n",
    "from langchain.text_splitter import RecursiveCharacterTextSplitter\n",
    "from langchain.document_loaders import UnstructuredURLLoader\n",
    "from langchain.embeddings import OpenAIEmbeddings\n",
    "from langchain.vectorstores import FAISS"
   ]
  },
  {
   "cell_type": "code",
   "execution_count": 7,
   "id": "5cf060dd",
   "metadata": {},
   "outputs": [],
   "source": [
    "risk_report_df = pd.read_excel('../riskReports.xlsx')\n",
    "urls = list(risk_report_df['blog url'])\n",
    "local_root_directory = '/Users/stefanduprey/Documents/My_Data/My_RiskBotData/'\n"
   ]
  },
  {
   "cell_type": "code",
   "execution_count": 9,
   "id": "7da7c7ca",
   "metadata": {},
   "outputs": [
    {
     "name": "stderr",
     "output_type": "stream",
     "text": [
      "/Users/stefanduprey/opt/miniconda3/lib/python3.9/site-packages/scipy/__init__.py:146: UserWarning: A NumPy version >=1.17.3 and <1.25.0 is required for this version of SciPy (detected version 1.26.4\n",
      "  warnings.warn(f\"A NumPy version >={np_minversion} and <{np_maxversion}\"\n"
     ]
    },
    {
     "name": "stdout",
     "output_type": "stream",
     "text": [
      "saving preprocessed URLs\n"
     ]
    }
   ],
   "source": [
    "process_url_clicked = False\n",
    "if process_url_clicked:\n",
    "    loader = UnstructuredURLLoader(urls=urls)\n",
    "    data = loader.load()\n",
    "    # split data\n",
    "    text_splitter = RecursiveCharacterTextSplitter(\n",
    "        separators=['\\n\\n', '\\n', '.', ','],\n",
    "        chunk_size=1000\n",
    "    )\n",
    "    docs = text_splitter.split_documents(data)\n",
    "    print('saving preprocessed URLs')\n",
    "    with open(local_root_directory +'preprocessed_urls.pkl', 'wb') as handle:\n",
    "        pickle.dump(docs, handle)"
   ]
  },
  {
   "cell_type": "code",
   "execution_count": 10,
   "id": "580d6009",
   "metadata": {},
   "outputs": [],
   "source": [
    "with open(local_root_directory +'preprocessed_urls.pkl', 'rb') as handle:\n",
    "    docs=pickle.load(handle)"
   ]
  },
  {
   "cell_type": "code",
   "execution_count": 14,
   "id": "dc2519af",
   "metadata": {},
   "outputs": [
    {
     "name": "stdout",
     "output_type": "stream",
     "text": [
      "1071\n",
      "page_content='Back to blog\\n\\nADA Earn Strategy - Risk Report - Kiln\\n\\nMatteo Bonato\\n\\nSenior Investment Manager\\n\\nStaking via Kiln\\n\\nKey Takeaways\\n\\nStaking represents one of the safest options in DeFi to generate yield.\\n\\nKiln is considered a secure and trustable staking service.\\n\\nThe yield (APY) is derived from staking ADA tokens – contributing to the Proof-of-Stake consensus mechanism of the Cardano blockchain.\\n\\nThe Cardano blockchain has existed since 2017 and, prior to the Merge, was the largest cryptocurrency to use a proof-of-stake consensus mechanism. Cardano was founded by Charles Hoskinson, who was also one of the co-founders of the Ethereum network. He is the CEO of IOHK, the company that built Cardano’s blockchain.\\n\\nADA liquid staking represents a liquidity yield-generating investment. No lockup period is present for this strategy but a 25-day warmup is required before being able to start getting the staking rewards and/or unstake the deposited assets.' metadata={'source': 'https://swissborg.com/blog/ada-earn-strategy-kiln'}\n"
     ]
    }
   ],
   "source": [
    "print(len(docs))\n",
    "print(docs[0])"
   ]
  },
  {
   "cell_type": "code",
   "execution_count": 18,
   "id": "645c49a8",
   "metadata": {},
   "outputs": [],
   "source": [
    "df= pd.DataFrame().from_dict({'text':[doc.page_content for doc in docs], 'source':[doc.metadata['source'] for doc in docs]})\n",
    "df.to_pickle(local_root_directory +'url_df.pkl')"
   ]
  },
  {
   "cell_type": "code",
   "execution_count": 20,
   "id": "3e32db78",
   "metadata": {},
   "outputs": [
    {
     "name": "stdout",
     "output_type": "stream",
     "text": [
      "Collecting sentence_transformers\n",
      "  Downloading sentence_transformers-2.7.0-py3-none-any.whl.metadata (11 kB)\n",
      "Requirement already satisfied: transformers<5.0.0,>=4.34.0 in /Users/stefanduprey/opt/miniconda3/lib/python3.9/site-packages (from sentence_transformers) (4.37.2)\n",
      "Requirement already satisfied: tqdm in /Users/stefanduprey/opt/miniconda3/lib/python3.9/site-packages (from sentence_transformers) (4.64.1)\n",
      "Requirement already satisfied: torch>=1.11.0 in /Users/stefanduprey/opt/miniconda3/lib/python3.9/site-packages (from sentence_transformers) (1.12.1)\n",
      "Requirement already satisfied: numpy in /Users/stefanduprey/opt/miniconda3/lib/python3.9/site-packages (from sentence_transformers) (1.26.4)\n",
      "Requirement already satisfied: scikit-learn in /Users/stefanduprey/opt/miniconda3/lib/python3.9/site-packages (from sentence_transformers) (1.0.2)\n",
      "Requirement already satisfied: scipy in /Users/stefanduprey/opt/miniconda3/lib/python3.9/site-packages (from sentence_transformers) (1.8.0)\n",
      "Requirement already satisfied: huggingface-hub>=0.15.1 in /Users/stefanduprey/opt/miniconda3/lib/python3.9/site-packages (from sentence_transformers) (0.20.3)\n",
      "Requirement already satisfied: Pillow in /Users/stefanduprey/opt/miniconda3/lib/python3.9/site-packages (from sentence_transformers) (9.0.1)\n",
      "Requirement already satisfied: filelock in /Users/stefanduprey/opt/miniconda3/lib/python3.9/site-packages (from huggingface-hub>=0.15.1->sentence_transformers) (3.6.0)\n",
      "Requirement already satisfied: fsspec>=2023.5.0 in /Users/stefanduprey/opt/miniconda3/lib/python3.9/site-packages (from huggingface-hub>=0.15.1->sentence_transformers) (2023.10.0)\n",
      "Requirement already satisfied: requests in /Users/stefanduprey/opt/miniconda3/lib/python3.9/site-packages (from huggingface-hub>=0.15.1->sentence_transformers) (2.31.0)\n",
      "Requirement already satisfied: pyyaml>=5.1 in /Users/stefanduprey/opt/miniconda3/lib/python3.9/site-packages (from huggingface-hub>=0.15.1->sentence_transformers) (6.0)\n",
      "Requirement already satisfied: typing-extensions>=3.7.4.3 in /Users/stefanduprey/opt/miniconda3/lib/python3.9/site-packages (from huggingface-hub>=0.15.1->sentence_transformers) (4.9.0)\n",
      "Requirement already satisfied: packaging>=20.9 in /Users/stefanduprey/opt/miniconda3/lib/python3.9/site-packages (from huggingface-hub>=0.15.1->sentence_transformers) (23.2)\n",
      "Requirement already satisfied: regex!=2019.12.17 in /Users/stefanduprey/opt/miniconda3/lib/python3.9/site-packages (from transformers<5.0.0,>=4.34.0->sentence_transformers) (2023.5.5)\n",
      "Requirement already satisfied: tokenizers<0.19,>=0.14 in /Users/stefanduprey/opt/miniconda3/lib/python3.9/site-packages (from transformers<5.0.0,>=4.34.0->sentence_transformers) (0.15.2)\n",
      "Requirement already satisfied: safetensors>=0.4.1 in /Users/stefanduprey/opt/miniconda3/lib/python3.9/site-packages (from transformers<5.0.0,>=4.34.0->sentence_transformers) (0.4.2)\n",
      "Requirement already satisfied: joblib>=0.11 in /Users/stefanduprey/opt/miniconda3/lib/python3.9/site-packages (from scikit-learn->sentence_transformers) (1.1.0)\n",
      "Requirement already satisfied: threadpoolctl>=2.0.0 in /Users/stefanduprey/opt/miniconda3/lib/python3.9/site-packages (from scikit-learn->sentence_transformers) (3.1.0)\n",
      "Collecting numpy (from sentence_transformers)\n",
      "  Downloading numpy-1.24.4-cp39-cp39-macosx_10_9_x86_64.whl.metadata (5.6 kB)\n",
      "Requirement already satisfied: charset-normalizer<4,>=2 in /Users/stefanduprey/opt/miniconda3/lib/python3.9/site-packages (from requests->huggingface-hub>=0.15.1->sentence_transformers) (2.0.4)\n",
      "Requirement already satisfied: idna<4,>=2.5 in /Users/stefanduprey/opt/miniconda3/lib/python3.9/site-packages (from requests->huggingface-hub>=0.15.1->sentence_transformers) (3.7)\n",
      "Requirement already satisfied: urllib3<3,>=1.21.1 in /Users/stefanduprey/opt/miniconda3/lib/python3.9/site-packages (from requests->huggingface-hub>=0.15.1->sentence_transformers) (2.2.1)\n",
      "Requirement already satisfied: certifi>=2017.4.17 in /Users/stefanduprey/opt/miniconda3/lib/python3.9/site-packages (from requests->huggingface-hub>=0.15.1->sentence_transformers) (2024.2.2)\n",
      "Downloading sentence_transformers-2.7.0-py3-none-any.whl (171 kB)\n",
      "\u001b[2K   \u001b[90m━━━━━━━━━━━━━━━━━━━━━━━━━━━━━━━━━━━━━━━━\u001b[0m \u001b[32m171.5/171.5 kB\u001b[0m \u001b[31m2.7 MB/s\u001b[0m eta \u001b[36m0:00:00\u001b[0ma \u001b[36m0:00:01\u001b[0m\n",
      "\u001b[?25hDownloading numpy-1.24.4-cp39-cp39-macosx_10_9_x86_64.whl (19.8 MB)\n",
      "\u001b[2K   \u001b[90m━━━━━━━━━━━━━━━━━━━━━━━━━━━━━━━━━━━━━━━━\u001b[0m \u001b[32m19.8/19.8 MB\u001b[0m \u001b[31m31.1 MB/s\u001b[0m eta \u001b[36m0:00:00\u001b[0m00:01\u001b[0m00:01\u001b[0m\n",
      "\u001b[?25h\u001b[33mDEPRECATION: dropbox 11.27.0 has a non-standard dependency specifier stone>=2.*. pip 24.1 will enforce this behaviour change. A possible replacement is to upgrade to a newer version of dropbox or contact the author to suggest that they release a version with a conforming dependency specifiers. Discussion can be found at https://github.com/pypa/pip/issues/12063\u001b[0m\u001b[33m\n",
      "\u001b[0mInstalling collected packages: numpy, sentence_transformers\n",
      "  Attempting uninstall: numpy\n",
      "    Found existing installation: numpy 1.26.4\n",
      "    Uninstalling numpy-1.26.4:\n",
      "      Successfully uninstalled numpy-1.26.4\n",
      "\u001b[31mERROR: pip's dependency resolver does not currently take into account all the packages that are installed. This behaviour is the source of the following dependency conflicts.\n",
      "fbprophet 0.7.1 requires cmdstanpy==0.9.5, but you have cmdstanpy 1.2.0 which is incompatible.\n",
      "numba 0.55.1 requires numpy<1.22,>=1.18, but you have numpy 1.24.4 which is incompatible.\u001b[0m\u001b[31m\n",
      "\u001b[0mSuccessfully installed numpy-1.24.4 sentence_transformers-2.7.0\n"
     ]
    }
   ],
   "source": [
    "!pip install sentence_transformers"
   ]
  },
  {
   "cell_type": "code",
   "execution_count": 21,
   "id": "811d2500",
   "metadata": {},
   "outputs": [
    {
     "data": {
      "application/vnd.jupyter.widget-view+json": {
       "model_id": "b7afbeb6cb8344b68f2fae028e5fa350",
       "version_major": 2,
       "version_minor": 0
      },
      "text/plain": [
       "modules.json:   0%|          | 0.00/349 [00:00<?, ?B/s]"
      ]
     },
     "metadata": {},
     "output_type": "display_data"
    },
    {
     "data": {
      "application/vnd.jupyter.widget-view+json": {
       "model_id": "55a59175db49426ba2fccdd29cd53c02",
       "version_major": 2,
       "version_minor": 0
      },
      "text/plain": [
       "config_sentence_transformers.json:   0%|          | 0.00/116 [00:00<?, ?B/s]"
      ]
     },
     "metadata": {},
     "output_type": "display_data"
    },
    {
     "data": {
      "application/vnd.jupyter.widget-view+json": {
       "model_id": "a59bf74f500c484099573783fc55937f",
       "version_major": 2,
       "version_minor": 0
      },
      "text/plain": [
       "README.md:   0%|          | 0.00/10.6k [00:00<?, ?B/s]"
      ]
     },
     "metadata": {},
     "output_type": "display_data"
    },
    {
     "data": {
      "application/vnd.jupyter.widget-view+json": {
       "model_id": "1fc0ab81c39e46d7a021bedbfb376ffc",
       "version_major": 2,
       "version_minor": 0
      },
      "text/plain": [
       "sentence_bert_config.json:   0%|          | 0.00/53.0 [00:00<?, ?B/s]"
      ]
     },
     "metadata": {},
     "output_type": "display_data"
    },
    {
     "data": {
      "application/vnd.jupyter.widget-view+json": {
       "model_id": "4a03dee87a354672aafa604b4a16ea1a",
       "version_major": 2,
       "version_minor": 0
      },
      "text/plain": [
       "config.json:   0%|          | 0.00/571 [00:00<?, ?B/s]"
      ]
     },
     "metadata": {},
     "output_type": "display_data"
    },
    {
     "data": {
      "application/vnd.jupyter.widget-view+json": {
       "model_id": "0bf295c408e14f2f916529056b272e9f",
       "version_major": 2,
       "version_minor": 0
      },
      "text/plain": [
       "model.safetensors:   0%|          | 0.00/438M [00:00<?, ?B/s]"
      ]
     },
     "metadata": {},
     "output_type": "display_data"
    },
    {
     "data": {
      "application/vnd.jupyter.widget-view+json": {
       "model_id": "43f6c4920ccd4196aa3180dab49cd680",
       "version_major": 2,
       "version_minor": 0
      },
      "text/plain": [
       "tokenizer_config.json:   0%|          | 0.00/363 [00:00<?, ?B/s]"
      ]
     },
     "metadata": {},
     "output_type": "display_data"
    },
    {
     "data": {
      "application/vnd.jupyter.widget-view+json": {
       "model_id": "015b3b433c3c4036abd069aff1a2a45b",
       "version_major": 2,
       "version_minor": 0
      },
      "text/plain": [
       "vocab.txt:   0%|          | 0.00/232k [00:00<?, ?B/s]"
      ]
     },
     "metadata": {},
     "output_type": "display_data"
    },
    {
     "data": {
      "application/vnd.jupyter.widget-view+json": {
       "model_id": "d004165d277c4c1bb5540b29685e235f",
       "version_major": 2,
       "version_minor": 0
      },
      "text/plain": [
       "tokenizer.json:   0%|          | 0.00/466k [00:00<?, ?B/s]"
      ]
     },
     "metadata": {},
     "output_type": "display_data"
    },
    {
     "data": {
      "application/vnd.jupyter.widget-view+json": {
       "model_id": "a30e4d4274324240b6ca9d1935853b14",
       "version_major": 2,
       "version_minor": 0
      },
      "text/plain": [
       "special_tokens_map.json:   0%|          | 0.00/239 [00:00<?, ?B/s]"
      ]
     },
     "metadata": {},
     "output_type": "display_data"
    },
    {
     "data": {
      "application/vnd.jupyter.widget-view+json": {
       "model_id": "10ece691226c447e956dba3fe359dd0b",
       "version_major": 2,
       "version_minor": 0
      },
      "text/plain": [
       "1_Pooling/config.json:   0%|          | 0.00/190 [00:00<?, ?B/s]"
      ]
     },
     "metadata": {},
     "output_type": "display_data"
    }
   ],
   "source": [
    "from sentence_transformers import SentenceTransformer\n",
    "encoder = SentenceTransformer(\"all-mpnet-base-v2\")\n",
    "vectors = encoder.encode(df.text)"
   ]
  },
  {
   "cell_type": "code",
   "execution_count": 35,
   "id": "f553f2fa",
   "metadata": {},
   "outputs": [],
   "source": [
    "vectors.shape\n",
    "import numpy as np\n",
    "np.save(local_root_directory+'vectors.np',vectors)\n",
    "with open(local_root_directory+'vectors.np', 'wb') as f:\n",
    "    np.save(f, vectors)\n"
   ]
  },
  {
   "cell_type": "code",
   "execution_count": 36,
   "id": "e08c9709",
   "metadata": {},
   "outputs": [
    {
     "name": "stdout",
     "output_type": "stream",
     "text": [
      "(1071, 768)\n"
     ]
    }
   ],
   "source": [
    "with open(local_root_directory+'vectors.np', 'rb') as f:\n",
    "    vectors = np.load(f)\n",
    "print(vectors.shape)"
   ]
  },
  {
   "cell_type": "code",
   "execution_count": 37,
   "id": "e099bd6b",
   "metadata": {},
   "outputs": [],
   "source": [
    "import faiss\n",
    "dim = vectors.shape[1]\n",
    "index = faiss.IndexFlatL2(dim)"
   ]
  },
  {
   "cell_type": "code",
   "execution_count": 38,
   "id": "21f62ac1",
   "metadata": {},
   "outputs": [],
   "source": [
    "index.add(vectors)"
   ]
  },
  {
   "cell_type": "code",
   "execution_count": 40,
   "id": "87d6ce7d",
   "metadata": {},
   "outputs": [
    {
     "data": {
      "text/plain": [
       "(768,)"
      ]
     },
     "execution_count": 40,
     "metadata": {},
     "output_type": "execute_result"
    }
   ],
   "source": [
    "search_query = \"Is ADA earn a risk free strategy\"\n",
    "# search_query = \"looking for places to visit during the holidays\"\n",
    "# search_query = \"An apple a day keeps the doctor away\"\n",
    "vec = encoder.encode(search_query)\n",
    "vec.shape"
   ]
  },
  {
   "cell_type": "code",
   "execution_count": 41,
   "id": "655c4343",
   "metadata": {},
   "outputs": [
    {
     "data": {
      "text/plain": [
       "(1, 768)"
      ]
     },
     "execution_count": 41,
     "metadata": {},
     "output_type": "execute_result"
    }
   ],
   "source": [
    "svec = np.array(vec).reshape(1,-1)\n",
    "svec.shape"
   ]
  },
  {
   "cell_type": "code",
   "execution_count": 43,
   "id": "78a04a34",
   "metadata": {},
   "outputs": [
    {
     "data": {
      "text/plain": [
       "array([[0.72165227, 0.72965634]], dtype=float32)"
      ]
     },
     "execution_count": 43,
     "metadata": {},
     "output_type": "execute_result"
    }
   ],
   "source": [
    "distances, I = index.search(svec, k=2)\n",
    "distances"
   ]
  },
  {
   "cell_type": "code",
   "execution_count": 44,
   "id": "270ec423",
   "metadata": {},
   "outputs": [
    {
     "data": {
      "text/plain": [
       "[48, 40]"
      ]
     },
     "execution_count": 44,
     "metadata": {},
     "output_type": "execute_result"
    }
   ],
   "source": [
    "row_indices = I.tolist()[0]\n",
    "row_indices"
   ]
  },
  {
   "cell_type": "code",
   "execution_count": 45,
   "id": "60ffc950",
   "metadata": {},
   "outputs": [
    {
     "data": {
      "text/html": [
       "<div>\n",
       "<style scoped>\n",
       "    .dataframe tbody tr th:only-of-type {\n",
       "        vertical-align: middle;\n",
       "    }\n",
       "\n",
       "    .dataframe tbody tr th {\n",
       "        vertical-align: top;\n",
       "    }\n",
       "\n",
       "    .dataframe thead th {\n",
       "        text-align: right;\n",
       "    }\n",
       "</style>\n",
       "<table border=\"1\" class=\"dataframe\">\n",
       "  <thead>\n",
       "    <tr style=\"text-align: right;\">\n",
       "      <th></th>\n",
       "      <th>text</th>\n",
       "      <th>source</th>\n",
       "    </tr>\n",
       "  </thead>\n",
       "  <tbody>\n",
       "    <tr>\n",
       "      <th>48</th>\n",
       "      <td>Last, ADA staking represents a very liquid yie...</td>\n",
       "      <td>https://swissborg.com/blog/ada-risk-report</td>\n",
       "    </tr>\n",
       "    <tr>\n",
       "      <th>40</th>\n",
       "      <td>Back to blog\\n\\nADA Earn Strategy - Risk Repor...</td>\n",
       "      <td>https://swissborg.com/blog/ada-risk-report</td>\n",
       "    </tr>\n",
       "  </tbody>\n",
       "</table>\n",
       "</div>"
      ],
      "text/plain": [
       "                                                 text  \\\n",
       "48  Last, ADA staking represents a very liquid yie...   \n",
       "40  Back to blog\\n\\nADA Earn Strategy - Risk Repor...   \n",
       "\n",
       "                                        source  \n",
       "48  https://swissborg.com/blog/ada-risk-report  \n",
       "40  https://swissborg.com/blog/ada-risk-report  "
      ]
     },
     "execution_count": 45,
     "metadata": {},
     "output_type": "execute_result"
    }
   ],
   "source": [
    "df.loc[row_indices]"
   ]
  },
  {
   "cell_type": "code",
   "execution_count": null,
   "id": "daf9628e",
   "metadata": {},
   "outputs": [],
   "source": []
  }
 ],
 "metadata": {
  "kernelspec": {
   "display_name": "Python 3 (ipykernel)",
   "language": "python",
   "name": "python3"
  },
  "language_info": {
   "codemirror_mode": {
    "name": "ipython",
    "version": 3
   },
   "file_extension": ".py",
   "mimetype": "text/x-python",
   "name": "python",
   "nbconvert_exporter": "python",
   "pygments_lexer": "ipython3",
   "version": "3.11.5"
  }
 },
 "nbformat": 4,
 "nbformat_minor": 5
}
